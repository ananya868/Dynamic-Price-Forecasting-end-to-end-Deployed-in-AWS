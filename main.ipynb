{
 "cells": [
  {
   "cell_type": "code",
   "execution_count": 1,
   "metadata": {},
   "outputs": [],
   "source": [
    "\"\"\"Importing Important libraries\"\"\"\n",
    "\n",
    "import pandas as pd \n",
    "import numpy as np\n",
    "import matplotlib.pyplot as plt \n",
    "import seaborn as sns \n",
    "import sklearn as sk\n",
    "from sklearn.model_selection import train_test_split "
   ]
  },
  {
   "cell_type": "code",
   "execution_count": 4,
   "metadata": {},
   "outputs": [],
   "source": [
    "\"\"\"Load Dataset\"\"\"\n",
    "data_class = pd.read_csv('raw_data/class.csv', sep='|')\n",
    "data_class.set_index('lineID', inplace=True, drop='True')\n",
    "data_items = pd.read_csv('raw_data/items.csv', sep='|')\n",
    "data_realclass = pd.read_csv('raw_data/realclass.csv', sep='|')\n",
    "data_train = pd.read_csv('raw_data/train.csv', sep='|')"
   ]
  },
  {
   "cell_type": "code",
   "execution_count": 5,
   "metadata": {},
   "outputs": [],
   "source": [
    "data_realclass.rename(columns={'revenue': 'actual_revenue'}, inplace= True)\n",
    "data_realclass.set_index('lineID', inplace=True, drop=True)"
   ]
  },
  {
   "cell_type": "code",
   "execution_count": 6,
   "metadata": {},
   "outputs": [],
   "source": [
    "# Merge Train and items df\n",
    "data_new = pd.merge(data_train, data_items, how='left', on='pid')\n",
    "\n",
    "# Merge for test data\n",
    "test_data = data_class.join(data_realclass, on='lineID', how='inner')\n",
    "test_data = pd.merge(test_data, data_items, how = 'left', on='pid')"
   ]
  },
  {
   "cell_type": "code",
   "execution_count": null,
   "metadata": {},
   "outputs": [],
   "source": [
    "# save_path = 'august_data/'\n",
    "# import os \n",
    "# os.makedirs(save_path)\n",
    "# data_new.to_csv(save_path + 'data_new.csv')"
   ]
  },
  {
   "cell_type": "code",
   "execution_count": 7,
   "metadata": {},
   "outputs": [
    {
     "data": {
      "text/plain": [
       "Index(['lineID', 'day', 'pid', 'adFlag', 'availability', 'competitorPrice',\n",
       "       'click', 'basket', 'order', 'price', 'revenue', 'manufacturer', 'group',\n",
       "       'content', 'unit', 'pharmForm', 'genericProduct', 'salesIndex',\n",
       "       'category', 'campaignIndex', 'rrp'],\n",
       "      dtype='object')"
      ]
     },
     "execution_count": 7,
     "metadata": {},
     "output_type": "execute_result"
    }
   ],
   "source": [
    "data_new.columns"
   ]
  },
  {
   "cell_type": "code",
   "execution_count": 8,
   "metadata": {},
   "outputs": [
    {
     "data": {
      "text/plain": [
       "Index(['day', 'pid', 'adFlag', 'availability', 'competitorPrice', 'price',\n",
       "       'actual_revenue', 'manufacturer', 'group', 'content', 'unit',\n",
       "       'pharmForm', 'genericProduct', 'salesIndex', 'category',\n",
       "       'campaignIndex', 'rrp'],\n",
       "      dtype='object')"
      ]
     },
     "execution_count": 8,
     "metadata": {},
     "output_type": "execute_result"
    }
   ],
   "source": [
    "test_data.columns"
   ]
  },
  {
   "cell_type": "code",
   "execution_count": 9,
   "metadata": {},
   "outputs": [],
   "source": [
    "\"\"\"Data Exploration and Feature Engineering\"\"\"\n",
    "\n",
    "df = data_new"
   ]
  },
  {
   "cell_type": "code",
   "execution_count": 10,
   "metadata": {},
   "outputs": [
    {
     "name": "stdout",
     "output_type": "stream",
     "text": [
      "<class 'pandas.core.frame.DataFrame'>\n",
      "RangeIndex: 2756003 entries, 0 to 2756002\n",
      "Data columns (total 21 columns):\n",
      " #   Column           Dtype  \n",
      "---  ------           -----  \n",
      " 0   lineID           int64  \n",
      " 1   day              int64  \n",
      " 2   pid              int64  \n",
      " 3   adFlag           int64  \n",
      " 4   availability     int64  \n",
      " 5   competitorPrice  float64\n",
      " 6   click            int64  \n",
      " 7   basket           int64  \n",
      " 8   order            int64  \n",
      " 9   price            float64\n",
      " 10  revenue          float64\n",
      " 11  manufacturer     int64  \n",
      " 12  group            object \n",
      " 13  content          object \n",
      " 14  unit             object \n",
      " 15  pharmForm        object \n",
      " 16  genericProduct   int64  \n",
      " 17  salesIndex       int64  \n",
      " 18  category         float64\n",
      " 19  campaignIndex    object \n",
      " 20  rrp              float64\n",
      "dtypes: float64(5), int64(11), object(5)\n",
      "memory usage: 441.6+ MB\n"
     ]
    }
   ],
   "source": [
    "df.info()"
   ]
  },
  {
   "cell_type": "code",
   "execution_count": 11,
   "metadata": {},
   "outputs": [],
   "source": [
    "df = df.drop(columns=['lineID', 'pid'])"
   ]
  },
  {
   "cell_type": "code",
   "execution_count": 12,
   "metadata": {},
   "outputs": [],
   "source": [
    "# Numerical and Categorical columns\n",
    "cat_cols = ['group', 'content', 'unit', 'pharmForm', 'campaignIndex']\n",
    "num_cols = [i for i in df.columns if i not in cat_cols]"
   ]
  },
  {
   "cell_type": "code",
   "execution_count": 13,
   "metadata": {},
   "outputs": [
    {
     "data": {
      "text/plain": [
       "['group', 'content', 'unit', 'pharmForm', 'campaignIndex']"
      ]
     },
     "execution_count": 13,
     "metadata": {},
     "output_type": "execute_result"
    }
   ],
   "source": [
    "cat_cols"
   ]
  },
  {
   "cell_type": "code",
   "execution_count": 14,
   "metadata": {},
   "outputs": [
    {
     "data": {
      "text/plain": [
       "['day',\n",
       " 'adFlag',\n",
       " 'availability',\n",
       " 'competitorPrice',\n",
       " 'click',\n",
       " 'basket',\n",
       " 'order',\n",
       " 'price',\n",
       " 'revenue',\n",
       " 'manufacturer',\n",
       " 'genericProduct',\n",
       " 'salesIndex',\n",
       " 'category',\n",
       " 'rrp']"
      ]
     },
     "execution_count": 14,
     "metadata": {},
     "output_type": "execute_result"
    }
   ],
   "source": [
    "num_cols"
   ]
  },
  {
   "cell_type": "code",
   "execution_count": 15,
   "metadata": {},
   "outputs": [
    {
     "data": {
      "text/plain": [
       "'Handling Missing Values'"
      ]
     },
     "execution_count": 15,
     "metadata": {},
     "output_type": "execute_result"
    }
   ],
   "source": [
    "\"\"\"Handling Missing Values\"\"\"\n",
    "# In Numerical columns"
   ]
  },
  {
   "cell_type": "code",
   "execution_count": 16,
   "metadata": {},
   "outputs": [
    {
     "data": {
      "text/plain": [
       "day                     0\n",
       "adFlag                  0\n",
       "availability            0\n",
       "competitorPrice    100687\n",
       "click                   0\n",
       "basket                  0\n",
       "order                   0\n",
       "price                   0\n",
       "revenue                 0\n",
       "manufacturer            0\n",
       "genericProduct          0\n",
       "salesIndex              0\n",
       "category            87394\n",
       "rrp                     0\n",
       "dtype: int64"
      ]
     },
     "execution_count": 16,
     "metadata": {},
     "output_type": "execute_result"
    }
   ],
   "source": [
    "df[num_cols].isna().sum()"
   ]
  },
  {
   "cell_type": "code",
   "execution_count": 17,
   "metadata": {},
   "outputs": [],
   "source": [
    "# So, there are two columns with extreme null values \n",
    "df['price_diff'] = df['price'] - df['competitorPrice']"
   ]
  },
  {
   "cell_type": "code",
   "execution_count": 18,
   "metadata": {},
   "outputs": [
    {
     "name": "stdout",
     "output_type": "stream",
     "text": [
      "Mean Difference bw price and comp price:  0.8650459342692172\n",
      "\n",
      "Info:  count    2.655316e+06\n",
      "mean     8.650459e-01\n",
      "std      3.949754e+00\n",
      "min     -1.423900e+02\n",
      "25%     -4.000000e-02\n",
      "50%      7.300000e-01\n",
      "75%      1.850000e+00\n",
      "max      1.368700e+02\n",
      "Name: price_diff, dtype: float64\n"
     ]
    }
   ],
   "source": [
    "print(\"Mean Difference bw price and comp price: \", df['price_diff'].mean())\n",
    "print(\"\\nInfo: \", df['price_diff'].describe())"
   ]
  },
  {
   "cell_type": "code",
   "execution_count": 19,
   "metadata": {},
   "outputs": [],
   "source": [
    "# Since the difference is just 0.86 we can select a value like 1 or 2 to impute the remaining ones \n",
    "\n",
    "# We ll fill the missing values for comp price with 1\n",
    "df['compPrice'] = df['competitorPrice'].fillna(df['price'] - 1)"
   ]
  },
  {
   "cell_type": "code",
   "execution_count": 20,
   "metadata": {},
   "outputs": [
    {
     "name": "stdout",
     "output_type": "stream",
     "text": [
      "Null values:  87394\n"
     ]
    },
    {
     "data": {
      "image/png": "[encoded data removed]",
      "text/plain": [
       "<Figure size 640x480 with 1 Axes>"
      ]
     },
     "metadata": {},
     "output_type": "display_data"
    }
   ],
   "source": [
    "# Now for Category Column \n",
    "print(\"Null values: \", df['category'].isna().sum())\n",
    "# Create a histogram\n",
    "plt.hist(df['category'])  # You can also use df['column_name']\n",
    "\n",
    "# Customize the plot (optional)\n",
    "plt.xlabel('Category')  # Label for the x-axis\n",
    "plt.ylabel('Data')  # Label for the y-axis\n",
    "plt.title('Distribution of {}'.format('category'))  # Plot title\n",
    "plt.grid(True)  # Add gridlines for better readability\n",
    "\n",
    "# Display the plot\n",
    "plt.show()"
   ]
  },
  {
   "cell_type": "code",
   "execution_count": 21,
   "metadata": {},
   "outputs": [],
   "source": [
    "# So there are 400+ unique categories\n",
    "# #1 We can randomly select (we assume these fall on these cats)\n",
    "# #2 We can drop the rows \n",
    "\n",
    "# We choose to remove the rows \n",
    "df = df.dropna(subset=['category'])"
   ]
  },
  {
   "cell_type": "code",
   "execution_count": 22,
   "metadata": {},
   "outputs": [
    {
     "data": {
      "text/plain": [
       "(2668609, 21)"
      ]
     },
     "execution_count": 22,
     "metadata": {},
     "output_type": "execute_result"
    }
   ],
   "source": [
    "df.shape"
   ]
  },
  {
   "cell_type": "code",
   "execution_count": 23,
   "metadata": {},
   "outputs": [
    {
     "data": {
      "text/plain": [
       "Index(['day', 'adFlag', 'availability', 'competitorPrice', 'click', 'basket',\n",
       "       'order', 'price', 'revenue', 'manufacturer', 'group', 'content', 'unit',\n",
       "       'pharmForm', 'genericProduct', 'salesIndex', 'category',\n",
       "       'campaignIndex', 'rrp', 'price_diff', 'compPrice'],\n",
       "      dtype='object')"
      ]
     },
     "execution_count": 23,
     "metadata": {},
     "output_type": "execute_result"
    }
   ],
   "source": [
    "df.columns"
   ]
  },
  {
   "cell_type": "code",
   "execution_count": 24,
   "metadata": {},
   "outputs": [],
   "source": [
    "df = df.drop(columns=['competitorPrice', 'price_diff'])"
   ]
  },
  {
   "cell_type": "markdown",
   "metadata": {},
   "source": [
    "Hurray! We handled missing values!"
   ]
  },
  {
   "cell_type": "code",
   "execution_count": 25,
   "metadata": {},
   "outputs": [
    {
     "data": {
      "text/plain": [
       "['group', 'content', 'unit', 'pharmForm', 'campaignIndex']"
      ]
     },
     "execution_count": 25,
     "metadata": {},
     "output_type": "execute_result"
    }
   ],
   "source": [
    "\"\"\"Handling missing vals in Categorical columns\"\"\"\n",
    "\n",
    "cat_cols"
   ]
  },
  {
   "cell_type": "code",
   "execution_count": 26,
   "metadata": {},
   "outputs": [
    {
     "data": {
      "text/plain": [
       "group                  0\n",
       "content                0\n",
       "unit                   0\n",
       "pharmForm         181456\n",
       "campaignIndex    2202931\n",
       "dtype: int64"
      ]
     },
     "execution_count": 26,
     "metadata": {},
     "output_type": "execute_result"
    }
   ],
   "source": [
    "df[cat_cols].isna().sum()"
   ]
  },
  {
   "cell_type": "code",
   "execution_count": 27,
   "metadata": {},
   "outputs": [],
   "source": [
    "vc = df.pharmForm.value_counts()\n",
    "top_five_cols = vc.head(5) "
   ]
  },
  {
   "cell_type": "code",
   "execution_count": 33,
   "metadata": {},
   "outputs": [
    {
     "name": "stdout",
     "output_type": "stream",
     "text": [
      "Number of categories in vc: 227\n"
     ]
    },
    {
     "data": {
      "text/plain": [
       "pharmForm\n",
       "TAB    249499\n",
       "CRE    189935\n",
       "FTA    179827\n",
       "GEL    144812\n",
       "KAP    131536\n",
       "        ...  \n",
       "Saf         6\n",
       "Lut         5\n",
       "DES         4\n",
       "Wka         3\n",
       "Kmr         3\n",
       "Name: count, Length: 227, dtype: int64"
      ]
     },
     "execution_count": 33,
     "metadata": {},
     "output_type": "execute_result"
    }
   ],
   "source": [
    "print(f\"Number of categories in vc: {len(vc)}\")\n",
    "vc"
   ]
  },
  {
   "cell_type": "code",
   "execution_count": 28,
   "metadata": {},
   "outputs": [
    {
     "data": {
      "text/plain": [
       "pharmForm\n",
       "TAB    249499\n",
       "CRE    189935\n",
       "FTA    179827\n",
       "GEL    144812\n",
       "KAP    131536\n",
       "Name: count, dtype: int64"
      ]
     },
     "execution_count": 28,
     "metadata": {},
     "output_type": "execute_result"
    }
   ],
   "source": [
    "top_five_cols"
   ]
  },
  {
   "cell_type": "code",
   "execution_count": 29,
   "metadata": {},
   "outputs": [
    {
     "data": {
      "image/png": "[encoded data removed]",
      "text/plain": [
       "<Figure size 640x480 with 1 Axes>"
      ]
     },
     "metadata": {},
     "output_type": "display_data"
    }
   ],
   "source": [
    "# pharmForm\n",
    "df['pharmForm']\n",
    "\n",
    "pharm_counts = df.pharmForm.value_counts()\n",
    "# plt.figure(figsize=(10, 5))\n",
    "plt.bar(top_five_cols.index, top_five_cols.values)\n",
    "\n",
    "plt.xlabel('pharmForm')\n",
    "plt.ylabel('Freq')\n",
    "plt.title(f\"Distribution of pharmForm\")\n",
    "plt.show()"
   ]
  },
  {
   "cell_type": "code",
   "execution_count": 34,
   "metadata": {},
   "outputs": [
    {
     "data": {
      "text/plain": [
       "'TAB'"
      ]
     },
     "execution_count": 34,
     "metadata": {},
     "output_type": "execute_result"
    }
   ],
   "source": [
    "df['pharmForm'].mode()[0]"
   ]
  },
  {
   "cell_type": "code",
   "execution_count": 35,
   "metadata": {},
   "outputs": [],
   "source": [
    "# fill this column with mode\n",
    "df['pharmForm'].fillna(df['pharmForm'].mode()[0], inplace = True)"
   ]
  },
  {
   "cell_type": "code",
   "execution_count": 36,
   "metadata": {},
   "outputs": [
    {
     "name": "stdout",
     "output_type": "stream",
     "text": [
      "null 2202931\n"
     ]
    }
   ],
   "source": [
    "\"\"\"Campaign Index\"\"\"\n",
    "print(\"null\", df['campaignIndex'].isna().sum())\n",
    "\n",
    "# Since there are more than 90% missing vals, we need to drop this column \n",
    "df.drop(columns=['campaignIndex'], inplace= True)"
   ]
  },
  {
   "cell_type": "code",
   "execution_count": 37,
   "metadata": {},
   "outputs": [
    {
     "data": {
      "text/plain": [
       "Index(['day', 'adFlag', 'availability', 'click', 'basket', 'order', 'price',\n",
       "       'revenue', 'manufacturer', 'group', 'content', 'unit', 'pharmForm',\n",
       "       'genericProduct', 'salesIndex', 'category', 'rrp', 'compPrice'],\n",
       "      dtype='object')"
      ]
     },
     "execution_count": 37,
     "metadata": {},
     "output_type": "execute_result"
    }
   ],
   "source": [
    "df.columns"
   ]
  },
  {
   "cell_type": "code",
   "execution_count": 38,
   "metadata": {},
   "outputs": [
    {
     "data": {
      "text/plain": [
       "['group', 'content', 'unit', 'pharmForm', 'campaignIndex']"
      ]
     },
     "execution_count": 38,
     "metadata": {},
     "output_type": "execute_result"
    }
   ],
   "source": [
    "cat_cols"
   ]
  },
  {
   "cell_type": "code",
   "execution_count": 39,
   "metadata": {},
   "outputs": [
    {
     "data": {
      "text/plain": [
       "'campaignIndex'"
      ]
     },
     "execution_count": 39,
     "metadata": {},
     "output_type": "execute_result"
    }
   ],
   "source": [
    "cat_cols.pop(-1)"
   ]
  },
  {
   "cell_type": "code",
   "execution_count": 40,
   "metadata": {},
   "outputs": [
    {
     "data": {
      "text/plain": [
       "group        0\n",
       "content      0\n",
       "unit         0\n",
       "pharmForm    0\n",
       "dtype: int64"
      ]
     },
     "execution_count": 40,
     "metadata": {},
     "output_type": "execute_result"
    }
   ],
   "source": [
    "df[cat_cols].isna().sum()"
   ]
  },
  {
   "cell_type": "markdown",
   "metadata": {},
   "source": [
    "TADAAAA!!! handled all missing values \n",
    "\n",
    "-> lets save this dataframe "
   ]
  },
  {
   "cell_type": "code",
   "execution_count": 41,
   "metadata": {},
   "outputs": [],
   "source": [
    "df.to_csv('august_data/df_missing_value_handled.csv')"
   ]
  },
  {
   "cell_type": "code",
   "execution_count": 42,
   "metadata": {},
   "outputs": [
    {
     "data": {
      "text/plain": [
       "day               0\n",
       "adFlag            0\n",
       "availability      0\n",
       "click             0\n",
       "basket            0\n",
       "order             0\n",
       "price             0\n",
       "revenue           0\n",
       "manufacturer      0\n",
       "group             0\n",
       "content           0\n",
       "unit              0\n",
       "pharmForm         0\n",
       "genericProduct    0\n",
       "salesIndex        0\n",
       "category          0\n",
       "rrp               0\n",
       "compPrice         0\n",
       "dtype: int64"
      ]
     },
     "execution_count": 42,
     "metadata": {},
     "output_type": "execute_result"
    }
   ],
   "source": [
    "df.isna().sum()"
   ]
  },
  {
   "cell_type": "markdown",
   "metadata": {},
   "source": [
    "---\n",
    "### **EDA enters the chat**"
   ]
  },
  {
   "cell_type": "code",
   "execution_count": 48,
   "metadata": {},
   "outputs": [],
   "source": [
    "df = pd.read_csv('august_data/df_missing_value_handled.csv', index_col=0)"
   ]
  },
  {
   "cell_type": "code",
   "execution_count": 49,
   "metadata": {},
   "outputs": [
    {
     "data": {
      "text/html": [
       "<div>\n",
       "<style scoped>\n",
       "    .dataframe tbody tr th:only-of-type {\n",
       "        vertical-align: middle;\n",
       "    }\n",
       "\n",
       "    .dataframe tbody tr th {\n",
       "        vertical-align: top;\n",
       "    }\n",
       "\n",
       "    .dataframe thead th {\n",
       "        text-align: right;\n",
       "    }\n",
       "</style>\n",
       "<table border=\"1\" class=\"dataframe\">\n",
       "  <thead>\n",
       "    <tr style=\"text-align: right;\">\n",
       "      <th></th>\n",
       "      <th>day</th>\n",
       "      <th>adFlag</th>\n",
       "      <th>availability</th>\n",
       "      <th>click</th>\n",
       "      <th>basket</th>\n",
       "      <th>order</th>\n",
       "      <th>price</th>\n",
       "      <th>revenue</th>\n",
       "      <th>manufacturer</th>\n",
       "      <th>group</th>\n",
       "      <th>content</th>\n",
       "      <th>unit</th>\n",
       "      <th>pharmForm</th>\n",
       "      <th>genericProduct</th>\n",
       "      <th>salesIndex</th>\n",
       "      <th>category</th>\n",
       "      <th>rrp</th>\n",
       "      <th>compPrice</th>\n",
       "    </tr>\n",
       "  </thead>\n",
       "  <tbody>\n",
       "    <tr>\n",
       "      <th>0</th>\n",
       "      <td>1</td>\n",
       "      <td>0</td>\n",
       "      <td>2</td>\n",
       "      <td>1</td>\n",
       "      <td>0</td>\n",
       "      <td>0</td>\n",
       "      <td>16.89</td>\n",
       "      <td>0.0</td>\n",
       "      <td>255</td>\n",
       "      <td>2FOI</td>\n",
       "      <td>50</td>\n",
       "      <td>ML</td>\n",
       "      <td>TRO</td>\n",
       "      <td>0</td>\n",
       "      <td>40</td>\n",
       "      <td>193.0</td>\n",
       "      <td>18.25</td>\n",
       "      <td>14.60</td>\n",
       "    </tr>\n",
       "    <tr>\n",
       "      <th>1</th>\n",
       "      <td>1</td>\n",
       "      <td>1</td>\n",
       "      <td>1</td>\n",
       "      <td>0</td>\n",
       "      <td>1</td>\n",
       "      <td>0</td>\n",
       "      <td>8.75</td>\n",
       "      <td>0.0</td>\n",
       "      <td>18</td>\n",
       "      <td>1COJ0FIK</td>\n",
       "      <td>50</td>\n",
       "      <td>ST</td>\n",
       "      <td>TAB</td>\n",
       "      <td>1</td>\n",
       "      <td>40</td>\n",
       "      <td>66.0</td>\n",
       "      <td>18.81</td>\n",
       "      <td>8.57</td>\n",
       "    </tr>\n",
       "    <tr>\n",
       "      <th>2</th>\n",
       "      <td>1</td>\n",
       "      <td>0</td>\n",
       "      <td>1</td>\n",
       "      <td>0</td>\n",
       "      <td>1</td>\n",
       "      <td>0</td>\n",
       "      <td>16.06</td>\n",
       "      <td>0.0</td>\n",
       "      <td>41</td>\n",
       "      <td>22OI7</td>\n",
       "      <td>2X50</td>\n",
       "      <td>ML</td>\n",
       "      <td>STI</td>\n",
       "      <td>0</td>\n",
       "      <td>53</td>\n",
       "      <td>40.0</td>\n",
       "      <td>18.48</td>\n",
       "      <td>14.77</td>\n",
       "    </tr>\n",
       "  </tbody>\n",
       "</table>\n",
       "</div>"
      ],
      "text/plain": [
       "   day  adFlag  availability  click  basket  order  price  revenue  \\\n",
       "0    1       0             2      1       0      0  16.89      0.0   \n",
       "1    1       1             1      0       1      0   8.75      0.0   \n",
       "2    1       0             1      0       1      0  16.06      0.0   \n",
       "\n",
       "   manufacturer     group content unit pharmForm  genericProduct  salesIndex  \\\n",
       "0           255      2FOI      50   ML       TRO               0          40   \n",
       "1            18  1COJ0FIK      50   ST       TAB               1          40   \n",
       "2            41     22OI7    2X50   ML       STI               0          53   \n",
       "\n",
       "   category    rrp  compPrice  \n",
       "0     193.0  18.25      14.60  \n",
       "1      66.0  18.81       8.57  \n",
       "2      40.0  18.48      14.77  "
      ]
     },
     "execution_count": 49,
     "metadata": {},
     "output_type": "execute_result"
    }
   ],
   "source": [
    "df.head(3)"
   ]
  },
  {
   "cell_type": "code",
   "execution_count": 50,
   "metadata": {},
   "outputs": [],
   "source": [
    "# Numerical and Categorical columns\n",
    "cat_cols = ['group', 'content', 'unit', 'pharmForm']\n",
    "num_cols = [i for i in df.columns if i not in cat_cols]"
   ]
  },
  {
   "cell_type": "code",
   "execution_count": 51,
   "metadata": {},
   "outputs": [],
   "source": [
    "# df.drop(columns=['Unnamed: 0'], inplace=True)"
   ]
  },
  {
   "cell_type": "code",
   "execution_count": 52,
   "metadata": {},
   "outputs": [
    {
     "data": {
      "text/plain": [
       "['adFlag',\n",
       " 'availability',\n",
       " 'click',\n",
       " 'basket',\n",
       " 'order',\n",
       " 'price',\n",
       " 'revenue',\n",
       " 'manufacturer',\n",
       " 'genericProduct',\n",
       " 'salesIndex',\n",
       " 'category',\n",
       " 'rrp',\n",
       " 'compPrice']"
      ]
     },
     "execution_count": 52,
     "metadata": {},
     "output_type": "execute_result"
    }
   ],
   "source": [
    "num_cols = num_cols[1:]\n",
    "num_cols"
   ]
  },
  {
   "cell_type": "code",
   "execution_count": 12,
   "metadata": {},
   "outputs": [
    {
     "data": {
      "image/png": "[encoded data removed]",
      "text/plain": [
       "<Figure size 2000x1000 with 1 Axes>"
      ]
     },
     "metadata": {},
     "output_type": "display_data"
    }
   ],
   "source": [
    "\"\"\"Outliers\"\"\"\n",
    "# We need to find outliers in numerical cols \n",
    "\n",
    "# Boxplot for numerical columns\n",
    "plt.figure(figsize=(20, 10))\n",
    "sns.boxplot(data=df[num_cols])\n",
    "plt.show()"
   ]
  },
  {
   "cell_type": "code",
   "execution_count": 53,
   "metadata": {},
   "outputs": [
    {
     "data": {
      "image/png": "[encoded data removed]",
      "text/plain": [
       "<Figure size 640x480 with 1 Axes>"
      ]
     },
     "metadata": {},
     "output_type": "display_data"
    }
   ],
   "source": [
    "# Separate box plot for cols with low values \n",
    "sns.boxplot(data = df[['adFlag', 'availability', 'click', 'basket', 'order', 'genericProduct']])\n",
    "plt.show()\n",
    "# We wont consider this"
   ]
  },
  {
   "cell_type": "code",
   "execution_count": 54,
   "metadata": {},
   "outputs": [
    {
     "data": {
      "image/png": "[encoded data removed]",
      "text/plain": [
       "<Figure size 640x480 with 1 Axes>"
      ]
     },
     "metadata": {},
     "output_type": "display_data"
    }
   ],
   "source": [
    "outlier_cols = ['price', 'revenue', 'manufacturer', 'category', 'rrp', 'compPrice']\n",
    "\n",
    "sns.boxplot(data = df[outlier_cols])\n",
    "plt.show()"
   ]
  },
  {
   "cell_type": "code",
   "execution_count": 55,
   "metadata": {},
   "outputs": [],
   "source": [
    "import numpy as np\n",
    "\n",
    "def get_outliers(data, whisker_factor=1.5):\n",
    "  q1 = np.percentile(data, 25)\n",
    "  q3 = np.percentile(data, 75)\n",
    "  iqr = q3 - q1\n",
    "  lower_whisker = q1 - whisker_factor * iqr\n",
    "  upper_whisker = q3 + whisker_factor * iqr\n",
    "  outliers = [x for x in data if x < lower_whisker or x > upper_whisker]\n",
    "  return outliers, len(outliers), lower_whisker, upper_whisker\n"
   ]
  },
  {
   "cell_type": "code",
   "execution_count": 56,
   "metadata": {},
   "outputs": [],
   "source": [
    "# For revenue\n",
    "out, n_out, l, u = get_outliers(df['revenue'])"
   ]
  },
  {
   "cell_type": "code",
   "execution_count": 45,
   "metadata": {},
   "outputs": [],
   "source": [
    "# So, we cannot actually remove the outliers\n",
    "# one thing can be done that is transformation(log transformation to bring the data closer to mean)"
   ]
  },
  {
   "cell_type": "code",
   "execution_count": 57,
   "metadata": {},
   "outputs": [
    {
     "data": {
      "text/html": [
       "<div>\n",
       "<style scoped>\n",
       "    .dataframe tbody tr th:only-of-type {\n",
       "        vertical-align: middle;\n",
       "    }\n",
       "\n",
       "    .dataframe tbody tr th {\n",
       "        vertical-align: top;\n",
       "    }\n",
       "\n",
       "    .dataframe thead th {\n",
       "        text-align: right;\n",
       "    }\n",
       "</style>\n",
       "<table border=\"1\" class=\"dataframe\">\n",
       "  <thead>\n",
       "    <tr style=\"text-align: right;\">\n",
       "      <th></th>\n",
       "      <th>day</th>\n",
       "      <th>adFlag</th>\n",
       "      <th>availability</th>\n",
       "      <th>click</th>\n",
       "      <th>basket</th>\n",
       "      <th>order</th>\n",
       "      <th>price</th>\n",
       "      <th>revenue</th>\n",
       "      <th>manufacturer</th>\n",
       "      <th>group</th>\n",
       "      <th>content</th>\n",
       "      <th>unit</th>\n",
       "      <th>pharmForm</th>\n",
       "      <th>genericProduct</th>\n",
       "      <th>salesIndex</th>\n",
       "      <th>category</th>\n",
       "      <th>rrp</th>\n",
       "      <th>compPrice</th>\n",
       "    </tr>\n",
       "  </thead>\n",
       "  <tbody>\n",
       "    <tr>\n",
       "      <th>0</th>\n",
       "      <td>1</td>\n",
       "      <td>0</td>\n",
       "      <td>2</td>\n",
       "      <td>1</td>\n",
       "      <td>0</td>\n",
       "      <td>0</td>\n",
       "      <td>16.89</td>\n",
       "      <td>0.00</td>\n",
       "      <td>255</td>\n",
       "      <td>2FOI</td>\n",
       "      <td>50</td>\n",
       "      <td>ML</td>\n",
       "      <td>TRO</td>\n",
       "      <td>0</td>\n",
       "      <td>40</td>\n",
       "      <td>193.0</td>\n",
       "      <td>18.25</td>\n",
       "      <td>14.60</td>\n",
       "    </tr>\n",
       "    <tr>\n",
       "      <th>1</th>\n",
       "      <td>1</td>\n",
       "      <td>1</td>\n",
       "      <td>1</td>\n",
       "      <td>0</td>\n",
       "      <td>1</td>\n",
       "      <td>0</td>\n",
       "      <td>8.75</td>\n",
       "      <td>0.00</td>\n",
       "      <td>18</td>\n",
       "      <td>1COJ0FIK</td>\n",
       "      <td>50</td>\n",
       "      <td>ST</td>\n",
       "      <td>TAB</td>\n",
       "      <td>1</td>\n",
       "      <td>40</td>\n",
       "      <td>66.0</td>\n",
       "      <td>18.81</td>\n",
       "      <td>8.57</td>\n",
       "    </tr>\n",
       "    <tr>\n",
       "      <th>2</th>\n",
       "      <td>1</td>\n",
       "      <td>0</td>\n",
       "      <td>1</td>\n",
       "      <td>0</td>\n",
       "      <td>1</td>\n",
       "      <td>0</td>\n",
       "      <td>16.06</td>\n",
       "      <td>0.00</td>\n",
       "      <td>41</td>\n",
       "      <td>22OI7</td>\n",
       "      <td>2X50</td>\n",
       "      <td>ML</td>\n",
       "      <td>STI</td>\n",
       "      <td>0</td>\n",
       "      <td>53</td>\n",
       "      <td>40.0</td>\n",
       "      <td>18.48</td>\n",
       "      <td>14.77</td>\n",
       "    </tr>\n",
       "    <tr>\n",
       "      <th>3</th>\n",
       "      <td>1</td>\n",
       "      <td>1</td>\n",
       "      <td>1</td>\n",
       "      <td>0</td>\n",
       "      <td>0</td>\n",
       "      <td>1</td>\n",
       "      <td>6.55</td>\n",
       "      <td>6.55</td>\n",
       "      <td>52</td>\n",
       "      <td>18OZ00IS</td>\n",
       "      <td>60</td>\n",
       "      <td>G</td>\n",
       "      <td>GEL</td>\n",
       "      <td>0</td>\n",
       "      <td>40</td>\n",
       "      <td>25.0</td>\n",
       "      <td>9.31</td>\n",
       "      <td>6.59</td>\n",
       "    </tr>\n",
       "    <tr>\n",
       "      <th>4</th>\n",
       "      <td>1</td>\n",
       "      <td>0</td>\n",
       "      <td>1</td>\n",
       "      <td>0</td>\n",
       "      <td>0</td>\n",
       "      <td>1</td>\n",
       "      <td>4.14</td>\n",
       "      <td>4.14</td>\n",
       "      <td>90</td>\n",
       "      <td>20OI0</td>\n",
       "      <td>25X2</td>\n",
       "      <td>ST</td>\n",
       "      <td>KOM</td>\n",
       "      <td>0</td>\n",
       "      <td>53</td>\n",
       "      <td>14.0</td>\n",
       "      <td>8.13</td>\n",
       "      <td>4.39</td>\n",
       "    </tr>\n",
       "    <tr>\n",
       "      <th>...</th>\n",
       "      <td>...</td>\n",
       "      <td>...</td>\n",
       "      <td>...</td>\n",
       "      <td>...</td>\n",
       "      <td>...</td>\n",
       "      <td>...</td>\n",
       "      <td>...</td>\n",
       "      <td>...</td>\n",
       "      <td>...</td>\n",
       "      <td>...</td>\n",
       "      <td>...</td>\n",
       "      <td>...</td>\n",
       "      <td>...</td>\n",
       "      <td>...</td>\n",
       "      <td>...</td>\n",
       "      <td>...</td>\n",
       "      <td>...</td>\n",
       "      <td>...</td>\n",
       "    </tr>\n",
       "    <tr>\n",
       "      <th>2755998</th>\n",
       "      <td>92</td>\n",
       "      <td>0</td>\n",
       "      <td>1</td>\n",
       "      <td>1</td>\n",
       "      <td>0</td>\n",
       "      <td>0</td>\n",
       "      <td>18.64</td>\n",
       "      <td>0.00</td>\n",
       "      <td>917</td>\n",
       "      <td>22OIE</td>\n",
       "      <td>15</td>\n",
       "      <td>ML</td>\n",
       "      <td>LOT</td>\n",
       "      <td>0</td>\n",
       "      <td>53</td>\n",
       "      <td>15.0</td>\n",
       "      <td>24.75</td>\n",
       "      <td>22.41</td>\n",
       "    </tr>\n",
       "    <tr>\n",
       "      <th>2755999</th>\n",
       "      <td>92</td>\n",
       "      <td>0</td>\n",
       "      <td>1</td>\n",
       "      <td>1</td>\n",
       "      <td>0</td>\n",
       "      <td>0</td>\n",
       "      <td>43.18</td>\n",
       "      <td>0.00</td>\n",
       "      <td>18</td>\n",
       "      <td>14OH2F</td>\n",
       "      <td>200</td>\n",
       "      <td>ST</td>\n",
       "      <td>KAP</td>\n",
       "      <td>0</td>\n",
       "      <td>40</td>\n",
       "      <td>100.0</td>\n",
       "      <td>46.09</td>\n",
       "      <td>36.87</td>\n",
       "    </tr>\n",
       "    <tr>\n",
       "      <th>2756000</th>\n",
       "      <td>92</td>\n",
       "      <td>0</td>\n",
       "      <td>1</td>\n",
       "      <td>1</td>\n",
       "      <td>0</td>\n",
       "      <td>0</td>\n",
       "      <td>5.59</td>\n",
       "      <td>0.00</td>\n",
       "      <td>334</td>\n",
       "      <td>21OKF</td>\n",
       "      <td>25</td>\n",
       "      <td>ST</td>\n",
       "      <td>DRA</td>\n",
       "      <td>0</td>\n",
       "      <td>53</td>\n",
       "      <td>1.0</td>\n",
       "      <td>5.88</td>\n",
       "      <td>4.71</td>\n",
       "    </tr>\n",
       "    <tr>\n",
       "      <th>2756001</th>\n",
       "      <td>92</td>\n",
       "      <td>1</td>\n",
       "      <td>1</td>\n",
       "      <td>0</td>\n",
       "      <td>1</td>\n",
       "      <td>0</td>\n",
       "      <td>6.33</td>\n",
       "      <td>0.00</td>\n",
       "      <td>84</td>\n",
       "      <td>13OK0FOK</td>\n",
       "      <td>50</td>\n",
       "      <td>G</td>\n",
       "      <td>SAL</td>\n",
       "      <td>0</td>\n",
       "      <td>40</td>\n",
       "      <td>90.0</td>\n",
       "      <td>9.58</td>\n",
       "      <td>6.59</td>\n",
       "    </tr>\n",
       "    <tr>\n",
       "      <th>2756002</th>\n",
       "      <td>92</td>\n",
       "      <td>1</td>\n",
       "      <td>1</td>\n",
       "      <td>1</td>\n",
       "      <td>0</td>\n",
       "      <td>0</td>\n",
       "      <td>9.85</td>\n",
       "      <td>0.00</td>\n",
       "      <td>84</td>\n",
       "      <td>13OK0FOK</td>\n",
       "      <td>100</td>\n",
       "      <td>G</td>\n",
       "      <td>SAL</td>\n",
       "      <td>0</td>\n",
       "      <td>40</td>\n",
       "      <td>90.0</td>\n",
       "      <td>14.86</td>\n",
       "      <td>8.78</td>\n",
       "    </tr>\n",
       "  </tbody>\n",
       "</table>\n",
       "<p>2668609 rows × 18 columns</p>\n",
       "</div>"
      ],
      "text/plain": [
       "         day  adFlag  availability  click  basket  order  price  revenue  \\\n",
       "0          1       0             2      1       0      0  16.89     0.00   \n",
       "1          1       1             1      0       1      0   8.75     0.00   \n",
       "2          1       0             1      0       1      0  16.06     0.00   \n",
       "3          1       1             1      0       0      1   6.55     6.55   \n",
       "4          1       0             1      0       0      1   4.14     4.14   \n",
       "...      ...     ...           ...    ...     ...    ...    ...      ...   \n",
       "2755998   92       0             1      1       0      0  18.64     0.00   \n",
       "2755999   92       0             1      1       0      0  43.18     0.00   \n",
       "2756000   92       0             1      1       0      0   5.59     0.00   \n",
       "2756001   92       1             1      0       1      0   6.33     0.00   \n",
       "2756002   92       1             1      1       0      0   9.85     0.00   \n",
       "\n",
       "         manufacturer     group content unit pharmForm  genericProduct  \\\n",
       "0                 255      2FOI      50   ML       TRO               0   \n",
       "1                  18  1COJ0FIK      50   ST       TAB               1   \n",
       "2                  41     22OI7    2X50   ML       STI               0   \n",
       "3                  52  18OZ00IS      60    G       GEL               0   \n",
       "4                  90     20OI0    25X2   ST       KOM               0   \n",
       "...               ...       ...     ...  ...       ...             ...   \n",
       "2755998           917     22OIE      15   ML       LOT               0   \n",
       "2755999            18    14OH2F     200   ST       KAP               0   \n",
       "2756000           334     21OKF      25   ST       DRA               0   \n",
       "2756001            84  13OK0FOK      50    G       SAL               0   \n",
       "2756002            84  13OK0FOK     100    G       SAL               0   \n",
       "\n",
       "         salesIndex  category    rrp  compPrice  \n",
       "0                40     193.0  18.25      14.60  \n",
       "1                40      66.0  18.81       8.57  \n",
       "2                53      40.0  18.48      14.77  \n",
       "3                40      25.0   9.31       6.59  \n",
       "4                53      14.0   8.13       4.39  \n",
       "...             ...       ...    ...        ...  \n",
       "2755998          53      15.0  24.75      22.41  \n",
       "2755999          40     100.0  46.09      36.87  \n",
       "2756000          53       1.0   5.88       4.71  \n",
       "2756001          40      90.0   9.58       6.59  \n",
       "2756002          40      90.0  14.86       8.78  \n",
       "\n",
       "[2668609 rows x 18 columns]"
      ]
     },
     "execution_count": 57,
     "metadata": {},
     "output_type": "execute_result"
    }
   ],
   "source": [
    "df"
   ]
  },
  {
   "cell_type": "markdown",
   "metadata": {},
   "source": [
    "Exploratory Analysis\n",
    "\n",
    "> goal is to generate insights for feature selection (feature engineering)"
   ]
  },
  {
   "cell_type": "code",
   "execution_count": 58,
   "metadata": {},
   "outputs": [
    {
     "data": {
      "text/plain": [
       "Index(['day', 'adFlag', 'availability', 'click', 'basket', 'order', 'price',\n",
       "       'revenue', 'manufacturer', 'group', 'content', 'unit', 'pharmForm',\n",
       "       'genericProduct', 'salesIndex', 'category', 'rrp', 'compPrice'],\n",
       "      dtype='object')"
      ]
     },
     "execution_count": 58,
     "metadata": {},
     "output_type": "execute_result"
    }
   ],
   "source": [
    "\"\"\"Univariate Analysis\"\"\"\n",
    "\n",
    "df.columns"
   ]
  },
  {
   "cell_type": "code",
   "execution_count": 59,
   "metadata": {},
   "outputs": [],
   "source": [
    "# df[''].unique()\n",
    "\n",
    "uni_col = ['price', 'revenue', 'manufacturer', 'rrp', 'compPrice']"
   ]
  },
  {
   "cell_type": "code",
   "execution_count": 60,
   "metadata": {},
   "outputs": [
    {
     "data": {
      "image/png": "[encoded data removed]",
      "text/plain": [
       "<Figure size 640x480 with 1 Axes>"
      ]
     },
     "metadata": {},
     "output_type": "display_data"
    }
   ],
   "source": [
    "# Price\n",
    "sns.kdeplot(data = df, x = 'price', fill = True)\n",
    "plt.xlabel('Price')\n",
    "plt.ylabel('Density')\n",
    "plt.title('KDE plot for price')\n",
    "plt.grid(True)\n",
    "plt.show()"
   ]
  },
  {
   "cell_type": "code",
   "execution_count": 61,
   "metadata": {},
   "outputs": [],
   "source": [
    "# skewed \n",
    "# towards 0 \n",
    "price_info = dict(df['price'].describe())"
   ]
  },
  {
   "cell_type": "code",
   "execution_count": 62,
   "metadata": {},
   "outputs": [
    {
     "data": {
      "text/plain": [
       "{'count': 2668609.0,\n",
       " 'mean': 13.795504680528325,\n",
       " 'std': 13.502578960912816,\n",
       " 'min': 0.02,\n",
       " '25%': 5.96,\n",
       " '50%': 9.85,\n",
       " '75%': 16.45,\n",
       " 'max': 263.53}"
      ]
     },
     "execution_count": 62,
     "metadata": {},
     "output_type": "execute_result"
    }
   ],
   "source": [
    "price_info"
   ]
  },
  {
   "cell_type": "code",
   "execution_count": 63,
   "metadata": {},
   "outputs": [
    {
     "name": "stdout",
     "output_type": "stream",
     "text": [
      "length of price col: 2668609\n"
     ]
    }
   ],
   "source": [
    "# The 75th percentile value is 16.45\n",
    "# and after that the max value is 263\n",
    "print(f\"length of price col: {len(df['price'])}\")\n",
    "\n",
    "# ---> We get that most price values are below 16"
   ]
  },
  {
   "cell_type": "code",
   "execution_count": 76,
   "metadata": {},
   "outputs": [
    {
     "data": {
      "image/png": "[encoded data removed]",
      "text/plain": [
       "<Figure size 640x480 with 1 Axes>"
      ]
     },
     "metadata": {},
     "output_type": "display_data"
    }
   ],
   "source": [
    "# Revenue\n",
    "sns.kdeplot(data = df, x = 'revenue', fill = True)\n",
    "plt.xlabel('Revenue')\n",
    "plt.ylabel('Density')\n",
    "plt.title('KDE plot for revenue')\n",
    "plt.grid(True)\n",
    "plt.show()"
   ]
  },
  {
   "cell_type": "code",
   "execution_count": 64,
   "metadata": {},
   "outputs": [
    {
     "data": {
      "text/plain": [
       "{'count': 2668609.0,\n",
       " 'mean': 3.7835291719393878,\n",
       " 'std': 10.28077809578175,\n",
       " 'min': 0.0,\n",
       " '25%': 0.0,\n",
       " '50%': 0.0,\n",
       " '75%': 2.15,\n",
       " 'max': 887.7}"
      ]
     },
     "execution_count": 64,
     "metadata": {},
     "output_type": "execute_result"
    }
   ],
   "source": [
    "# bc pura skewed h \n",
    "rev_info = dict(df['revenue'].describe())\n",
    "rev_info "
   ]
  },
  {
   "cell_type": "code",
   "execution_count": 65,
   "metadata": {},
   "outputs": [
    {
     "data": {
      "text/plain": [
       "23209"
      ]
     },
     "execution_count": 65,
     "metadata": {},
     "output_type": "execute_result"
    }
   ],
   "source": [
    "len(df[df['revenue']> 50.15])\n",
    "# ---> Revenue is mostly around 1-10 for most part"
   ]
  },
  {
   "cell_type": "code",
   "execution_count": 66,
   "metadata": {},
   "outputs": [
    {
     "data": {
      "image/png": "[encoded data removed]",
      "text/plain": [
       "<Figure size 640x480 with 1 Axes>"
      ]
     },
     "metadata": {},
     "output_type": "display_data"
    }
   ],
   "source": [
    "# Revenue\n",
    "sns.kdeplot(data = df, x = 'manufacturer', fill = True)\n",
    "plt.xlabel('Man')\n",
    "plt.ylabel('Density')\n",
    "plt.title('KDE plot for Man')\n",
    "plt.grid(True)\n",
    "plt.show()"
   ]
  },
  {
   "cell_type": "code",
   "execution_count": 67,
   "metadata": {},
   "outputs": [
    {
     "data": {
      "text/plain": [
       "{'count': 2668609.0,\n",
       " 'mean': 171.19414159211783,\n",
       " 'std': 183.8312874030783,\n",
       " 'min': 1.0,\n",
       " '25%': 55.0,\n",
       " '50%': 103.0,\n",
       " '75%': 219.0,\n",
       " 'max': 1066.0}"
      ]
     },
     "execution_count": 67,
     "metadata": {},
     "output_type": "execute_result"
    }
   ],
   "source": [
    "man_info = dict(df['manufacturer'].describe())\n",
    "man_info"
   ]
  },
  {
   "cell_type": "markdown",
   "metadata": {},
   "source": [
    "---\n",
    "Bivariate Analysis"
   ]
  },
  {
   "cell_type": "code",
   "execution_count": 69,
   "metadata": {},
   "outputs": [
    {
     "data": {
      "text/html": [
       "<div>\n",
       "<style scoped>\n",
       "    .dataframe tbody tr th:only-of-type {\n",
       "        vertical-align: middle;\n",
       "    }\n",
       "\n",
       "    .dataframe tbody tr th {\n",
       "        vertical-align: top;\n",
       "    }\n",
       "\n",
       "    .dataframe thead th {\n",
       "        text-align: right;\n",
       "    }\n",
       "</style>\n",
       "<table border=\"1\" class=\"dataframe\">\n",
       "  <thead>\n",
       "    <tr style=\"text-align: right;\">\n",
       "      <th></th>\n",
       "      <th>day</th>\n",
       "      <th>adFlag</th>\n",
       "      <th>availability</th>\n",
       "      <th>click</th>\n",
       "      <th>basket</th>\n",
       "      <th>order</th>\n",
       "      <th>price</th>\n",
       "      <th>revenue</th>\n",
       "      <th>manufacturer</th>\n",
       "      <th>group</th>\n",
       "      <th>content</th>\n",
       "      <th>unit</th>\n",
       "      <th>pharmForm</th>\n",
       "      <th>genericProduct</th>\n",
       "      <th>salesIndex</th>\n",
       "      <th>category</th>\n",
       "      <th>rrp</th>\n",
       "      <th>compPrice</th>\n",
       "    </tr>\n",
       "  </thead>\n",
       "  <tbody>\n",
       "    <tr>\n",
       "      <th>0</th>\n",
       "      <td>1</td>\n",
       "      <td>0</td>\n",
       "      <td>2</td>\n",
       "      <td>1</td>\n",
       "      <td>0</td>\n",
       "      <td>0</td>\n",
       "      <td>16.89</td>\n",
       "      <td>0.00</td>\n",
       "      <td>255</td>\n",
       "      <td>2FOI</td>\n",
       "      <td>50</td>\n",
       "      <td>ML</td>\n",
       "      <td>TRO</td>\n",
       "      <td>0</td>\n",
       "      <td>40</td>\n",
       "      <td>193.0</td>\n",
       "      <td>18.25</td>\n",
       "      <td>14.60</td>\n",
       "    </tr>\n",
       "    <tr>\n",
       "      <th>1</th>\n",
       "      <td>1</td>\n",
       "      <td>1</td>\n",
       "      <td>1</td>\n",
       "      <td>0</td>\n",
       "      <td>1</td>\n",
       "      <td>0</td>\n",
       "      <td>8.75</td>\n",
       "      <td>0.00</td>\n",
       "      <td>18</td>\n",
       "      <td>1COJ0FIK</td>\n",
       "      <td>50</td>\n",
       "      <td>ST</td>\n",
       "      <td>TAB</td>\n",
       "      <td>1</td>\n",
       "      <td>40</td>\n",
       "      <td>66.0</td>\n",
       "      <td>18.81</td>\n",
       "      <td>8.57</td>\n",
       "    </tr>\n",
       "    <tr>\n",
       "      <th>2</th>\n",
       "      <td>1</td>\n",
       "      <td>0</td>\n",
       "      <td>1</td>\n",
       "      <td>0</td>\n",
       "      <td>1</td>\n",
       "      <td>0</td>\n",
       "      <td>16.06</td>\n",
       "      <td>0.00</td>\n",
       "      <td>41</td>\n",
       "      <td>22OI7</td>\n",
       "      <td>2X50</td>\n",
       "      <td>ML</td>\n",
       "      <td>STI</td>\n",
       "      <td>0</td>\n",
       "      <td>53</td>\n",
       "      <td>40.0</td>\n",
       "      <td>18.48</td>\n",
       "      <td>14.77</td>\n",
       "    </tr>\n",
       "    <tr>\n",
       "      <th>3</th>\n",
       "      <td>1</td>\n",
       "      <td>1</td>\n",
       "      <td>1</td>\n",
       "      <td>0</td>\n",
       "      <td>0</td>\n",
       "      <td>1</td>\n",
       "      <td>6.55</td>\n",
       "      <td>6.55</td>\n",
       "      <td>52</td>\n",
       "      <td>18OZ00IS</td>\n",
       "      <td>60</td>\n",
       "      <td>G</td>\n",
       "      <td>GEL</td>\n",
       "      <td>0</td>\n",
       "      <td>40</td>\n",
       "      <td>25.0</td>\n",
       "      <td>9.31</td>\n",
       "      <td>6.59</td>\n",
       "    </tr>\n",
       "    <tr>\n",
       "      <th>4</th>\n",
       "      <td>1</td>\n",
       "      <td>0</td>\n",
       "      <td>1</td>\n",
       "      <td>0</td>\n",
       "      <td>0</td>\n",
       "      <td>1</td>\n",
       "      <td>4.14</td>\n",
       "      <td>4.14</td>\n",
       "      <td>90</td>\n",
       "      <td>20OI0</td>\n",
       "      <td>25X2</td>\n",
       "      <td>ST</td>\n",
       "      <td>KOM</td>\n",
       "      <td>0</td>\n",
       "      <td>53</td>\n",
       "      <td>14.0</td>\n",
       "      <td>8.13</td>\n",
       "      <td>4.39</td>\n",
       "    </tr>\n",
       "    <tr>\n",
       "      <th>...</th>\n",
       "      <td>...</td>\n",
       "      <td>...</td>\n",
       "      <td>...</td>\n",
       "      <td>...</td>\n",
       "      <td>...</td>\n",
       "      <td>...</td>\n",
       "      <td>...</td>\n",
       "      <td>...</td>\n",
       "      <td>...</td>\n",
       "      <td>...</td>\n",
       "      <td>...</td>\n",
       "      <td>...</td>\n",
       "      <td>...</td>\n",
       "      <td>...</td>\n",
       "      <td>...</td>\n",
       "      <td>...</td>\n",
       "      <td>...</td>\n",
       "      <td>...</td>\n",
       "    </tr>\n",
       "    <tr>\n",
       "      <th>2668604</th>\n",
       "      <td>92</td>\n",
       "      <td>0</td>\n",
       "      <td>1</td>\n",
       "      <td>1</td>\n",
       "      <td>0</td>\n",
       "      <td>0</td>\n",
       "      <td>18.64</td>\n",
       "      <td>0.00</td>\n",
       "      <td>917</td>\n",
       "      <td>22OIE</td>\n",
       "      <td>15</td>\n",
       "      <td>ML</td>\n",
       "      <td>LOT</td>\n",
       "      <td>0</td>\n",
       "      <td>53</td>\n",
       "      <td>15.0</td>\n",
       "      <td>24.75</td>\n",
       "      <td>22.41</td>\n",
       "    </tr>\n",
       "    <tr>\n",
       "      <th>2668605</th>\n",
       "      <td>92</td>\n",
       "      <td>0</td>\n",
       "      <td>1</td>\n",
       "      <td>1</td>\n",
       "      <td>0</td>\n",
       "      <td>0</td>\n",
       "      <td>43.18</td>\n",
       "      <td>0.00</td>\n",
       "      <td>18</td>\n",
       "      <td>14OH2F</td>\n",
       "      <td>200</td>\n",
       "      <td>ST</td>\n",
       "      <td>KAP</td>\n",
       "      <td>0</td>\n",
       "      <td>40</td>\n",
       "      <td>100.0</td>\n",
       "      <td>46.09</td>\n",
       "      <td>36.87</td>\n",
       "    </tr>\n",
       "    <tr>\n",
       "      <th>2668606</th>\n",
       "      <td>92</td>\n",
       "      <td>0</td>\n",
       "      <td>1</td>\n",
       "      <td>1</td>\n",
       "      <td>0</td>\n",
       "      <td>0</td>\n",
       "      <td>5.59</td>\n",
       "      <td>0.00</td>\n",
       "      <td>334</td>\n",
       "      <td>21OKF</td>\n",
       "      <td>25</td>\n",
       "      <td>ST</td>\n",
       "      <td>DRA</td>\n",
       "      <td>0</td>\n",
       "      <td>53</td>\n",
       "      <td>1.0</td>\n",
       "      <td>5.88</td>\n",
       "      <td>4.71</td>\n",
       "    </tr>\n",
       "    <tr>\n",
       "      <th>2668607</th>\n",
       "      <td>92</td>\n",
       "      <td>1</td>\n",
       "      <td>1</td>\n",
       "      <td>0</td>\n",
       "      <td>1</td>\n",
       "      <td>0</td>\n",
       "      <td>6.33</td>\n",
       "      <td>0.00</td>\n",
       "      <td>84</td>\n",
       "      <td>13OK0FOK</td>\n",
       "      <td>50</td>\n",
       "      <td>G</td>\n",
       "      <td>SAL</td>\n",
       "      <td>0</td>\n",
       "      <td>40</td>\n",
       "      <td>90.0</td>\n",
       "      <td>9.58</td>\n",
       "      <td>6.59</td>\n",
       "    </tr>\n",
       "    <tr>\n",
       "      <th>2668608</th>\n",
       "      <td>92</td>\n",
       "      <td>1</td>\n",
       "      <td>1</td>\n",
       "      <td>1</td>\n",
       "      <td>0</td>\n",
       "      <td>0</td>\n",
       "      <td>9.85</td>\n",
       "      <td>0.00</td>\n",
       "      <td>84</td>\n",
       "      <td>13OK0FOK</td>\n",
       "      <td>100</td>\n",
       "      <td>G</td>\n",
       "      <td>SAL</td>\n",
       "      <td>0</td>\n",
       "      <td>40</td>\n",
       "      <td>90.0</td>\n",
       "      <td>14.86</td>\n",
       "      <td>8.78</td>\n",
       "    </tr>\n",
       "  </tbody>\n",
       "</table>\n",
       "<p>2668609 rows × 18 columns</p>\n",
       "</div>"
      ],
      "text/plain": [
       "         day  adFlag  availability  click  basket  order  price  revenue  \\\n",
       "0          1       0             2      1       0      0  16.89     0.00   \n",
       "1          1       1             1      0       1      0   8.75     0.00   \n",
       "2          1       0             1      0       1      0  16.06     0.00   \n",
       "3          1       1             1      0       0      1   6.55     6.55   \n",
       "4          1       0             1      0       0      1   4.14     4.14   \n",
       "...      ...     ...           ...    ...     ...    ...    ...      ...   \n",
       "2668604   92       0             1      1       0      0  18.64     0.00   \n",
       "2668605   92       0             1      1       0      0  43.18     0.00   \n",
       "2668606   92       0             1      1       0      0   5.59     0.00   \n",
       "2668607   92       1             1      0       1      0   6.33     0.00   \n",
       "2668608   92       1             1      1       0      0   9.85     0.00   \n",
       "\n",
       "         manufacturer     group content unit pharmForm  genericProduct  \\\n",
       "0                 255      2FOI      50   ML       TRO               0   \n",
       "1                  18  1COJ0FIK      50   ST       TAB               1   \n",
       "2                  41     22OI7    2X50   ML       STI               0   \n",
       "3                  52  18OZ00IS      60    G       GEL               0   \n",
       "4                  90     20OI0    25X2   ST       KOM               0   \n",
       "...               ...       ...     ...  ...       ...             ...   \n",
       "2668604           917     22OIE      15   ML       LOT               0   \n",
       "2668605            18    14OH2F     200   ST       KAP               0   \n",
       "2668606           334     21OKF      25   ST       DRA               0   \n",
       "2668607            84  13OK0FOK      50    G       SAL               0   \n",
       "2668608            84  13OK0FOK     100    G       SAL               0   \n",
       "\n",
       "         salesIndex  category    rrp  compPrice  \n",
       "0                40     193.0  18.25      14.60  \n",
       "1                40      66.0  18.81       8.57  \n",
       "2                53      40.0  18.48      14.77  \n",
       "3                40      25.0   9.31       6.59  \n",
       "4                53      14.0   8.13       4.39  \n",
       "...             ...       ...    ...        ...  \n",
       "2668604          53      15.0  24.75      22.41  \n",
       "2668605          40     100.0  46.09      36.87  \n",
       "2668606          53       1.0   5.88       4.71  \n",
       "2668607          40      90.0   9.58       6.59  \n",
       "2668608          40      90.0  14.86       8.78  \n",
       "\n",
       "[2668609 rows x 18 columns]"
      ]
     },
     "execution_count": 69,
     "metadata": {},
     "output_type": "execute_result"
    }
   ],
   "source": [
    "df = pd.read_csv('august_data/df_missing_value_handled.csv')\n",
    "df = df.drop(columns=['Unnamed: 0'])\n",
    "df"
   ]
  },
  {
   "cell_type": "code",
   "execution_count": 70,
   "metadata": {},
   "outputs": [
    {
     "data": {
      "text/plain": [
       "Index(['day', 'adFlag', 'availability', 'click', 'basket', 'order', 'price',\n",
       "       'revenue', 'manufacturer', 'group', 'content', 'unit', 'pharmForm',\n",
       "       'genericProduct', 'salesIndex', 'category', 'rrp', 'compPrice'],\n",
       "      dtype='object')"
      ]
     },
     "execution_count": 70,
     "metadata": {},
     "output_type": "execute_result"
    }
   ],
   "source": [
    "df.columns"
   ]
  },
  {
   "cell_type": "code",
   "execution_count": null,
   "metadata": {},
   "outputs": [],
   "source": []
  },
  {
   "cell_type": "code",
   "execution_count": 71,
   "metadata": {},
   "outputs": [
    {
     "data": {
      "image/png": "[encoded data removed]",
      "text/plain": [
       "<Figure size 640x480 with 1 Axes>"
      ]
     },
     "metadata": {},
     "output_type": "display_data"
    }
   ],
   "source": [
    "# uni_col = ['price', 'revenue', 'manufacturer', 'rrp', 'compPrice']\n",
    "\n",
    "# price vs revenue \n",
    "x = 'price'\n",
    "y = 'revenue'\n",
    "sns.scatterplot(data=df, x=x, y=y)\n",
    "plt.xlabel(x)\n",
    "plt.ylabel(y)\n",
    "plt.title(\"Scatter plot\")\n",
    "plt.grid(True)\n",
    "plt.show()"
   ]
  },
  {
   "cell_type": "code",
   "execution_count": 72,
   "metadata": {},
   "outputs": [
    {
     "name": "stdout",
     "output_type": "stream",
     "text": [
      "Correlation: 0.2214267246506234\n",
      "Correlation Seems acceptable\n"
     ]
    }
   ],
   "source": [
    "corr = df['price'].corr(df['revenue'])\n",
    "print(f\"Correlation: {corr}\")\n",
    "\n",
    "if abs(corr) >= 0.8: \n",
    "    print(\"Highly Correlated\")\n",
    "else:\n",
    "    print(\"Correlation Seems acceptable\")"
   ]
  },
  {
   "cell_type": "code",
   "execution_count": 73,
   "metadata": {},
   "outputs": [
    {
     "data": {
      "image/png": "[encoded data removed]",
      "text/plain": [
       "<Figure size 640x480 with 1 Axes>"
      ]
     },
     "metadata": {},
     "output_type": "display_data"
    }
   ],
   "source": [
    "# price vs revenue \n",
    "x = 'price'\n",
    "y = 'manufacturer'\n",
    "sns.scatterplot(data=df, x=x, y=y)\n",
    "plt.xlabel(x)\n",
    "plt.ylabel(y)\n",
    "plt.title(\"Scatter plot\")\n",
    "plt.grid(True)\n",
    "plt.show()\n"
   ]
  },
  {
   "cell_type": "code",
   "execution_count": 74,
   "metadata": {},
   "outputs": [
    {
     "data": {
      "text/plain": [
       "0.12108529028044274"
      ]
     },
     "execution_count": 74,
     "metadata": {},
     "output_type": "execute_result"
    }
   ],
   "source": [
    "corr = df['price'].corr(df['manufacturer'])\n",
    "corr"
   ]
  },
  {
   "cell_type": "code",
   "execution_count": 75,
   "metadata": {},
   "outputs": [
    {
     "data": {
      "text/plain": [
       "0.9354254433063806"
      ]
     },
     "execution_count": 75,
     "metadata": {},
     "output_type": "execute_result"
    }
   ],
   "source": [
    "corr = df['price'].corr(df['rrp'])\n",
    "corr"
   ]
  },
  {
   "cell_type": "code",
   "execution_count": 76,
   "metadata": {},
   "outputs": [
    {
     "data": {
      "text/plain": [
       "0.9577776992821155"
      ]
     },
     "execution_count": 76,
     "metadata": {},
     "output_type": "execute_result"
    }
   ],
   "source": [
    "df['price'].corr(df['compPrice'])"
   ]
  },
  {
   "cell_type": "code",
   "execution_count": 77,
   "metadata": {},
   "outputs": [
    {
     "data": {
      "text/plain": [
       "-0.007631032442371783"
      ]
     },
     "execution_count": 77,
     "metadata": {},
     "output_type": "execute_result"
    }
   ],
   "source": [
    "# two cols ar highly correlated \n",
    "df['revenue'].corr(df['manufacturer'])"
   ]
  },
  {
   "cell_type": "code",
   "execution_count": 78,
   "metadata": {},
   "outputs": [
    {
     "data": {
      "text/plain": [
       "0.22740090591109877"
      ]
     },
     "execution_count": 78,
     "metadata": {},
     "output_type": "execute_result"
    }
   ],
   "source": [
    "df['revenue'].corr(df['rrp'])"
   ]
  },
  {
   "cell_type": "code",
   "execution_count": 79,
   "metadata": {},
   "outputs": [
    {
     "data": {
      "text/plain": [
       "0.21496012802703182"
      ]
     },
     "execution_count": 79,
     "metadata": {},
     "output_type": "execute_result"
    }
   ],
   "source": [
    "df['revenue'].corr(df['compPrice'])"
   ]
  },
  {
   "cell_type": "code",
   "execution_count": 80,
   "metadata": {},
   "outputs": [
    {
     "data": {
      "text/plain": [
       "0.9659869242207028"
      ]
     },
     "execution_count": 80,
     "metadata": {},
     "output_type": "execute_result"
    }
   ],
   "source": [
    "df['rrp'].corr(df['compPrice'])"
   ]
  },
  {
   "cell_type": "code",
   "execution_count": 81,
   "metadata": {},
   "outputs": [
    {
     "data": {
      "text/plain": [
       "['Column price and rrp with value: 0.9354254433063806',\n",
       " 'Column price and compPrice with value: 0.9577776992821155',\n",
       " 'Column rrp and compPrice with value: 0.9659869242207028']"
      ]
     },
     "execution_count": 81,
     "metadata": {},
     "output_type": "execute_result"
    }
   ],
   "source": [
    "cols = ['price', 'revenue', 'manufacturer', 'rrp', 'compPrice']\n",
    "def is_correlated(cols): \n",
    "    \"\"\"\n",
    "    This function takes a list of columns and returns those with more than 90% correlation\n",
    "    Args:\n",
    "        cols: A list of column names. \n",
    "    Returns:\n",
    "        A list of highly correlated columns\n",
    "    \"\"\"\n",
    "    c_l = []\n",
    "    for i in range(len(cols)):\n",
    "        for j in range(i+1, len(cols)):\n",
    "            corr = df[cols[i]].corr(df[cols[j]])\n",
    "            if abs(corr) >= 0.9:\n",
    "                # print(f\"Columns {cols[i]} and {cols[j]} are highly correlated\") \n",
    "                s = f\"Column {cols[i]} and {cols[j]} with value: {corr}\"\n",
    "                c_l.append(s)\n",
    "    \n",
    "    return c_l\n",
    "\n",
    "\n",
    "# Usage \n",
    "cl = is_correlated(cols)\n",
    "cl"
   ]
  },
  {
   "cell_type": "code",
   "execution_count": null,
   "metadata": {},
   "outputs": [
    {
     "data": {
      "image/png": "[encoded data removed]",
      "text/plain": [
       "<Figure size 800x600 with 2 Axes>"
      ]
     },
     "metadata": {},
     "output_type": "display_data"
    }
   ],
   "source": [
    "plt.figure(figsize=(8, 6))\n",
    "sns.heatmap(df[cols].corr(), annot=True, cmap='coolwarm')\n",
    "plt.title(\"Correlation Matrix\")\n",
    "plt.show()"
   ]
  },
  {
   "cell_type": "markdown",
   "metadata": {},
   "source": [
    "Finishing up"
   ]
  },
  {
   "cell_type": "code",
   "execution_count": 27,
   "metadata": {},
   "outputs": [],
   "source": [
    "# Normalization\n",
    "# Min max \n",
    "# (val-min)/(max-min)\n",
    "# doesn't change the distribution \n",
    "\n",
    "# Standardization\n",
    "# change the distribution and tends the data to follow std normal dist\n",
    "# (val-mean)/std\n",
    "# centers the data around the mean "
   ]
  },
  {
   "cell_type": "code",
   "execution_count": 82,
   "metadata": {},
   "outputs": [
    {
     "data": {
      "text/plain": [
       "['group', 'content', 'unit', 'pharmForm']"
      ]
     },
     "execution_count": 82,
     "metadata": {},
     "output_type": "execute_result"
    }
   ],
   "source": [
    "\"\"\"Encoding Cat cols\"\"\"\n",
    "cat_cols "
   ]
  },
  {
   "cell_type": "code",
   "execution_count": 83,
   "metadata": {},
   "outputs": [
    {
     "name": "stdout",
     "output_type": "stream",
     "text": [
      "<class 'pandas.core.frame.DataFrame'>\n",
      "RangeIndex: 2668609 entries, 0 to 2668608\n",
      "Data columns (total 18 columns):\n",
      " #   Column          Dtype  \n",
      "---  ------          -----  \n",
      " 0   day             int64  \n",
      " 1   adFlag          int64  \n",
      " 2   availability    int64  \n",
      " 3   click           int64  \n",
      " 4   basket          int64  \n",
      " 5   order           int64  \n",
      " 6   price           float64\n",
      " 7   revenue         float64\n",
      " 8   manufacturer    int64  \n",
      " 9   group           object \n",
      " 10  content         object \n",
      " 11  unit            object \n",
      " 12  pharmForm       object \n",
      " 13  genericProduct  int64  \n",
      " 14  salesIndex      int64  \n",
      " 15  category        float64\n",
      " 16  rrp             float64\n",
      " 17  compPrice       float64\n",
      "dtypes: float64(5), int64(9), object(4)\n",
      "memory usage: 366.5+ MB\n"
     ]
    }
   ],
   "source": [
    "df.info()"
   ]
  },
  {
   "cell_type": "code",
   "execution_count": 84,
   "metadata": {},
   "outputs": [
    {
     "data": {
      "text/plain": [
       "Index(['day', 'adFlag', 'availability', 'click', 'basket', 'order', 'price',\n",
       "       'revenue', 'manufacturer', 'group', 'content', 'unit', 'pharmForm',\n",
       "       'genericProduct', 'salesIndex', 'category', 'rrp', 'compPrice'],\n",
       "      dtype='object')"
      ]
     },
     "execution_count": 84,
     "metadata": {},
     "output_type": "execute_result"
    }
   ],
   "source": [
    "df.columns"
   ]
  },
  {
   "cell_type": "code",
   "execution_count": 85,
   "metadata": {},
   "outputs": [],
   "source": [
    "cat_col = ['group', 'content', 'unit', 'pharmForm']"
   ]
  },
  {
   "cell_type": "code",
   "execution_count": 86,
   "metadata": {},
   "outputs": [
    {
     "name": "stdout",
     "output_type": "stream",
     "text": [
      "         day  adFlag  availability  click  basket  order  price  revenue  \\\n",
      "0          1       0             2      1       0      0  16.89     0.00   \n",
      "1          1       1             1      0       1      0   8.75     0.00   \n",
      "2          1       0             1      0       1      0  16.06     0.00   \n",
      "3          1       1             1      0       0      1   6.55     6.55   \n",
      "4          1       0             1      0       0      1   4.14     4.14   \n",
      "...      ...     ...           ...    ...     ...    ...    ...      ...   \n",
      "2668604   92       0             1      1       0      0  18.64     0.00   \n",
      "2668605   92       0             1      1       0      0  43.18     0.00   \n",
      "2668606   92       0             1      1       0      0   5.59     0.00   \n",
      "2668607   92       1             1      0       1      0   6.33     0.00   \n",
      "2668608   92       1             1      1       0      0   9.85     0.00   \n",
      "\n",
      "         manufacturer  group  content  unit  pharmForm  genericProduct  \\\n",
      "0                 255  514.0    366.0   5.0      171.0               0   \n",
      "1                  18  362.0    366.0   7.0      160.0               1   \n",
      "2                  41  489.0    237.0   5.0      151.0               0   \n",
      "3                  52  299.0    399.0   1.0       53.0               0   \n",
      "4                  90  445.0    194.0   7.0       83.0               0   \n",
      "...               ...    ...      ...   ...        ...             ...   \n",
      "2668604           917  492.0     92.0   5.0       97.0               0   \n",
      "2668605            18  262.0    139.0   7.0       74.0               0   \n",
      "2668606           334  474.0    190.0   7.0       26.0               0   \n",
      "2668607            84  225.0    366.0   1.0      139.0               0   \n",
      "2668608            84  225.0      9.0   1.0      139.0               0   \n",
      "\n",
      "         salesIndex  category    rrp  compPrice  \n",
      "0                40     193.0  18.25      14.60  \n",
      "1                40      66.0  18.81       8.57  \n",
      "2                53      40.0  18.48      14.77  \n",
      "3                40      25.0   9.31       6.59  \n",
      "4                53      14.0   8.13       4.39  \n",
      "...             ...       ...    ...        ...  \n",
      "2668604          53      15.0  24.75      22.41  \n",
      "2668605          40     100.0  46.09      36.87  \n",
      "2668606          53       1.0   5.88       4.71  \n",
      "2668607          40      90.0   9.58       6.59  \n",
      "2668608          40      90.0  14.86       8.78  \n",
      "\n",
      "[2668609 rows x 18 columns]\n"
     ]
    }
   ],
   "source": [
    "\"\"\"Encoding\"\"\"\n",
    "\n",
    "from sklearn.preprocessing import OrdinalEncoder \n",
    "\n",
    "encoder = OrdinalEncoder()\n",
    "\n",
    "# fit\n",
    "encoder.fit(df[cat_col])\n",
    "\n",
    "df[cat_col] = encoder.transform(df[cat_col])\n",
    "\n",
    "print(df)"
   ]
  },
  {
   "cell_type": "code",
   "execution_count": 87,
   "metadata": {},
   "outputs": [
    {
     "data": {
      "text/html": [
       "<div>\n",
       "<style scoped>\n",
       "    .dataframe tbody tr th:only-of-type {\n",
       "        vertical-align: middle;\n",
       "    }\n",
       "\n",
       "    .dataframe tbody tr th {\n",
       "        vertical-align: top;\n",
       "    }\n",
       "\n",
       "    .dataframe thead th {\n",
       "        text-align: right;\n",
       "    }\n",
       "</style>\n",
       "<table border=\"1\" class=\"dataframe\">\n",
       "  <thead>\n",
       "    <tr style=\"text-align: right;\">\n",
       "      <th></th>\n",
       "      <th>day</th>\n",
       "      <th>adFlag</th>\n",
       "      <th>availability</th>\n",
       "      <th>click</th>\n",
       "      <th>basket</th>\n",
       "      <th>order</th>\n",
       "      <th>price</th>\n",
       "      <th>revenue</th>\n",
       "      <th>manufacturer</th>\n",
       "      <th>group</th>\n",
       "      <th>content</th>\n",
       "      <th>unit</th>\n",
       "      <th>pharmForm</th>\n",
       "      <th>genericProduct</th>\n",
       "      <th>salesIndex</th>\n",
       "      <th>category</th>\n",
       "      <th>rrp</th>\n",
       "      <th>compPrice</th>\n",
       "    </tr>\n",
       "  </thead>\n",
       "  <tbody>\n",
       "    <tr>\n",
       "      <th>0</th>\n",
       "      <td>1</td>\n",
       "      <td>0</td>\n",
       "      <td>2</td>\n",
       "      <td>1</td>\n",
       "      <td>0</td>\n",
       "      <td>0</td>\n",
       "      <td>16.89</td>\n",
       "      <td>0.00</td>\n",
       "      <td>255</td>\n",
       "      <td>514.0</td>\n",
       "      <td>366.0</td>\n",
       "      <td>5.0</td>\n",
       "      <td>171.0</td>\n",
       "      <td>0</td>\n",
       "      <td>40</td>\n",
       "      <td>193.0</td>\n",
       "      <td>18.25</td>\n",
       "      <td>14.60</td>\n",
       "    </tr>\n",
       "    <tr>\n",
       "      <th>1</th>\n",
       "      <td>1</td>\n",
       "      <td>1</td>\n",
       "      <td>1</td>\n",
       "      <td>0</td>\n",
       "      <td>1</td>\n",
       "      <td>0</td>\n",
       "      <td>8.75</td>\n",
       "      <td>0.00</td>\n",
       "      <td>18</td>\n",
       "      <td>362.0</td>\n",
       "      <td>366.0</td>\n",
       "      <td>7.0</td>\n",
       "      <td>160.0</td>\n",
       "      <td>1</td>\n",
       "      <td>40</td>\n",
       "      <td>66.0</td>\n",
       "      <td>18.81</td>\n",
       "      <td>8.57</td>\n",
       "    </tr>\n",
       "    <tr>\n",
       "      <th>2</th>\n",
       "      <td>1</td>\n",
       "      <td>0</td>\n",
       "      <td>1</td>\n",
       "      <td>0</td>\n",
       "      <td>1</td>\n",
       "      <td>0</td>\n",
       "      <td>16.06</td>\n",
       "      <td>0.00</td>\n",
       "      <td>41</td>\n",
       "      <td>489.0</td>\n",
       "      <td>237.0</td>\n",
       "      <td>5.0</td>\n",
       "      <td>151.0</td>\n",
       "      <td>0</td>\n",
       "      <td>53</td>\n",
       "      <td>40.0</td>\n",
       "      <td>18.48</td>\n",
       "      <td>14.77</td>\n",
       "    </tr>\n",
       "    <tr>\n",
       "      <th>3</th>\n",
       "      <td>1</td>\n",
       "      <td>1</td>\n",
       "      <td>1</td>\n",
       "      <td>0</td>\n",
       "      <td>0</td>\n",
       "      <td>1</td>\n",
       "      <td>6.55</td>\n",
       "      <td>6.55</td>\n",
       "      <td>52</td>\n",
       "      <td>299.0</td>\n",
       "      <td>399.0</td>\n",
       "      <td>1.0</td>\n",
       "      <td>53.0</td>\n",
       "      <td>0</td>\n",
       "      <td>40</td>\n",
       "      <td>25.0</td>\n",
       "      <td>9.31</td>\n",
       "      <td>6.59</td>\n",
       "    </tr>\n",
       "    <tr>\n",
       "      <th>4</th>\n",
       "      <td>1</td>\n",
       "      <td>0</td>\n",
       "      <td>1</td>\n",
       "      <td>0</td>\n",
       "      <td>0</td>\n",
       "      <td>1</td>\n",
       "      <td>4.14</td>\n",
       "      <td>4.14</td>\n",
       "      <td>90</td>\n",
       "      <td>445.0</td>\n",
       "      <td>194.0</td>\n",
       "      <td>7.0</td>\n",
       "      <td>83.0</td>\n",
       "      <td>0</td>\n",
       "      <td>53</td>\n",
       "      <td>14.0</td>\n",
       "      <td>8.13</td>\n",
       "      <td>4.39</td>\n",
       "    </tr>\n",
       "    <tr>\n",
       "      <th>...</th>\n",
       "      <td>...</td>\n",
       "      <td>...</td>\n",
       "      <td>...</td>\n",
       "      <td>...</td>\n",
       "      <td>...</td>\n",
       "      <td>...</td>\n",
       "      <td>...</td>\n",
       "      <td>...</td>\n",
       "      <td>...</td>\n",
       "      <td>...</td>\n",
       "      <td>...</td>\n",
       "      <td>...</td>\n",
       "      <td>...</td>\n",
       "      <td>...</td>\n",
       "      <td>...</td>\n",
       "      <td>...</td>\n",
       "      <td>...</td>\n",
       "      <td>...</td>\n",
       "    </tr>\n",
       "    <tr>\n",
       "      <th>2668604</th>\n",
       "      <td>92</td>\n",
       "      <td>0</td>\n",
       "      <td>1</td>\n",
       "      <td>1</td>\n",
       "      <td>0</td>\n",
       "      <td>0</td>\n",
       "      <td>18.64</td>\n",
       "      <td>0.00</td>\n",
       "      <td>917</td>\n",
       "      <td>492.0</td>\n",
       "      <td>92.0</td>\n",
       "      <td>5.0</td>\n",
       "      <td>97.0</td>\n",
       "      <td>0</td>\n",
       "      <td>53</td>\n",
       "      <td>15.0</td>\n",
       "      <td>24.75</td>\n",
       "      <td>22.41</td>\n",
       "    </tr>\n",
       "    <tr>\n",
       "      <th>2668605</th>\n",
       "      <td>92</td>\n",
       "      <td>0</td>\n",
       "      <td>1</td>\n",
       "      <td>1</td>\n",
       "      <td>0</td>\n",
       "      <td>0</td>\n",
       "      <td>43.18</td>\n",
       "      <td>0.00</td>\n",
       "      <td>18</td>\n",
       "      <td>262.0</td>\n",
       "      <td>139.0</td>\n",
       "      <td>7.0</td>\n",
       "      <td>74.0</td>\n",
       "      <td>0</td>\n",
       "      <td>40</td>\n",
       "      <td>100.0</td>\n",
       "      <td>46.09</td>\n",
       "      <td>36.87</td>\n",
       "    </tr>\n",
       "    <tr>\n",
       "      <th>2668606</th>\n",
       "      <td>92</td>\n",
       "      <td>0</td>\n",
       "      <td>1</td>\n",
       "      <td>1</td>\n",
       "      <td>0</td>\n",
       "      <td>0</td>\n",
       "      <td>5.59</td>\n",
       "      <td>0.00</td>\n",
       "      <td>334</td>\n",
       "      <td>474.0</td>\n",
       "      <td>190.0</td>\n",
       "      <td>7.0</td>\n",
       "      <td>26.0</td>\n",
       "      <td>0</td>\n",
       "      <td>53</td>\n",
       "      <td>1.0</td>\n",
       "      <td>5.88</td>\n",
       "      <td>4.71</td>\n",
       "    </tr>\n",
       "    <tr>\n",
       "      <th>2668607</th>\n",
       "      <td>92</td>\n",
       "      <td>1</td>\n",
       "      <td>1</td>\n",
       "      <td>0</td>\n",
       "      <td>1</td>\n",
       "      <td>0</td>\n",
       "      <td>6.33</td>\n",
       "      <td>0.00</td>\n",
       "      <td>84</td>\n",
       "      <td>225.0</td>\n",
       "      <td>366.0</td>\n",
       "      <td>1.0</td>\n",
       "      <td>139.0</td>\n",
       "      <td>0</td>\n",
       "      <td>40</td>\n",
       "      <td>90.0</td>\n",
       "      <td>9.58</td>\n",
       "      <td>6.59</td>\n",
       "    </tr>\n",
       "    <tr>\n",
       "      <th>2668608</th>\n",
       "      <td>92</td>\n",
       "      <td>1</td>\n",
       "      <td>1</td>\n",
       "      <td>1</td>\n",
       "      <td>0</td>\n",
       "      <td>0</td>\n",
       "      <td>9.85</td>\n",
       "      <td>0.00</td>\n",
       "      <td>84</td>\n",
       "      <td>225.0</td>\n",
       "      <td>9.0</td>\n",
       "      <td>1.0</td>\n",
       "      <td>139.0</td>\n",
       "      <td>0</td>\n",
       "      <td>40</td>\n",
       "      <td>90.0</td>\n",
       "      <td>14.86</td>\n",
       "      <td>8.78</td>\n",
       "    </tr>\n",
       "  </tbody>\n",
       "</table>\n",
       "<p>2668609 rows × 18 columns</p>\n",
       "</div>"
      ],
      "text/plain": [
       "         day  adFlag  availability  click  basket  order  price  revenue  \\\n",
       "0          1       0             2      1       0      0  16.89     0.00   \n",
       "1          1       1             1      0       1      0   8.75     0.00   \n",
       "2          1       0             1      0       1      0  16.06     0.00   \n",
       "3          1       1             1      0       0      1   6.55     6.55   \n",
       "4          1       0             1      0       0      1   4.14     4.14   \n",
       "...      ...     ...           ...    ...     ...    ...    ...      ...   \n",
       "2668604   92       0             1      1       0      0  18.64     0.00   \n",
       "2668605   92       0             1      1       0      0  43.18     0.00   \n",
       "2668606   92       0             1      1       0      0   5.59     0.00   \n",
       "2668607   92       1             1      0       1      0   6.33     0.00   \n",
       "2668608   92       1             1      1       0      0   9.85     0.00   \n",
       "\n",
       "         manufacturer  group  content  unit  pharmForm  genericProduct  \\\n",
       "0                 255  514.0    366.0   5.0      171.0               0   \n",
       "1                  18  362.0    366.0   7.0      160.0               1   \n",
       "2                  41  489.0    237.0   5.0      151.0               0   \n",
       "3                  52  299.0    399.0   1.0       53.0               0   \n",
       "4                  90  445.0    194.0   7.0       83.0               0   \n",
       "...               ...    ...      ...   ...        ...             ...   \n",
       "2668604           917  492.0     92.0   5.0       97.0               0   \n",
       "2668605            18  262.0    139.0   7.0       74.0               0   \n",
       "2668606           334  474.0    190.0   7.0       26.0               0   \n",
       "2668607            84  225.0    366.0   1.0      139.0               0   \n",
       "2668608            84  225.0      9.0   1.0      139.0               0   \n",
       "\n",
       "         salesIndex  category    rrp  compPrice  \n",
       "0                40     193.0  18.25      14.60  \n",
       "1                40      66.0  18.81       8.57  \n",
       "2                53      40.0  18.48      14.77  \n",
       "3                40      25.0   9.31       6.59  \n",
       "4                53      14.0   8.13       4.39  \n",
       "...             ...       ...    ...        ...  \n",
       "2668604          53      15.0  24.75      22.41  \n",
       "2668605          40     100.0  46.09      36.87  \n",
       "2668606          53       1.0   5.88       4.71  \n",
       "2668607          40      90.0   9.58       6.59  \n",
       "2668608          40      90.0  14.86       8.78  \n",
       "\n",
       "[2668609 rows x 18 columns]"
      ]
     },
     "execution_count": 87,
     "metadata": {},
     "output_type": "execute_result"
    }
   ],
   "source": [
    "df "
   ]
  },
  {
   "cell_type": "code",
   "execution_count": 88,
   "metadata": {},
   "outputs": [],
   "source": [
    "# Save to csv \n",
    "df.to_csv('august_data/encoded_data.csv')"
   ]
  },
  {
   "cell_type": "markdown",
   "metadata": {},
   "source": [
    "Feature Selection Needed? "
   ]
  },
  {
   "cell_type": "code",
   "execution_count": 89,
   "metadata": {},
   "outputs": [],
   "source": [
    "df = pd.read_csv('august_data/encoded_data.csv')\n",
    "df.drop(columns=['Unnamed: 0'], inplace=True)"
   ]
  },
  {
   "cell_type": "code",
   "execution_count": 91,
   "metadata": {},
   "outputs": [
    {
     "data": {
      "text/plain": [
       "Index(['day', 'adFlag', 'availability', 'click', 'basket', 'order', 'price',\n",
       "       'revenue', 'manufacturer', 'group', 'content', 'unit', 'pharmForm',\n",
       "       'genericProduct', 'salesIndex', 'category', 'rrp', 'compPrice'],\n",
       "      dtype='object')"
      ]
     },
     "execution_count": 91,
     "metadata": {},
     "output_type": "execute_result"
    }
   ],
   "source": [
    "\"\"\"Lets create a Separate DataFrame for Standardization and Feature Selection\"\"\"\n",
    "\n",
    "df.columns"
   ]
  },
  {
   "cell_type": "code",
   "execution_count": 92,
   "metadata": {},
   "outputs": [
    {
     "data": {
      "text/plain": [
       "Index(['day', 'adFlag', 'availability', 'click', 'basket', 'order', 'price',\n",
       "       'revenue', 'manufacturer', 'group', 'content', 'unit', 'pharmForm',\n",
       "       'genericProduct', 'salesIndex', 'category'],\n",
       "      dtype='object')"
      ]
     },
     "execution_count": 92,
     "metadata": {},
     "output_type": "execute_result"
    }
   ],
   "source": [
    "\"\"\"Feature Selection\"\"\"\n",
    "# price, rrp, compPrice are highly correlated \n",
    "# lets drop rrp and compPrice\n",
    "\n",
    "data = df\n",
    "data = data.drop(columns = ['rrp', 'compPrice'])\n",
    "data.columns"
   ]
  },
  {
   "cell_type": "code",
   "execution_count": 93,
   "metadata": {},
   "outputs": [],
   "source": [
    "\"\"\"Standardization\"\"\"\n",
    "from sklearn.preprocessing import StandardScaler \n",
    "\n",
    "scaler = StandardScaler()\n",
    "\n",
    "features = data.drop(columns=['revenue'])\n",
    "target = data['revenue']\n",
    "\n",
    "# Scaling\n",
    "scaler.fit(features)\n",
    "data_scaled = scaler.transform(features)"
   ]
  },
  {
   "cell_type": "code",
   "execution_count": 94,
   "metadata": {},
   "outputs": [],
   "source": [
    "df_scaled = pd.concat([pd.DataFrame(data_scaled, columns= features.columns), target], axis = 1)"
   ]
  },
  {
   "cell_type": "code",
   "execution_count": 95,
   "metadata": {},
   "outputs": [
    {
     "data": {
      "text/html": [
       "<div>\n",
       "<style scoped>\n",
       "    .dataframe tbody tr th:only-of-type {\n",
       "        vertical-align: middle;\n",
       "    }\n",
       "\n",
       "    .dataframe tbody tr th {\n",
       "        vertical-align: top;\n",
       "    }\n",
       "\n",
       "    .dataframe thead th {\n",
       "        text-align: right;\n",
       "    }\n",
       "</style>\n",
       "<table border=\"1\" class=\"dataframe\">\n",
       "  <thead>\n",
       "    <tr style=\"text-align: right;\">\n",
       "      <th></th>\n",
       "      <th>day</th>\n",
       "      <th>adFlag</th>\n",
       "      <th>availability</th>\n",
       "      <th>click</th>\n",
       "      <th>basket</th>\n",
       "      <th>order</th>\n",
       "      <th>price</th>\n",
       "      <th>manufacturer</th>\n",
       "      <th>group</th>\n",
       "      <th>content</th>\n",
       "      <th>unit</th>\n",
       "      <th>pharmForm</th>\n",
       "      <th>genericProduct</th>\n",
       "      <th>salesIndex</th>\n",
       "      <th>category</th>\n",
       "      <th>revenue</th>\n",
       "    </tr>\n",
       "  </thead>\n",
       "  <tbody>\n",
       "    <tr>\n",
       "      <th>0</th>\n",
       "      <td>-1.934013</td>\n",
       "      <td>-0.696640</td>\n",
       "      <td>2.537097</td>\n",
       "      <td>0.868028</td>\n",
       "      <td>-0.454814</td>\n",
       "      <td>-0.590134</td>\n",
       "      <td>0.229178</td>\n",
       "      <td>0.455885</td>\n",
       "      <td>1.160368</td>\n",
       "      <td>1.183135</td>\n",
       "      <td>-0.132315</td>\n",
       "      <td>1.300762</td>\n",
       "      <td>-0.348833</td>\n",
       "      <td>-0.950950</td>\n",
       "      <td>0.827978</td>\n",
       "      <td>0.00</td>\n",
       "    </tr>\n",
       "    <tr>\n",
       "      <th>1</th>\n",
       "      <td>-1.934013</td>\n",
       "      <td>1.435461</td>\n",
       "      <td>-0.246040</td>\n",
       "      <td>-1.152037</td>\n",
       "      <td>2.198701</td>\n",
       "      <td>-0.590134</td>\n",
       "      <td>-0.373670</td>\n",
       "      <td>-0.833341</td>\n",
       "      <td>0.068416</td>\n",
       "      <td>1.183135</td>\n",
       "      <td>0.797724</td>\n",
       "      <td>1.105971</td>\n",
       "      <td>2.866704</td>\n",
       "      <td>-0.950950</td>\n",
       "      <td>-0.527564</td>\n",
       "      <td>0.00</td>\n",
       "    </tr>\n",
       "    <tr>\n",
       "      <th>2</th>\n",
       "      <td>-1.934013</td>\n",
       "      <td>-0.696640</td>\n",
       "      <td>-0.246040</td>\n",
       "      <td>-1.152037</td>\n",
       "      <td>2.198701</td>\n",
       "      <td>-0.590134</td>\n",
       "      <td>0.167708</td>\n",
       "      <td>-0.708226</td>\n",
       "      <td>0.980770</td>\n",
       "      <td>0.336471</td>\n",
       "      <td>-0.132315</td>\n",
       "      <td>0.946597</td>\n",
       "      <td>-0.348833</td>\n",
       "      <td>1.075866</td>\n",
       "      <td>-0.805077</td>\n",
       "      <td>0.00</td>\n",
       "    </tr>\n",
       "    <tr>\n",
       "      <th>3</th>\n",
       "      <td>-1.934013</td>\n",
       "      <td>1.435461</td>\n",
       "      <td>-0.246040</td>\n",
       "      <td>-1.152037</td>\n",
       "      <td>-0.454814</td>\n",
       "      <td>1.694530</td>\n",
       "      <td>-0.536602</td>\n",
       "      <td>-0.648389</td>\n",
       "      <td>-0.384169</td>\n",
       "      <td>1.399723</td>\n",
       "      <td>-1.992393</td>\n",
       "      <td>-0.788809</td>\n",
       "      <td>-0.348833</td>\n",
       "      <td>-0.950950</td>\n",
       "      <td>-0.965180</td>\n",
       "      <td>6.55</td>\n",
       "    </tr>\n",
       "    <tr>\n",
       "      <th>4</th>\n",
       "      <td>-1.934013</td>\n",
       "      <td>-0.696640</td>\n",
       "      <td>-0.246040</td>\n",
       "      <td>-1.152037</td>\n",
       "      <td>-0.454814</td>\n",
       "      <td>1.694530</td>\n",
       "      <td>-0.715086</td>\n",
       "      <td>-0.441678</td>\n",
       "      <td>0.664679</td>\n",
       "      <td>0.054250</td>\n",
       "      <td>0.797724</td>\n",
       "      <td>-0.257562</td>\n",
       "      <td>-0.348833</td>\n",
       "      <td>1.075866</td>\n",
       "      <td>-1.082590</td>\n",
       "      <td>4.14</td>\n",
       "    </tr>\n",
       "    <tr>\n",
       "      <th>...</th>\n",
       "      <td>...</td>\n",
       "      <td>...</td>\n",
       "      <td>...</td>\n",
       "      <td>...</td>\n",
       "      <td>...</td>\n",
       "      <td>...</td>\n",
       "      <td>...</td>\n",
       "      <td>...</td>\n",
       "      <td>...</td>\n",
       "      <td>...</td>\n",
       "      <td>...</td>\n",
       "      <td>...</td>\n",
       "      <td>...</td>\n",
       "      <td>...</td>\n",
       "      <td>...</td>\n",
       "      <td>...</td>\n",
       "    </tr>\n",
       "    <tr>\n",
       "      <th>2668604</th>\n",
       "      <td>1.658595</td>\n",
       "      <td>-0.696640</td>\n",
       "      <td>-0.246040</td>\n",
       "      <td>0.868028</td>\n",
       "      <td>-0.454814</td>\n",
       "      <td>-0.590134</td>\n",
       "      <td>0.358783</td>\n",
       "      <td>4.057013</td>\n",
       "      <td>1.002322</td>\n",
       "      <td>-0.615206</td>\n",
       "      <td>-0.132315</td>\n",
       "      <td>-0.009647</td>\n",
       "      <td>-0.348833</td>\n",
       "      <td>1.075866</td>\n",
       "      <td>-1.071916</td>\n",
       "      <td>0.00</td>\n",
       "    </tr>\n",
       "    <tr>\n",
       "      <th>2668605</th>\n",
       "      <td>1.658595</td>\n",
       "      <td>-0.696640</td>\n",
       "      <td>-0.246040</td>\n",
       "      <td>0.868028</td>\n",
       "      <td>-0.454814</td>\n",
       "      <td>-0.590134</td>\n",
       "      <td>2.176214</td>\n",
       "      <td>-0.833341</td>\n",
       "      <td>-0.649973</td>\n",
       "      <td>-0.306731</td>\n",
       "      <td>0.797724</td>\n",
       "      <td>-0.416936</td>\n",
       "      <td>-0.348833</td>\n",
       "      <td>-0.950950</td>\n",
       "      <td>-0.164663</td>\n",
       "      <td>0.00</td>\n",
       "    </tr>\n",
       "    <tr>\n",
       "      <th>2668606</th>\n",
       "      <td>1.658595</td>\n",
       "      <td>-0.696640</td>\n",
       "      <td>-0.246040</td>\n",
       "      <td>0.868028</td>\n",
       "      <td>-0.454814</td>\n",
       "      <td>-0.590134</td>\n",
       "      <td>-0.607699</td>\n",
       "      <td>0.885627</td>\n",
       "      <td>0.873012</td>\n",
       "      <td>0.027996</td>\n",
       "      <td>0.797724</td>\n",
       "      <td>-1.266931</td>\n",
       "      <td>-0.348833</td>\n",
       "      <td>1.075866</td>\n",
       "      <td>-1.221346</td>\n",
       "      <td>0.00</td>\n",
       "    </tr>\n",
       "    <tr>\n",
       "      <th>2668607</th>\n",
       "      <td>1.658595</td>\n",
       "      <td>1.435461</td>\n",
       "      <td>-0.246040</td>\n",
       "      <td>-1.152037</td>\n",
       "      <td>2.198701</td>\n",
       "      <td>-0.590134</td>\n",
       "      <td>-0.552895</td>\n",
       "      <td>-0.474316</td>\n",
       "      <td>-0.915777</td>\n",
       "      <td>1.183135</td>\n",
       "      <td>-1.992393</td>\n",
       "      <td>0.734098</td>\n",
       "      <td>-0.348833</td>\n",
       "      <td>-0.950950</td>\n",
       "      <td>-0.271399</td>\n",
       "      <td>0.00</td>\n",
       "    </tr>\n",
       "    <tr>\n",
       "      <th>2668608</th>\n",
       "      <td>1.658595</td>\n",
       "      <td>1.435461</td>\n",
       "      <td>-0.246040</td>\n",
       "      <td>0.868028</td>\n",
       "      <td>-0.454814</td>\n",
       "      <td>-0.590134</td>\n",
       "      <td>-0.292204</td>\n",
       "      <td>-0.474316</td>\n",
       "      <td>-0.915777</td>\n",
       "      <td>-1.159958</td>\n",
       "      <td>-1.992393</td>\n",
       "      <td>0.734098</td>\n",
       "      <td>-0.348833</td>\n",
       "      <td>-0.950950</td>\n",
       "      <td>-0.271399</td>\n",
       "      <td>0.00</td>\n",
       "    </tr>\n",
       "  </tbody>\n",
       "</table>\n",
       "<p>2668609 rows × 16 columns</p>\n",
       "</div>"
      ],
      "text/plain": [
       "              day    adFlag  availability     click    basket     order  \\\n",
       "0       -1.934013 -0.696640      2.537097  0.868028 -0.454814 -0.590134   \n",
       "1       -1.934013  1.435461     -0.246040 -1.152037  2.198701 -0.590134   \n",
       "2       -1.934013 -0.696640     -0.246040 -1.152037  2.198701 -0.590134   \n",
       "3       -1.934013  1.435461     -0.246040 -1.152037 -0.454814  1.694530   \n",
       "4       -1.934013 -0.696640     -0.246040 -1.152037 -0.454814  1.694530   \n",
       "...           ...       ...           ...       ...       ...       ...   \n",
       "2668604  1.658595 -0.696640     -0.246040  0.868028 -0.454814 -0.590134   \n",
       "2668605  1.658595 -0.696640     -0.246040  0.868028 -0.454814 -0.590134   \n",
       "2668606  1.658595 -0.696640     -0.246040  0.868028 -0.454814 -0.590134   \n",
       "2668607  1.658595  1.435461     -0.246040 -1.152037  2.198701 -0.590134   \n",
       "2668608  1.658595  1.435461     -0.246040  0.868028 -0.454814 -0.590134   \n",
       "\n",
       "            price  manufacturer     group   content      unit  pharmForm  \\\n",
       "0        0.229178      0.455885  1.160368  1.183135 -0.132315   1.300762   \n",
       "1       -0.373670     -0.833341  0.068416  1.183135  0.797724   1.105971   \n",
       "2        0.167708     -0.708226  0.980770  0.336471 -0.132315   0.946597   \n",
       "3       -0.536602     -0.648389 -0.384169  1.399723 -1.992393  -0.788809   \n",
       "4       -0.715086     -0.441678  0.664679  0.054250  0.797724  -0.257562   \n",
       "...           ...           ...       ...       ...       ...        ...   \n",
       "2668604  0.358783      4.057013  1.002322 -0.615206 -0.132315  -0.009647   \n",
       "2668605  2.176214     -0.833341 -0.649973 -0.306731  0.797724  -0.416936   \n",
       "2668606 -0.607699      0.885627  0.873012  0.027996  0.797724  -1.266931   \n",
       "2668607 -0.552895     -0.474316 -0.915777  1.183135 -1.992393   0.734098   \n",
       "2668608 -0.292204     -0.474316 -0.915777 -1.159958 -1.992393   0.734098   \n",
       "\n",
       "         genericProduct  salesIndex  category  revenue  \n",
       "0             -0.348833   -0.950950  0.827978     0.00  \n",
       "1              2.866704   -0.950950 -0.527564     0.00  \n",
       "2             -0.348833    1.075866 -0.805077     0.00  \n",
       "3             -0.348833   -0.950950 -0.965180     6.55  \n",
       "4             -0.348833    1.075866 -1.082590     4.14  \n",
       "...                 ...         ...       ...      ...  \n",
       "2668604       -0.348833    1.075866 -1.071916     0.00  \n",
       "2668605       -0.348833   -0.950950 -0.164663     0.00  \n",
       "2668606       -0.348833    1.075866 -1.221346     0.00  \n",
       "2668607       -0.348833   -0.950950 -0.271399     0.00  \n",
       "2668608       -0.348833   -0.950950 -0.271399     0.00  \n",
       "\n",
       "[2668609 rows x 16 columns]"
      ]
     },
     "execution_count": 95,
     "metadata": {},
     "output_type": "execute_result"
    }
   ],
   "source": [
    "df_scaled"
   ]
  },
  {
   "cell_type": "code",
   "execution_count": 96,
   "metadata": {},
   "outputs": [],
   "source": [
    "# save to data preprocess done \n",
    "df_scaled.to_csv('august_data/normalized_data.csv')"
   ]
  },
  {
   "cell_type": "markdown",
   "metadata": {},
   "source": [
    "What We have done?\n",
    "\n",
    "1. We have loaded the data\n",
    "2. Handled missing values\n",
    "3. Handled outliers\n",
    "4. Performed Univariate Analysis\n",
    "5. Checked for Correlation\n",
    "6. Encoded Categorical columns\n",
    "7. Performed Standardization\n",
    "8. Performed Feature Selection\n",
    "9. Saved the data"
   ]
  },
  {
   "cell_type": "code",
   "execution_count": 2,
   "metadata": {},
   "outputs": [],
   "source": [
    "# Unscaled\n",
    "data = pd.read_csv('fin_data.csv', index_col=0)\n",
    "# Scaled \n",
    "data_s = pd.read_csv('data.csv', index_col=0)"
   ]
  },
  {
   "cell_type": "code",
   "execution_count": 7,
   "metadata": {},
   "outputs": [
    {
     "data": {
      "text/html": [
       "<div>\n",
       "<style scoped>\n",
       "    .dataframe tbody tr th:only-of-type {\n",
       "        vertical-align: middle;\n",
       "    }\n",
       "\n",
       "    .dataframe tbody tr th {\n",
       "        vertical-align: top;\n",
       "    }\n",
       "\n",
       "    .dataframe thead th {\n",
       "        text-align: right;\n",
       "    }\n",
       "</style>\n",
       "<table border=\"1\" class=\"dataframe\">\n",
       "  <thead>\n",
       "    <tr style=\"text-align: right;\">\n",
       "      <th></th>\n",
       "      <th>day</th>\n",
       "      <th>adFlag</th>\n",
       "      <th>availability</th>\n",
       "      <th>click</th>\n",
       "      <th>basket</th>\n",
       "      <th>order</th>\n",
       "      <th>price</th>\n",
       "      <th>revenue</th>\n",
       "      <th>manufacturer</th>\n",
       "      <th>group</th>\n",
       "      <th>content</th>\n",
       "      <th>unit</th>\n",
       "      <th>pharmForm</th>\n",
       "      <th>genericProduct</th>\n",
       "      <th>salesIndex</th>\n",
       "      <th>category</th>\n",
       "      <th>rrp</th>\n",
       "      <th>compPrice</th>\n",
       "    </tr>\n",
       "  </thead>\n",
       "  <tbody>\n",
       "    <tr>\n",
       "      <th>0</th>\n",
       "      <td>1</td>\n",
       "      <td>0</td>\n",
       "      <td>2</td>\n",
       "      <td>1</td>\n",
       "      <td>0</td>\n",
       "      <td>0</td>\n",
       "      <td>16.89</td>\n",
       "      <td>0.00</td>\n",
       "      <td>255</td>\n",
       "      <td>514.0</td>\n",
       "      <td>366.0</td>\n",
       "      <td>5.0</td>\n",
       "      <td>171.0</td>\n",
       "      <td>0</td>\n",
       "      <td>40</td>\n",
       "      <td>193.0</td>\n",
       "      <td>18.25</td>\n",
       "      <td>14.60</td>\n",
       "    </tr>\n",
       "    <tr>\n",
       "      <th>1</th>\n",
       "      <td>1</td>\n",
       "      <td>1</td>\n",
       "      <td>1</td>\n",
       "      <td>0</td>\n",
       "      <td>1</td>\n",
       "      <td>0</td>\n",
       "      <td>8.75</td>\n",
       "      <td>0.00</td>\n",
       "      <td>18</td>\n",
       "      <td>362.0</td>\n",
       "      <td>366.0</td>\n",
       "      <td>7.0</td>\n",
       "      <td>160.0</td>\n",
       "      <td>1</td>\n",
       "      <td>40</td>\n",
       "      <td>66.0</td>\n",
       "      <td>18.81</td>\n",
       "      <td>8.57</td>\n",
       "    </tr>\n",
       "    <tr>\n",
       "      <th>2</th>\n",
       "      <td>1</td>\n",
       "      <td>0</td>\n",
       "      <td>1</td>\n",
       "      <td>0</td>\n",
       "      <td>1</td>\n",
       "      <td>0</td>\n",
       "      <td>16.06</td>\n",
       "      <td>0.00</td>\n",
       "      <td>41</td>\n",
       "      <td>489.0</td>\n",
       "      <td>237.0</td>\n",
       "      <td>5.0</td>\n",
       "      <td>151.0</td>\n",
       "      <td>0</td>\n",
       "      <td>53</td>\n",
       "      <td>40.0</td>\n",
       "      <td>18.48</td>\n",
       "      <td>14.77</td>\n",
       "    </tr>\n",
       "    <tr>\n",
       "      <th>3</th>\n",
       "      <td>1</td>\n",
       "      <td>1</td>\n",
       "      <td>1</td>\n",
       "      <td>0</td>\n",
       "      <td>0</td>\n",
       "      <td>1</td>\n",
       "      <td>6.55</td>\n",
       "      <td>6.55</td>\n",
       "      <td>52</td>\n",
       "      <td>299.0</td>\n",
       "      <td>399.0</td>\n",
       "      <td>1.0</td>\n",
       "      <td>53.0</td>\n",
       "      <td>0</td>\n",
       "      <td>40</td>\n",
       "      <td>25.0</td>\n",
       "      <td>9.31</td>\n",
       "      <td>6.59</td>\n",
       "    </tr>\n",
       "    <tr>\n",
       "      <th>4</th>\n",
       "      <td>1</td>\n",
       "      <td>0</td>\n",
       "      <td>1</td>\n",
       "      <td>0</td>\n",
       "      <td>0</td>\n",
       "      <td>1</td>\n",
       "      <td>4.14</td>\n",
       "      <td>4.14</td>\n",
       "      <td>90</td>\n",
       "      <td>445.0</td>\n",
       "      <td>194.0</td>\n",
       "      <td>7.0</td>\n",
       "      <td>83.0</td>\n",
       "      <td>0</td>\n",
       "      <td>53</td>\n",
       "      <td>14.0</td>\n",
       "      <td>8.13</td>\n",
       "      <td>4.39</td>\n",
       "    </tr>\n",
       "    <tr>\n",
       "      <th>...</th>\n",
       "      <td>...</td>\n",
       "      <td>...</td>\n",
       "      <td>...</td>\n",
       "      <td>...</td>\n",
       "      <td>...</td>\n",
       "      <td>...</td>\n",
       "      <td>...</td>\n",
       "      <td>...</td>\n",
       "      <td>...</td>\n",
       "      <td>...</td>\n",
       "      <td>...</td>\n",
       "      <td>...</td>\n",
       "      <td>...</td>\n",
       "      <td>...</td>\n",
       "      <td>...</td>\n",
       "      <td>...</td>\n",
       "      <td>...</td>\n",
       "      <td>...</td>\n",
       "    </tr>\n",
       "    <tr>\n",
       "      <th>2668604</th>\n",
       "      <td>92</td>\n",
       "      <td>0</td>\n",
       "      <td>1</td>\n",
       "      <td>1</td>\n",
       "      <td>0</td>\n",
       "      <td>0</td>\n",
       "      <td>18.64</td>\n",
       "      <td>0.00</td>\n",
       "      <td>917</td>\n",
       "      <td>492.0</td>\n",
       "      <td>92.0</td>\n",
       "      <td>5.0</td>\n",
       "      <td>97.0</td>\n",
       "      <td>0</td>\n",
       "      <td>53</td>\n",
       "      <td>15.0</td>\n",
       "      <td>24.75</td>\n",
       "      <td>22.41</td>\n",
       "    </tr>\n",
       "    <tr>\n",
       "      <th>2668605</th>\n",
       "      <td>92</td>\n",
       "      <td>0</td>\n",
       "      <td>1</td>\n",
       "      <td>1</td>\n",
       "      <td>0</td>\n",
       "      <td>0</td>\n",
       "      <td>43.18</td>\n",
       "      <td>0.00</td>\n",
       "      <td>18</td>\n",
       "      <td>262.0</td>\n",
       "      <td>139.0</td>\n",
       "      <td>7.0</td>\n",
       "      <td>74.0</td>\n",
       "      <td>0</td>\n",
       "      <td>40</td>\n",
       "      <td>100.0</td>\n",
       "      <td>46.09</td>\n",
       "      <td>36.87</td>\n",
       "    </tr>\n",
       "    <tr>\n",
       "      <th>2668606</th>\n",
       "      <td>92</td>\n",
       "      <td>0</td>\n",
       "      <td>1</td>\n",
       "      <td>1</td>\n",
       "      <td>0</td>\n",
       "      <td>0</td>\n",
       "      <td>5.59</td>\n",
       "      <td>0.00</td>\n",
       "      <td>334</td>\n",
       "      <td>474.0</td>\n",
       "      <td>190.0</td>\n",
       "      <td>7.0</td>\n",
       "      <td>26.0</td>\n",
       "      <td>0</td>\n",
       "      <td>53</td>\n",
       "      <td>1.0</td>\n",
       "      <td>5.88</td>\n",
       "      <td>4.71</td>\n",
       "    </tr>\n",
       "    <tr>\n",
       "      <th>2668607</th>\n",
       "      <td>92</td>\n",
       "      <td>1</td>\n",
       "      <td>1</td>\n",
       "      <td>0</td>\n",
       "      <td>1</td>\n",
       "      <td>0</td>\n",
       "      <td>6.33</td>\n",
       "      <td>0.00</td>\n",
       "      <td>84</td>\n",
       "      <td>225.0</td>\n",
       "      <td>366.0</td>\n",
       "      <td>1.0</td>\n",
       "      <td>139.0</td>\n",
       "      <td>0</td>\n",
       "      <td>40</td>\n",
       "      <td>90.0</td>\n",
       "      <td>9.58</td>\n",
       "      <td>6.59</td>\n",
       "    </tr>\n",
       "    <tr>\n",
       "      <th>2668608</th>\n",
       "      <td>92</td>\n",
       "      <td>1</td>\n",
       "      <td>1</td>\n",
       "      <td>1</td>\n",
       "      <td>0</td>\n",
       "      <td>0</td>\n",
       "      <td>9.85</td>\n",
       "      <td>0.00</td>\n",
       "      <td>84</td>\n",
       "      <td>225.0</td>\n",
       "      <td>9.0</td>\n",
       "      <td>1.0</td>\n",
       "      <td>139.0</td>\n",
       "      <td>0</td>\n",
       "      <td>40</td>\n",
       "      <td>90.0</td>\n",
       "      <td>14.86</td>\n",
       "      <td>8.78</td>\n",
       "    </tr>\n",
       "  </tbody>\n",
       "</table>\n",
       "<p>2668609 rows × 18 columns</p>\n",
       "</div>"
      ],
      "text/plain": [
       "         day  adFlag  availability  click  basket  order  price  revenue  \\\n",
       "0          1       0             2      1       0      0  16.89     0.00   \n",
       "1          1       1             1      0       1      0   8.75     0.00   \n",
       "2          1       0             1      0       1      0  16.06     0.00   \n",
       "3          1       1             1      0       0      1   6.55     6.55   \n",
       "4          1       0             1      0       0      1   4.14     4.14   \n",
       "...      ...     ...           ...    ...     ...    ...    ...      ...   \n",
       "2668604   92       0             1      1       0      0  18.64     0.00   \n",
       "2668605   92       0             1      1       0      0  43.18     0.00   \n",
       "2668606   92       0             1      1       0      0   5.59     0.00   \n",
       "2668607   92       1             1      0       1      0   6.33     0.00   \n",
       "2668608   92       1             1      1       0      0   9.85     0.00   \n",
       "\n",
       "         manufacturer  group  content  unit  pharmForm  genericProduct  \\\n",
       "0                 255  514.0    366.0   5.0      171.0               0   \n",
       "1                  18  362.0    366.0   7.0      160.0               1   \n",
       "2                  41  489.0    237.0   5.0      151.0               0   \n",
       "3                  52  299.0    399.0   1.0       53.0               0   \n",
       "4                  90  445.0    194.0   7.0       83.0               0   \n",
       "...               ...    ...      ...   ...        ...             ...   \n",
       "2668604           917  492.0     92.0   5.0       97.0               0   \n",
       "2668605            18  262.0    139.0   7.0       74.0               0   \n",
       "2668606           334  474.0    190.0   7.0       26.0               0   \n",
       "2668607            84  225.0    366.0   1.0      139.0               0   \n",
       "2668608            84  225.0      9.0   1.0      139.0               0   \n",
       "\n",
       "         salesIndex  category    rrp  compPrice  \n",
       "0                40     193.0  18.25      14.60  \n",
       "1                40      66.0  18.81       8.57  \n",
       "2                53      40.0  18.48      14.77  \n",
       "3                40      25.0   9.31       6.59  \n",
       "4                53      14.0   8.13       4.39  \n",
       "...             ...       ...    ...        ...  \n",
       "2668604          53      15.0  24.75      22.41  \n",
       "2668605          40     100.0  46.09      36.87  \n",
       "2668606          53       1.0   5.88       4.71  \n",
       "2668607          40      90.0   9.58       6.59  \n",
       "2668608          40      90.0  14.86       8.78  \n",
       "\n",
       "[2668609 rows x 18 columns]"
      ]
     },
     "execution_count": 7,
     "metadata": {},
     "output_type": "execute_result"
    }
   ],
   "source": [
    "data"
   ]
  },
  {
   "cell_type": "code",
   "execution_count": 8,
   "metadata": {},
   "outputs": [
    {
     "data": {
      "text/html": [
       "<div>\n",
       "<style scoped>\n",
       "    .dataframe tbody tr th:only-of-type {\n",
       "        vertical-align: middle;\n",
       "    }\n",
       "\n",
       "    .dataframe tbody tr th {\n",
       "        vertical-align: top;\n",
       "    }\n",
       "\n",
       "    .dataframe thead th {\n",
       "        text-align: right;\n",
       "    }\n",
       "</style>\n",
       "<table border=\"1\" class=\"dataframe\">\n",
       "  <thead>\n",
       "    <tr style=\"text-align: right;\">\n",
       "      <th></th>\n",
       "      <th>day</th>\n",
       "      <th>adFlag</th>\n",
       "      <th>availability</th>\n",
       "      <th>click</th>\n",
       "      <th>basket</th>\n",
       "      <th>order</th>\n",
       "      <th>price</th>\n",
       "      <th>manufacturer</th>\n",
       "      <th>group</th>\n",
       "      <th>content</th>\n",
       "      <th>unit</th>\n",
       "      <th>pharmForm</th>\n",
       "      <th>genericProduct</th>\n",
       "      <th>salesIndex</th>\n",
       "      <th>category</th>\n",
       "      <th>revenue</th>\n",
       "    </tr>\n",
       "  </thead>\n",
       "  <tbody>\n",
       "    <tr>\n",
       "      <th>0</th>\n",
       "      <td>-1.934013</td>\n",
       "      <td>-0.696640</td>\n",
       "      <td>2.537097</td>\n",
       "      <td>0.868028</td>\n",
       "      <td>-0.454814</td>\n",
       "      <td>-0.590134</td>\n",
       "      <td>0.229178</td>\n",
       "      <td>0.455885</td>\n",
       "      <td>1.160368</td>\n",
       "      <td>1.183135</td>\n",
       "      <td>-0.132315</td>\n",
       "      <td>1.300762</td>\n",
       "      <td>-0.348833</td>\n",
       "      <td>-0.950950</td>\n",
       "      <td>0.827978</td>\n",
       "      <td>0.00</td>\n",
       "    </tr>\n",
       "    <tr>\n",
       "      <th>1</th>\n",
       "      <td>-1.934013</td>\n",
       "      <td>1.435461</td>\n",
       "      <td>-0.246040</td>\n",
       "      <td>-1.152037</td>\n",
       "      <td>2.198701</td>\n",
       "      <td>-0.590134</td>\n",
       "      <td>-0.373670</td>\n",
       "      <td>-0.833341</td>\n",
       "      <td>0.068416</td>\n",
       "      <td>1.183135</td>\n",
       "      <td>0.797724</td>\n",
       "      <td>1.105971</td>\n",
       "      <td>2.866704</td>\n",
       "      <td>-0.950950</td>\n",
       "      <td>-0.527564</td>\n",
       "      <td>0.00</td>\n",
       "    </tr>\n",
       "    <tr>\n",
       "      <th>2</th>\n",
       "      <td>-1.934013</td>\n",
       "      <td>-0.696640</td>\n",
       "      <td>-0.246040</td>\n",
       "      <td>-1.152037</td>\n",
       "      <td>2.198701</td>\n",
       "      <td>-0.590134</td>\n",
       "      <td>0.167708</td>\n",
       "      <td>-0.708226</td>\n",
       "      <td>0.980770</td>\n",
       "      <td>0.336471</td>\n",
       "      <td>-0.132315</td>\n",
       "      <td>0.946597</td>\n",
       "      <td>-0.348833</td>\n",
       "      <td>1.075866</td>\n",
       "      <td>-0.805077</td>\n",
       "      <td>0.00</td>\n",
       "    </tr>\n",
       "    <tr>\n",
       "      <th>3</th>\n",
       "      <td>-1.934013</td>\n",
       "      <td>1.435461</td>\n",
       "      <td>-0.246040</td>\n",
       "      <td>-1.152037</td>\n",
       "      <td>-0.454814</td>\n",
       "      <td>1.694530</td>\n",
       "      <td>-0.536602</td>\n",
       "      <td>-0.648389</td>\n",
       "      <td>-0.384169</td>\n",
       "      <td>1.399723</td>\n",
       "      <td>-1.992393</td>\n",
       "      <td>-0.788809</td>\n",
       "      <td>-0.348833</td>\n",
       "      <td>-0.950950</td>\n",
       "      <td>-0.965180</td>\n",
       "      <td>6.55</td>\n",
       "    </tr>\n",
       "    <tr>\n",
       "      <th>4</th>\n",
       "      <td>-1.934013</td>\n",
       "      <td>-0.696640</td>\n",
       "      <td>-0.246040</td>\n",
       "      <td>-1.152037</td>\n",
       "      <td>-0.454814</td>\n",
       "      <td>1.694530</td>\n",
       "      <td>-0.715086</td>\n",
       "      <td>-0.441678</td>\n",
       "      <td>0.664679</td>\n",
       "      <td>0.054250</td>\n",
       "      <td>0.797724</td>\n",
       "      <td>-0.257562</td>\n",
       "      <td>-0.348833</td>\n",
       "      <td>1.075866</td>\n",
       "      <td>-1.082590</td>\n",
       "      <td>4.14</td>\n",
       "    </tr>\n",
       "    <tr>\n",
       "      <th>...</th>\n",
       "      <td>...</td>\n",
       "      <td>...</td>\n",
       "      <td>...</td>\n",
       "      <td>...</td>\n",
       "      <td>...</td>\n",
       "      <td>...</td>\n",
       "      <td>...</td>\n",
       "      <td>...</td>\n",
       "      <td>...</td>\n",
       "      <td>...</td>\n",
       "      <td>...</td>\n",
       "      <td>...</td>\n",
       "      <td>...</td>\n",
       "      <td>...</td>\n",
       "      <td>...</td>\n",
       "      <td>...</td>\n",
       "    </tr>\n",
       "    <tr>\n",
       "      <th>2668604</th>\n",
       "      <td>1.658595</td>\n",
       "      <td>-0.696640</td>\n",
       "      <td>-0.246040</td>\n",
       "      <td>0.868028</td>\n",
       "      <td>-0.454814</td>\n",
       "      <td>-0.590134</td>\n",
       "      <td>0.358783</td>\n",
       "      <td>4.057013</td>\n",
       "      <td>1.002322</td>\n",
       "      <td>-0.615206</td>\n",
       "      <td>-0.132315</td>\n",
       "      <td>-0.009647</td>\n",
       "      <td>-0.348833</td>\n",
       "      <td>1.075866</td>\n",
       "      <td>-1.071916</td>\n",
       "      <td>0.00</td>\n",
       "    </tr>\n",
       "    <tr>\n",
       "      <th>2668605</th>\n",
       "      <td>1.658595</td>\n",
       "      <td>-0.696640</td>\n",
       "      <td>-0.246040</td>\n",
       "      <td>0.868028</td>\n",
       "      <td>-0.454814</td>\n",
       "      <td>-0.590134</td>\n",
       "      <td>2.176214</td>\n",
       "      <td>-0.833341</td>\n",
       "      <td>-0.649973</td>\n",
       "      <td>-0.306731</td>\n",
       "      <td>0.797724</td>\n",
       "      <td>-0.416936</td>\n",
       "      <td>-0.348833</td>\n",
       "      <td>-0.950950</td>\n",
       "      <td>-0.164663</td>\n",
       "      <td>0.00</td>\n",
       "    </tr>\n",
       "    <tr>\n",
       "      <th>2668606</th>\n",
       "      <td>1.658595</td>\n",
       "      <td>-0.696640</td>\n",
       "      <td>-0.246040</td>\n",
       "      <td>0.868028</td>\n",
       "      <td>-0.454814</td>\n",
       "      <td>-0.590134</td>\n",
       "      <td>-0.607699</td>\n",
       "      <td>0.885627</td>\n",
       "      <td>0.873012</td>\n",
       "      <td>0.027996</td>\n",
       "      <td>0.797724</td>\n",
       "      <td>-1.266931</td>\n",
       "      <td>-0.348833</td>\n",
       "      <td>1.075866</td>\n",
       "      <td>-1.221346</td>\n",
       "      <td>0.00</td>\n",
       "    </tr>\n",
       "    <tr>\n",
       "      <th>2668607</th>\n",
       "      <td>1.658595</td>\n",
       "      <td>1.435461</td>\n",
       "      <td>-0.246040</td>\n",
       "      <td>-1.152037</td>\n",
       "      <td>2.198701</td>\n",
       "      <td>-0.590134</td>\n",
       "      <td>-0.552895</td>\n",
       "      <td>-0.474316</td>\n",
       "      <td>-0.915777</td>\n",
       "      <td>1.183135</td>\n",
       "      <td>-1.992393</td>\n",
       "      <td>0.734098</td>\n",
       "      <td>-0.348833</td>\n",
       "      <td>-0.950950</td>\n",
       "      <td>-0.271399</td>\n",
       "      <td>0.00</td>\n",
       "    </tr>\n",
       "    <tr>\n",
       "      <th>2668608</th>\n",
       "      <td>1.658595</td>\n",
       "      <td>1.435461</td>\n",
       "      <td>-0.246040</td>\n",
       "      <td>0.868028</td>\n",
       "      <td>-0.454814</td>\n",
       "      <td>-0.590134</td>\n",
       "      <td>-0.292204</td>\n",
       "      <td>-0.474316</td>\n",
       "      <td>-0.915777</td>\n",
       "      <td>-1.159958</td>\n",
       "      <td>-1.992393</td>\n",
       "      <td>0.734098</td>\n",
       "      <td>-0.348833</td>\n",
       "      <td>-0.950950</td>\n",
       "      <td>-0.271399</td>\n",
       "      <td>0.00</td>\n",
       "    </tr>\n",
       "  </tbody>\n",
       "</table>\n",
       "<p>2668609 rows × 16 columns</p>\n",
       "</div>"
      ],
      "text/plain": [
       "              day    adFlag  availability     click    basket     order  \\\n",
       "0       -1.934013 -0.696640      2.537097  0.868028 -0.454814 -0.590134   \n",
       "1       -1.934013  1.435461     -0.246040 -1.152037  2.198701 -0.590134   \n",
       "2       -1.934013 -0.696640     -0.246040 -1.152037  2.198701 -0.590134   \n",
       "3       -1.934013  1.435461     -0.246040 -1.152037 -0.454814  1.694530   \n",
       "4       -1.934013 -0.696640     -0.246040 -1.152037 -0.454814  1.694530   \n",
       "...           ...       ...           ...       ...       ...       ...   \n",
       "2668604  1.658595 -0.696640     -0.246040  0.868028 -0.454814 -0.590134   \n",
       "2668605  1.658595 -0.696640     -0.246040  0.868028 -0.454814 -0.590134   \n",
       "2668606  1.658595 -0.696640     -0.246040  0.868028 -0.454814 -0.590134   \n",
       "2668607  1.658595  1.435461     -0.246040 -1.152037  2.198701 -0.590134   \n",
       "2668608  1.658595  1.435461     -0.246040  0.868028 -0.454814 -0.590134   \n",
       "\n",
       "            price  manufacturer     group   content      unit  pharmForm  \\\n",
       "0        0.229178      0.455885  1.160368  1.183135 -0.132315   1.300762   \n",
       "1       -0.373670     -0.833341  0.068416  1.183135  0.797724   1.105971   \n",
       "2        0.167708     -0.708226  0.980770  0.336471 -0.132315   0.946597   \n",
       "3       -0.536602     -0.648389 -0.384169  1.399723 -1.992393  -0.788809   \n",
       "4       -0.715086     -0.441678  0.664679  0.054250  0.797724  -0.257562   \n",
       "...           ...           ...       ...       ...       ...        ...   \n",
       "2668604  0.358783      4.057013  1.002322 -0.615206 -0.132315  -0.009647   \n",
       "2668605  2.176214     -0.833341 -0.649973 -0.306731  0.797724  -0.416936   \n",
       "2668606 -0.607699      0.885627  0.873012  0.027996  0.797724  -1.266931   \n",
       "2668607 -0.552895     -0.474316 -0.915777  1.183135 -1.992393   0.734098   \n",
       "2668608 -0.292204     -0.474316 -0.915777 -1.159958 -1.992393   0.734098   \n",
       "\n",
       "         genericProduct  salesIndex  category  revenue  \n",
       "0             -0.348833   -0.950950  0.827978     0.00  \n",
       "1              2.866704   -0.950950 -0.527564     0.00  \n",
       "2             -0.348833    1.075866 -0.805077     0.00  \n",
       "3             -0.348833   -0.950950 -0.965180     6.55  \n",
       "4             -0.348833    1.075866 -1.082590     4.14  \n",
       "...                 ...         ...       ...      ...  \n",
       "2668604       -0.348833    1.075866 -1.071916     0.00  \n",
       "2668605       -0.348833   -0.950950 -0.164663     0.00  \n",
       "2668606       -0.348833    1.075866 -1.221346     0.00  \n",
       "2668607       -0.348833   -0.950950 -0.271399     0.00  \n",
       "2668608       -0.348833   -0.950950 -0.271399     0.00  \n",
       "\n",
       "[2668609 rows x 16 columns]"
      ]
     },
     "execution_count": 8,
     "metadata": {},
     "output_type": "execute_result"
    }
   ],
   "source": [
    "data_s"
   ]
  },
  {
   "cell_type": "markdown",
   "metadata": {},
   "source": [
    "## Machine learning Models"
   ]
  },
  {
   "cell_type": "markdown",
   "metadata": {},
   "source": [
    "### **Models**\n",
    "> Linear Regression\n",
    "\n",
    "> Lasso Regression\n",
    "\n",
    "> Elastic Net Regression\n",
    "\n",
    "> Support Vector Regression\n",
    "\n",
    "> Random Forest Regression \n",
    "\n",
    "> Catboost Regression \n",
    "\n",
    "> LightGBM Regression\n",
    "\n",
    "> XGboost Regression"
   ]
  },
  {
   "cell_type": "code",
   "execution_count": 5,
   "metadata": {},
   "outputs": [],
   "source": [
    "# Don't use scaled data on Tree based algo and Gradient boosting algos "
   ]
  },
  {
   "cell_type": "code",
   "execution_count": 3,
   "metadata": {},
   "outputs": [],
   "source": [
    "from sklearn.model_selection import train_test_split\n",
    "from sklearn.metrics import mean_squared_error, mean_absolute_error, r2_score"
   ]
  },
  {
   "cell_type": "code",
   "execution_count": 4,
   "metadata": {},
   "outputs": [],
   "source": [
    "# Feature and Target\n",
    "features = data_s.drop(columns=['revenue'])\n",
    "target = data_s['revenue']"
   ]
  },
  {
   "cell_type": "code",
   "execution_count": 5,
   "metadata": {},
   "outputs": [],
   "source": [
    "# Split into train and test\n",
    "x_train, x_test, y_train, y_test = train_test_split(features, target, test_size= 0.2, random_state=42)"
   ]
  },
  {
   "cell_type": "code",
   "execution_count": 6,
   "metadata": {},
   "outputs": [
    {
     "name": "stdout",
     "output_type": "stream",
     "text": [
      "x_train shape: (2134887, 15)\n",
      "x_test shape: (533722, 15)\n",
      "y_train shape: (2134887,)\n",
      "y_test shape: (533722,)\n"
     ]
    }
   ],
   "source": [
    "print(f\"x_train shape: {x_train.shape}\")\n",
    "print(f\"x_test shape: {x_test.shape}\")\n",
    "print(f\"y_train shape: {y_train.shape}\")\n",
    "print(f\"y_test shape: {y_test.shape}\")\n"
   ]
  },
  {
   "cell_type": "code",
   "execution_count": 7,
   "metadata": {},
   "outputs": [],
   "source": [
    "\"\"\"Save model and its metric\"\"\"\n",
    "def save_model(model, filename):\n",
    "    \"\"\"\n",
    "    This function saves the model to a file.\n",
    "    \n",
    "    Args:\n",
    "        model: A trained model.\n",
    "        filename: A string representing the filename.\n",
    "    \n",
    "    Returns:\n",
    "        None\n",
    "    \"\"\"\n",
    "    import pickle\n",
    "    with open(filename, 'wb') as file:\n",
    "        pickle.dump(model, file)\n",
    "\n",
    "import json\n",
    "def save_metric(y_true, y_pred, filename):\n",
    "    \"\"\"\n",
    "    This function saves the model's metric to a file.\n",
    "    \n",
    "    Args:\n",
    "        y_true: A list of true target values.\n",
    "        y_pred: A list of predicted target values.\n",
    "        filename: A string representing the filename.\n",
    "    \n",
    "    Returns:\n",
    "        None\n",
    "    \"\"\"\n",
    "    import pickle\n",
    "    metric = dict()\n",
    "    metric['MSE'] = mean_squared_error(y_true, y_pred)\n",
    "    metric['MAE'] = mean_absolute_error(y_true, y_pred)\n",
    "    metric['R2'] = r2_score(y_true, y_pred)\n",
    "    with open(filename, 'w') as file:\n",
    "        json.dump(metric, file)"
   ]
  },
  {
   "cell_type": "code",
   "execution_count": 8,
   "metadata": {},
   "outputs": [],
   "source": [
    "# Get Metrics \n",
    "def get_score(y_test, y_pred):\n",
    "    \"\"\"\n",
    "    This function calculates the model's metric.\n",
    "    \n",
    "    Args:\n",
    "        y_test: A list of true target values.\n",
    "        y_pred: A list of predicted target values.\n",
    "    \n",
    "    Returns:\n",
    "        A dictionary of metrics.\n",
    "    \"\"\"\n",
    "    metric = dict()\n",
    "    metric['MSE'] = mean_squared_error(y_test, y_pred)\n",
    "    metric['MAE'] = mean_absolute_error(y_test, y_pred)\n",
    "    metric['R2'] = r2_score(y_test, y_pred).round(2)\n",
    "    return metric"
   ]
  },
  {
   "cell_type": "markdown",
   "metadata": {},
   "source": [
    "### *Linear Regression*"
   ]
  },
  {
   "cell_type": "code",
   "execution_count": 11,
   "metadata": {},
   "outputs": [],
   "source": [
    "from sklearn.linear_model import LinearRegression\n",
    "\n",
    "# model \n",
    "lr = LinearRegression()\n",
    "\n",
    "def run_linearRegression(model): \n",
    "    lr.fit(x_train, y_train)\n",
    "    return lr "
   ]
  },
  {
   "cell_type": "code",
   "execution_count": 12,
   "metadata": {},
   "outputs": [],
   "source": [
    "lr = run_linearRegression(lr)"
   ]
  },
  {
   "cell_type": "code",
   "execution_count": 13,
   "metadata": {},
   "outputs": [
    {
     "data": {
      "text/plain": [
       "{'MSE': 55.510602464434754, 'MAE': 3.5293280676484313, 'R2': 0.47}"
      ]
     },
     "execution_count": 13,
     "metadata": {},
     "output_type": "execute_result"
    }
   ],
   "source": [
    "yp = lr.predict(x_test)\n",
    "\n",
    "# Res \n",
    "get_score(y_test, yp)\n",
    "\n",
    "# Save model and metrics \n",
    "# save_model(lr, 'linearRegression.pkl')\n",
    "# save_metric(y_test, yp, 'linearRegression.json')"
   ]
  },
  {
   "cell_type": "markdown",
   "metadata": {},
   "source": [
    "### *Lasso Regression*"
   ]
  },
  {
   "cell_type": "code",
   "execution_count": 15,
   "metadata": {},
   "outputs": [],
   "source": [
    "from sklearn.linear_model import Lasso\n",
    "from sklearn.model_selection import GridSearchCV\n",
    "\n",
    "lasso = Lasso()\n",
    "# params = {\n",
    "#     'alpha': [0.001, 0.01, 0.1, 10]\n",
    "# }\n",
    "\n",
    "# Model with grid search\n",
    "# lasso_reg = GridSearchCV(lasso, params)"
   ]
  },
  {
   "cell_type": "code",
   "execution_count": 16,
   "metadata": {},
   "outputs": [
    {
     "data": {
      "text/html": [
       "<style>#sk-container-id-1 {color: black;}#sk-container-id-1 pre{padding: 0;}#sk-container-id-1 div.sk-toggleable {background-color: white;}#sk-container-id-1 label.sk-toggleable__label {cursor: pointer;display: block;width: 100%;margin-bottom: 0;padding: 0.3em;box-sizing: border-box;text-align: center;}#sk-container-id-1 label.sk-toggleable__label-arrow:before {content: \"▸\";float: left;margin-right: 0.25em;color: #696969;}#sk-container-id-1 label.sk-toggleable__label-arrow:hover:before {color: black;}#sk-container-id-1 div.sk-estimator:hover label.sk-toggleable__label-arrow:before {color: black;}#sk-container-id-1 div.sk-toggleable__content {max-height: 0;max-width: 0;overflow: hidden;text-align: left;background-color: #f0f8ff;}#sk-container-id-1 div.sk-toggleable__content pre {margin: 0.2em;color: black;border-radius: 0.25em;background-color: #f0f8ff;}#sk-container-id-1 input.sk-toggleable__control:checked~div.sk-toggleable__content {max-height: 200px;max-width: 100%;overflow: auto;}#sk-container-id-1 input.sk-toggleable__control:checked~label.sk-toggleable__label-arrow:before {content: \"▾\";}#sk-container-id-1 div.sk-estimator input.sk-toggleable__control:checked~label.sk-toggleable__label {background-color: #d4ebff;}#sk-container-id-1 div.sk-label input.sk-toggleable__control:checked~label.sk-toggleable__label {background-color: #d4ebff;}#sk-container-id-1 input.sk-hidden--visually {border: 0;clip: rect(1px 1px 1px 1px);clip: rect(1px, 1px, 1px, 1px);height: 1px;margin: -1px;overflow: hidden;padding: 0;position: absolute;width: 1px;}#sk-container-id-1 div.sk-estimator {font-family: monospace;background-color: #f0f8ff;border: 1px dotted black;border-radius: 0.25em;box-sizing: border-box;margin-bottom: 0.5em;}#sk-container-id-1 div.sk-estimator:hover {background-color: #d4ebff;}#sk-container-id-1 div.sk-parallel-item::after {content: \"\";width: 100%;border-bottom: 1px solid gray;flex-grow: 1;}#sk-container-id-1 div.sk-label:hover label.sk-toggleable__label {background-color: #d4ebff;}#sk-container-id-1 div.sk-serial::before {content: \"\";position: absolute;border-left: 1px solid gray;box-sizing: border-box;top: 0;bottom: 0;left: 50%;z-index: 0;}#sk-container-id-1 div.sk-serial {display: flex;flex-direction: column;align-items: center;background-color: white;padding-right: 0.2em;padding-left: 0.2em;position: relative;}#sk-container-id-1 div.sk-item {position: relative;z-index: 1;}#sk-container-id-1 div.sk-parallel {display: flex;align-items: stretch;justify-content: center;background-color: white;position: relative;}#sk-container-id-1 div.sk-item::before, #sk-container-id-1 div.sk-parallel-item::before {content: \"\";position: absolute;border-left: 1px solid gray;box-sizing: border-box;top: 0;bottom: 0;left: 50%;z-index: -1;}#sk-container-id-1 div.sk-parallel-item {display: flex;flex-direction: column;z-index: 1;position: relative;background-color: white;}#sk-container-id-1 div.sk-parallel-item:first-child::after {align-self: flex-end;width: 50%;}#sk-container-id-1 div.sk-parallel-item:last-child::after {align-self: flex-start;width: 50%;}#sk-container-id-1 div.sk-parallel-item:only-child::after {width: 0;}#sk-container-id-1 div.sk-dashed-wrapped {border: 1px dashed gray;margin: 0 0.4em 0.5em 0.4em;box-sizing: border-box;padding-bottom: 0.4em;background-color: white;}#sk-container-id-1 div.sk-label label {font-family: monospace;font-weight: bold;display: inline-block;line-height: 1.2em;}#sk-container-id-1 div.sk-label-container {text-align: center;}#sk-container-id-1 div.sk-container {/* jupyter's `normalize.less` sets `[hidden] { display: none; }` but bootstrap.min.css set `[hidden] { display: none !important; }` so we also need the `!important` here to be able to override the default hidden behavior on the sphinx rendered scikit-learn.org. See: https://github.com/scikit-learn/scikit-learn/issues/21755 */display: inline-block !important;position: relative;}#sk-container-id-1 div.sk-text-repr-fallback {display: none;}</style><div id=\"sk-container-id-1\" class=\"sk-top-container\"><div class=\"sk-text-repr-fallback\"><pre>Lasso()</pre><b>In a Jupyter environment, please rerun this cell to show the HTML representation or trust the notebook. <br />On GitHub, the HTML representation is unable to render, please try loading this page with nbviewer.org.</b></div><div class=\"sk-container\" hidden><div class=\"sk-item\"><div class=\"sk-estimator sk-toggleable\"><input class=\"sk-toggleable__control sk-hidden--visually\" id=\"sk-estimator-id-1\" type=\"checkbox\" checked><label for=\"sk-estimator-id-1\" class=\"sk-toggleable__label sk-toggleable__label-arrow\">Lasso</label><div class=\"sk-toggleable__content\"><pre>Lasso()</pre></div></div></div></div></div>"
      ],
      "text/plain": [
       "Lasso()"
      ]
     },
     "execution_count": 16,
     "metadata": {},
     "output_type": "execute_result"
    }
   ],
   "source": [
    "# Train\n",
    "lasso.fit(x_train, y_train)"
   ]
  },
  {
   "cell_type": "code",
   "execution_count": 17,
   "metadata": {},
   "outputs": [
    {
     "data": {
      "text/plain": [
       "{'MSE': 58.11932831345519, 'MAE': 2.91550345755795, 'R2': 0.45}"
      ]
     },
     "execution_count": 17,
     "metadata": {},
     "output_type": "execute_result"
    }
   ],
   "source": [
    "get_score(y_test, lasso.predict(x_test))"
   ]
  },
  {
   "cell_type": "code",
   "execution_count": 59,
   "metadata": {},
   "outputs": [],
   "source": [
    "save_model(lasso, 'lassoRegression.pkl')\n",
    "save_metric(y_test, lasso.predict(x_test), 'lassoRegression.json')"
   ]
  },
  {
   "cell_type": "markdown",
   "metadata": {},
   "source": [
    "### *Elastic Net regression*"
   ]
  },
  {
   "cell_type": "code",
   "execution_count": 19,
   "metadata": {},
   "outputs": [
    {
     "data": {
      "text/html": [
       "<style>#sk-container-id-2 {color: black;}#sk-container-id-2 pre{padding: 0;}#sk-container-id-2 div.sk-toggleable {background-color: white;}#sk-container-id-2 label.sk-toggleable__label {cursor: pointer;display: block;width: 100%;margin-bottom: 0;padding: 0.3em;box-sizing: border-box;text-align: center;}#sk-container-id-2 label.sk-toggleable__label-arrow:before {content: \"▸\";float: left;margin-right: 0.25em;color: #696969;}#sk-container-id-2 label.sk-toggleable__label-arrow:hover:before {color: black;}#sk-container-id-2 div.sk-estimator:hover label.sk-toggleable__label-arrow:before {color: black;}#sk-container-id-2 div.sk-toggleable__content {max-height: 0;max-width: 0;overflow: hidden;text-align: left;background-color: #f0f8ff;}#sk-container-id-2 div.sk-toggleable__content pre {margin: 0.2em;color: black;border-radius: 0.25em;background-color: #f0f8ff;}#sk-container-id-2 input.sk-toggleable__control:checked~div.sk-toggleable__content {max-height: 200px;max-width: 100%;overflow: auto;}#sk-container-id-2 input.sk-toggleable__control:checked~label.sk-toggleable__label-arrow:before {content: \"▾\";}#sk-container-id-2 div.sk-estimator input.sk-toggleable__control:checked~label.sk-toggleable__label {background-color: #d4ebff;}#sk-container-id-2 div.sk-label input.sk-toggleable__control:checked~label.sk-toggleable__label {background-color: #d4ebff;}#sk-container-id-2 input.sk-hidden--visually {border: 0;clip: rect(1px 1px 1px 1px);clip: rect(1px, 1px, 1px, 1px);height: 1px;margin: -1px;overflow: hidden;padding: 0;position: absolute;width: 1px;}#sk-container-id-2 div.sk-estimator {font-family: monospace;background-color: #f0f8ff;border: 1px dotted black;border-radius: 0.25em;box-sizing: border-box;margin-bottom: 0.5em;}#sk-container-id-2 div.sk-estimator:hover {background-color: #d4ebff;}#sk-container-id-2 div.sk-parallel-item::after {content: \"\";width: 100%;border-bottom: 1px solid gray;flex-grow: 1;}#sk-container-id-2 div.sk-label:hover label.sk-toggleable__label {background-color: #d4ebff;}#sk-container-id-2 div.sk-serial::before {content: \"\";position: absolute;border-left: 1px solid gray;box-sizing: border-box;top: 0;bottom: 0;left: 50%;z-index: 0;}#sk-container-id-2 div.sk-serial {display: flex;flex-direction: column;align-items: center;background-color: white;padding-right: 0.2em;padding-left: 0.2em;position: relative;}#sk-container-id-2 div.sk-item {position: relative;z-index: 1;}#sk-container-id-2 div.sk-parallel {display: flex;align-items: stretch;justify-content: center;background-color: white;position: relative;}#sk-container-id-2 div.sk-item::before, #sk-container-id-2 div.sk-parallel-item::before {content: \"\";position: absolute;border-left: 1px solid gray;box-sizing: border-box;top: 0;bottom: 0;left: 50%;z-index: -1;}#sk-container-id-2 div.sk-parallel-item {display: flex;flex-direction: column;z-index: 1;position: relative;background-color: white;}#sk-container-id-2 div.sk-parallel-item:first-child::after {align-self: flex-end;width: 50%;}#sk-container-id-2 div.sk-parallel-item:last-child::after {align-self: flex-start;width: 50%;}#sk-container-id-2 div.sk-parallel-item:only-child::after {width: 0;}#sk-container-id-2 div.sk-dashed-wrapped {border: 1px dashed gray;margin: 0 0.4em 0.5em 0.4em;box-sizing: border-box;padding-bottom: 0.4em;background-color: white;}#sk-container-id-2 div.sk-label label {font-family: monospace;font-weight: bold;display: inline-block;line-height: 1.2em;}#sk-container-id-2 div.sk-label-container {text-align: center;}#sk-container-id-2 div.sk-container {/* jupyter's `normalize.less` sets `[hidden] { display: none; }` but bootstrap.min.css set `[hidden] { display: none !important; }` so we also need the `!important` here to be able to override the default hidden behavior on the sphinx rendered scikit-learn.org. See: https://github.com/scikit-learn/scikit-learn/issues/21755 */display: inline-block !important;position: relative;}#sk-container-id-2 div.sk-text-repr-fallback {display: none;}</style><div id=\"sk-container-id-2\" class=\"sk-top-container\"><div class=\"sk-text-repr-fallback\"><pre>ElasticNet(alpha=0.5, random_state=42)</pre><b>In a Jupyter environment, please rerun this cell to show the HTML representation or trust the notebook. <br />On GitHub, the HTML representation is unable to render, please try loading this page with nbviewer.org.</b></div><div class=\"sk-container\" hidden><div class=\"sk-item\"><div class=\"sk-estimator sk-toggleable\"><input class=\"sk-toggleable__control sk-hidden--visually\" id=\"sk-estimator-id-2\" type=\"checkbox\" checked><label for=\"sk-estimator-id-2\" class=\"sk-toggleable__label sk-toggleable__label-arrow\">ElasticNet</label><div class=\"sk-toggleable__content\"><pre>ElasticNet(alpha=0.5, random_state=42)</pre></div></div></div></div></div>"
      ],
      "text/plain": [
       "ElasticNet(alpha=0.5, random_state=42)"
      ]
     },
     "execution_count": 19,
     "metadata": {},
     "output_type": "execute_result"
    }
   ],
   "source": [
    "from sklearn.linear_model import ElasticNet \n",
    "\n",
    "elastic_net = ElasticNet(alpha = 0.5, l1_ratio = 0.5, random_state = 42)\n",
    "elastic_net.fit(x_train, y_train) "
   ]
  },
  {
   "cell_type": "code",
   "execution_count": 20,
   "metadata": {},
   "outputs": [
    {
     "data": {
      "text/plain": [
       "{'MSE': 57.97103720053404, 'MAE': 3.0287753087553066, 'R2': 0.45}"
      ]
     },
     "execution_count": 20,
     "metadata": {},
     "output_type": "execute_result"
    }
   ],
   "source": [
    "y_pred = elastic_net.predict(x_test)\n",
    "\n",
    "get_score(y_test, y_pred)"
   ]
  },
  {
   "cell_type": "code",
   "execution_count": 21,
   "metadata": {},
   "outputs": [],
   "source": [
    "save_model(elastic_net, 'elasticNetRegression.pkl')\n",
    "save_metric(y_test, y_pred, 'elasticNetRegression.json')"
   ]
  },
  {
   "cell_type": "markdown",
   "metadata": {},
   "source": [
    "### *Support Vector Regressor*"
   ]
  },
  {
   "cell_type": "code",
   "execution_count": 22,
   "metadata": {},
   "outputs": [],
   "source": [
    "from sklearn.svm import SVR\n",
    "\n",
    "svr = SVR(kernel = 'linear', C=1, epsilon = 0.1)\n",
    "\n",
    "svr.fit(x_train, y_train)"
   ]
  },
  {
   "cell_type": "code",
   "execution_count": null,
   "metadata": {},
   "outputs": [],
   "source": [
    "svr_pred = svr.predict(x_test)\n",
    "get_score(y_test, svr_pred)"
   ]
  },
  {
   "cell_type": "markdown",
   "metadata": {},
   "source": [
    "### *Random Forest regression*"
   ]
  },
  {
   "cell_type": "code",
   "execution_count": 18,
   "metadata": {},
   "outputs": [],
   "source": [
    "from sklearn.ensemble import RandomForestRegressor\n",
    "\n",
    "rfr = RandomForestRegressor(\n",
    "    n_estimators = 100, max_depth = 10, random_state = 42\n",
    ")"
   ]
  },
  {
   "cell_type": "code",
   "execution_count": 19,
   "metadata": {},
   "outputs": [
    {
     "data": {
      "text/html": [
       "<style>#sk-container-id-1 {color: black;}#sk-container-id-1 pre{padding: 0;}#sk-container-id-1 div.sk-toggleable {background-color: white;}#sk-container-id-1 label.sk-toggleable__label {cursor: pointer;display: block;width: 100%;margin-bottom: 0;padding: 0.3em;box-sizing: border-box;text-align: center;}#sk-container-id-1 label.sk-toggleable__label-arrow:before {content: \"▸\";float: left;margin-right: 0.25em;color: #696969;}#sk-container-id-1 label.sk-toggleable__label-arrow:hover:before {color: black;}#sk-container-id-1 div.sk-estimator:hover label.sk-toggleable__label-arrow:before {color: black;}#sk-container-id-1 div.sk-toggleable__content {max-height: 0;max-width: 0;overflow: hidden;text-align: left;background-color: #f0f8ff;}#sk-container-id-1 div.sk-toggleable__content pre {margin: 0.2em;color: black;border-radius: 0.25em;background-color: #f0f8ff;}#sk-container-id-1 input.sk-toggleable__control:checked~div.sk-toggleable__content {max-height: 200px;max-width: 100%;overflow: auto;}#sk-container-id-1 input.sk-toggleable__control:checked~label.sk-toggleable__label-arrow:before {content: \"▾\";}#sk-container-id-1 div.sk-estimator input.sk-toggleable__control:checked~label.sk-toggleable__label {background-color: #d4ebff;}#sk-container-id-1 div.sk-label input.sk-toggleable__control:checked~label.sk-toggleable__label {background-color: #d4ebff;}#sk-container-id-1 input.sk-hidden--visually {border: 0;clip: rect(1px 1px 1px 1px);clip: rect(1px, 1px, 1px, 1px);height: 1px;margin: -1px;overflow: hidden;padding: 0;position: absolute;width: 1px;}#sk-container-id-1 div.sk-estimator {font-family: monospace;background-color: #f0f8ff;border: 1px dotted black;border-radius: 0.25em;box-sizing: border-box;margin-bottom: 0.5em;}#sk-container-id-1 div.sk-estimator:hover {background-color: #d4ebff;}#sk-container-id-1 div.sk-parallel-item::after {content: \"\";width: 100%;border-bottom: 1px solid gray;flex-grow: 1;}#sk-container-id-1 div.sk-label:hover label.sk-toggleable__label {background-color: #d4ebff;}#sk-container-id-1 div.sk-serial::before {content: \"\";position: absolute;border-left: 1px solid gray;box-sizing: border-box;top: 0;bottom: 0;left: 50%;z-index: 0;}#sk-container-id-1 div.sk-serial {display: flex;flex-direction: column;align-items: center;background-color: white;padding-right: 0.2em;padding-left: 0.2em;position: relative;}#sk-container-id-1 div.sk-item {position: relative;z-index: 1;}#sk-container-id-1 div.sk-parallel {display: flex;align-items: stretch;justify-content: center;background-color: white;position: relative;}#sk-container-id-1 div.sk-item::before, #sk-container-id-1 div.sk-parallel-item::before {content: \"\";position: absolute;border-left: 1px solid gray;box-sizing: border-box;top: 0;bottom: 0;left: 50%;z-index: -1;}#sk-container-id-1 div.sk-parallel-item {display: flex;flex-direction: column;z-index: 1;position: relative;background-color: white;}#sk-container-id-1 div.sk-parallel-item:first-child::after {align-self: flex-end;width: 50%;}#sk-container-id-1 div.sk-parallel-item:last-child::after {align-self: flex-start;width: 50%;}#sk-container-id-1 div.sk-parallel-item:only-child::after {width: 0;}#sk-container-id-1 div.sk-dashed-wrapped {border: 1px dashed gray;margin: 0 0.4em 0.5em 0.4em;box-sizing: border-box;padding-bottom: 0.4em;background-color: white;}#sk-container-id-1 div.sk-label label {font-family: monospace;font-weight: bold;display: inline-block;line-height: 1.2em;}#sk-container-id-1 div.sk-label-container {text-align: center;}#sk-container-id-1 div.sk-container {/* jupyter's `normalize.less` sets `[hidden] { display: none; }` but bootstrap.min.css set `[hidden] { display: none !important; }` so we also need the `!important` here to be able to override the default hidden behavior on the sphinx rendered scikit-learn.org. See: https://github.com/scikit-learn/scikit-learn/issues/21755 */display: inline-block !important;position: relative;}#sk-container-id-1 div.sk-text-repr-fallback {display: none;}</style><div id=\"sk-container-id-1\" class=\"sk-top-container\"><div class=\"sk-text-repr-fallback\"><pre>RandomForestRegressor(max_depth=10, random_state=42)</pre><b>In a Jupyter environment, please rerun this cell to show the HTML representation or trust the notebook. <br />On GitHub, the HTML representation is unable to render, please try loading this page with nbviewer.org.</b></div><div class=\"sk-container\" hidden><div class=\"sk-item\"><div class=\"sk-estimator sk-toggleable\"><input class=\"sk-toggleable__control sk-hidden--visually\" id=\"sk-estimator-id-1\" type=\"checkbox\" checked><label for=\"sk-estimator-id-1\" class=\"sk-toggleable__label sk-toggleable__label-arrow\">RandomForestRegressor</label><div class=\"sk-toggleable__content\"><pre>RandomForestRegressor(max_depth=10, random_state=42)</pre></div></div></div></div></div>"
      ],
      "text/plain": [
       "RandomForestRegressor(max_depth=10, random_state=42)"
      ]
     },
     "execution_count": 19,
     "metadata": {},
     "output_type": "execute_result"
    }
   ],
   "source": [
    "rfr.fit(x_train, y_train)"
   ]
  },
  {
   "cell_type": "code",
   "execution_count": 20,
   "metadata": {},
   "outputs": [
    {
     "data": {
      "text/plain": [
       "{'MSE': 22.03155125822385, 'MAE': 1.0648447553869764, 'R2': 0.79}"
      ]
     },
     "execution_count": 20,
     "metadata": {},
     "output_type": "execute_result"
    }
   ],
   "source": [
    "rfr_pred = rfr.predict(x_test)\n",
    "get_score(y_test, rfr_pred)"
   ]
  },
  {
   "cell_type": "code",
   "execution_count": 21,
   "metadata": {},
   "outputs": [
    {
     "name": "stderr",
     "output_type": "stream",
     "text": [
      "'hurray' is not recognized as an internal or external command,\n",
      "operable program or batch file.\n"
     ]
    }
   ],
   "source": [
    "! hurray : ) "
   ]
  },
  {
   "cell_type": "code",
   "execution_count": 23,
   "metadata": {},
   "outputs": [],
   "source": [
    "save_model(rfr, 'RandomForestRegressor.pkl')\n",
    "save_metric(y_test, rfr_pred, 'RandomForestRegressor.json')"
   ]
  },
  {
   "cell_type": "markdown",
   "metadata": {},
   "source": [
    "### *CatBoost Regressor*"
   ]
  },
  {
   "cell_type": "code",
   "execution_count": 12,
   "metadata": {},
   "outputs": [],
   "source": [
    "from catboost import CatBoostRegressor\n",
    "import numpy as np\n",
    "# from sklearn.metrics import "
   ]
  },
  {
   "cell_type": "code",
   "execution_count": 15,
   "metadata": {},
   "outputs": [
    {
     "data": {
      "text/html": [
       "<div>\n",
       "<style scoped>\n",
       "    .dataframe tbody tr th:only-of-type {\n",
       "        vertical-align: middle;\n",
       "    }\n",
       "\n",
       "    .dataframe tbody tr th {\n",
       "        vertical-align: top;\n",
       "    }\n",
       "\n",
       "    .dataframe thead th {\n",
       "        text-align: right;\n",
       "    }\n",
       "</style>\n",
       "<table border=\"1\" class=\"dataframe\">\n",
       "  <thead>\n",
       "    <tr style=\"text-align: right;\">\n",
       "      <th></th>\n",
       "      <th>day</th>\n",
       "      <th>adFlag</th>\n",
       "      <th>availability</th>\n",
       "      <th>click</th>\n",
       "      <th>basket</th>\n",
       "      <th>order</th>\n",
       "      <th>price</th>\n",
       "      <th>revenue</th>\n",
       "      <th>manufacturer</th>\n",
       "      <th>group</th>\n",
       "      <th>content</th>\n",
       "      <th>unit</th>\n",
       "      <th>pharmForm</th>\n",
       "      <th>genericProduct</th>\n",
       "      <th>salesIndex</th>\n",
       "      <th>category</th>\n",
       "      <th>rrp</th>\n",
       "      <th>compPrice</th>\n",
       "    </tr>\n",
       "  </thead>\n",
       "  <tbody>\n",
       "    <tr>\n",
       "      <th>0</th>\n",
       "      <td>1</td>\n",
       "      <td>0</td>\n",
       "      <td>2</td>\n",
       "      <td>1</td>\n",
       "      <td>0</td>\n",
       "      <td>0</td>\n",
       "      <td>16.89</td>\n",
       "      <td>0.00</td>\n",
       "      <td>255</td>\n",
       "      <td>2FOI</td>\n",
       "      <td>50</td>\n",
       "      <td>ML</td>\n",
       "      <td>TRO</td>\n",
       "      <td>0</td>\n",
       "      <td>40</td>\n",
       "      <td>193.0</td>\n",
       "      <td>18.25</td>\n",
       "      <td>14.60</td>\n",
       "    </tr>\n",
       "    <tr>\n",
       "      <th>1</th>\n",
       "      <td>1</td>\n",
       "      <td>1</td>\n",
       "      <td>1</td>\n",
       "      <td>0</td>\n",
       "      <td>1</td>\n",
       "      <td>0</td>\n",
       "      <td>8.75</td>\n",
       "      <td>0.00</td>\n",
       "      <td>18</td>\n",
       "      <td>1COJ0FIK</td>\n",
       "      <td>50</td>\n",
       "      <td>ST</td>\n",
       "      <td>TAB</td>\n",
       "      <td>1</td>\n",
       "      <td>40</td>\n",
       "      <td>66.0</td>\n",
       "      <td>18.81</td>\n",
       "      <td>8.57</td>\n",
       "    </tr>\n",
       "    <tr>\n",
       "      <th>2</th>\n",
       "      <td>1</td>\n",
       "      <td>0</td>\n",
       "      <td>1</td>\n",
       "      <td>0</td>\n",
       "      <td>1</td>\n",
       "      <td>0</td>\n",
       "      <td>16.06</td>\n",
       "      <td>0.00</td>\n",
       "      <td>41</td>\n",
       "      <td>22OI7</td>\n",
       "      <td>2X50</td>\n",
       "      <td>ML</td>\n",
       "      <td>STI</td>\n",
       "      <td>0</td>\n",
       "      <td>53</td>\n",
       "      <td>40.0</td>\n",
       "      <td>18.48</td>\n",
       "      <td>14.77</td>\n",
       "    </tr>\n",
       "    <tr>\n",
       "      <th>3</th>\n",
       "      <td>1</td>\n",
       "      <td>1</td>\n",
       "      <td>1</td>\n",
       "      <td>0</td>\n",
       "      <td>0</td>\n",
       "      <td>1</td>\n",
       "      <td>6.55</td>\n",
       "      <td>6.55</td>\n",
       "      <td>52</td>\n",
       "      <td>18OZ00IS</td>\n",
       "      <td>60</td>\n",
       "      <td>G</td>\n",
       "      <td>GEL</td>\n",
       "      <td>0</td>\n",
       "      <td>40</td>\n",
       "      <td>25.0</td>\n",
       "      <td>9.31</td>\n",
       "      <td>6.59</td>\n",
       "    </tr>\n",
       "  </tbody>\n",
       "</table>\n",
       "</div>"
      ],
      "text/plain": [
       "   day  adFlag  availability  click  basket  order  price  revenue  \\\n",
       "0    1       0             2      1       0      0  16.89     0.00   \n",
       "1    1       1             1      0       1      0   8.75     0.00   \n",
       "2    1       0             1      0       1      0  16.06     0.00   \n",
       "3    1       1             1      0       0      1   6.55     6.55   \n",
       "\n",
       "   manufacturer     group content unit pharmForm  genericProduct  salesIndex  \\\n",
       "0           255      2FOI      50   ML       TRO               0          40   \n",
       "1            18  1COJ0FIK      50   ST       TAB               1          40   \n",
       "2            41     22OI7    2X50   ML       STI               0          53   \n",
       "3            52  18OZ00IS      60    G       GEL               0          40   \n",
       "\n",
       "   category    rrp  compPrice  \n",
       "0     193.0  18.25      14.60  \n",
       "1      66.0  18.81       8.57  \n",
       "2      40.0  18.48      14.77  \n",
       "3      25.0   9.31       6.59  "
      ]
     },
     "execution_count": 15,
     "metadata": {},
     "output_type": "execute_result"
    }
   ],
   "source": [
    "df = pd.read_csv('df_missing_values_handled.csv',  index_col = 0)\n",
    "# df.head(4)"
   ]
  },
  {
   "cell_type": "code",
   "execution_count": 18,
   "metadata": {},
   "outputs": [
    {
     "data": {
      "text/plain": [
       "array([ 8,  9, 10, 11], dtype=int64)"
      ]
     },
     "execution_count": 18,
     "metadata": {},
     "output_type": "execute_result"
    }
   ],
   "source": [
    "f = df.drop(columns='revenue')\n",
    "t = df['revenue']\n",
    "\n",
    "cat_indices = np.where(f.dtypes == object)[0]\n",
    "cat_indices"
   ]
  },
  {
   "cell_type": "code",
   "execution_count": 19,
   "metadata": {},
   "outputs": [],
   "source": [
    "x_tr, x_ts, y_tr, y_ts = train_test_split(f, t, test_size= 0.2, random_state=42)"
   ]
  },
  {
   "cell_type": "code",
   "execution_count": 20,
   "metadata": {},
   "outputs": [
    {
     "name": "stdout",
     "output_type": "stream",
     "text": [
      "0:\tlearn: 9.5340903\ttotal: 1.59s\tremaining: 2m 37s\n",
      "1:\tlearn: 8.8756884\ttotal: 2.61s\tremaining: 2m 8s\n",
      "2:\tlearn: 8.2983795\ttotal: 3.52s\tremaining: 1m 53s\n",
      "3:\tlearn: 7.7950719\ttotal: 4.38s\tremaining: 1m 45s\n",
      "4:\tlearn: 7.3573422\ttotal: 5.32s\tremaining: 1m 41s\n",
      "5:\tlearn: 6.9777643\ttotal: 6.22s\tremaining: 1m 37s\n",
      "6:\tlearn: 6.6559348\ttotal: 6.97s\tremaining: 1m 32s\n",
      "7:\tlearn: 6.3791424\ttotal: 7.7s\tremaining: 1m 28s\n",
      "8:\tlearn: 6.1431282\ttotal: 8.54s\tremaining: 1m 26s\n",
      "9:\tlearn: 5.9442731\ttotal: 9.46s\tremaining: 1m 25s\n",
      "10:\tlearn: 5.7741253\ttotal: 10.2s\tremaining: 1m 22s\n",
      "11:\tlearn: 5.6313454\ttotal: 11s\tremaining: 1m 20s\n",
      "12:\tlearn: 5.5118850\ttotal: 11.8s\tremaining: 1m 18s\n",
      "13:\tlearn: 5.4126611\ttotal: 12.6s\tremaining: 1m 17s\n",
      "14:\tlearn: 5.3298664\ttotal: 13.3s\tremaining: 1m 15s\n",
      "15:\tlearn: 5.2605797\ttotal: 14s\tremaining: 1m 13s\n",
      "16:\tlearn: 5.2038741\ttotal: 14.7s\tremaining: 1m 11s\n",
      "17:\tlearn: 5.1569725\ttotal: 15.3s\tremaining: 1m 9s\n",
      "18:\tlearn: 5.1173039\ttotal: 16s\tremaining: 1m 8s\n",
      "19:\tlearn: 5.0843946\ttotal: 16.7s\tremaining: 1m 6s\n",
      "20:\tlearn: 5.0573947\ttotal: 17.5s\tremaining: 1m 5s\n",
      "21:\tlearn: 5.0343664\ttotal: 18.2s\tremaining: 1m 4s\n",
      "22:\tlearn: 5.0162226\ttotal: 18.9s\tremaining: 1m 3s\n",
      "23:\tlearn: 5.0003550\ttotal: 19.6s\tremaining: 1m 2s\n",
      "24:\tlearn: 4.9876946\ttotal: 20.3s\tremaining: 1m\n",
      "25:\tlearn: 4.9762778\ttotal: 21s\tremaining: 59.7s\n",
      "26:\tlearn: 4.9670461\ttotal: 21.7s\tremaining: 58.7s\n",
      "27:\tlearn: 4.9595797\ttotal: 22.4s\tremaining: 57.5s\n",
      "28:\tlearn: 4.9529391\ttotal: 23s\tremaining: 56.4s\n",
      "29:\tlearn: 4.9458650\ttotal: 23.7s\tremaining: 55.4s\n",
      "30:\tlearn: 4.9411329\ttotal: 24.5s\tremaining: 54.5s\n",
      "31:\tlearn: 4.9352936\ttotal: 25.2s\tremaining: 53.6s\n",
      "32:\tlearn: 4.9317963\ttotal: 25.9s\tremaining: 52.5s\n",
      "33:\tlearn: 4.9286296\ttotal: 26.6s\tremaining: 51.6s\n",
      "34:\tlearn: 4.9251030\ttotal: 27.4s\tremaining: 50.8s\n",
      "35:\tlearn: 4.9205790\ttotal: 28.2s\tremaining: 50.1s\n",
      "36:\tlearn: 4.9186485\ttotal: 29s\tremaining: 49.3s\n",
      "37:\tlearn: 4.9170799\ttotal: 29.7s\tremaining: 48.4s\n",
      "38:\tlearn: 4.9139567\ttotal: 30.4s\tremaining: 47.6s\n",
      "39:\tlearn: 4.9120096\ttotal: 31.1s\tremaining: 46.7s\n",
      "40:\tlearn: 4.9102171\ttotal: 31.8s\tremaining: 45.8s\n",
      "41:\tlearn: 4.9082062\ttotal: 32.5s\tremaining: 44.8s\n",
      "42:\tlearn: 4.9050788\ttotal: 33.1s\tremaining: 43.8s\n",
      "43:\tlearn: 4.9034338\ttotal: 33.7s\tremaining: 43s\n",
      "44:\tlearn: 4.9014613\ttotal: 34.4s\tremaining: 42s\n",
      "45:\tlearn: 4.9003375\ttotal: 35s\tremaining: 41.1s\n",
      "46:\tlearn: 4.8985956\ttotal: 35.6s\tremaining: 40.2s\n",
      "47:\tlearn: 4.8967400\ttotal: 36.2s\tremaining: 39.3s\n",
      "48:\tlearn: 4.8952078\ttotal: 36.9s\tremaining: 38.4s\n",
      "49:\tlearn: 4.8926840\ttotal: 37.5s\tremaining: 37.5s\n",
      "50:\tlearn: 4.8916193\ttotal: 38.1s\tremaining: 36.6s\n",
      "51:\tlearn: 4.8905851\ttotal: 38.7s\tremaining: 35.7s\n",
      "52:\tlearn: 4.8897076\ttotal: 39.3s\tremaining: 34.9s\n",
      "53:\tlearn: 4.8888410\ttotal: 39.9s\tremaining: 34s\n",
      "54:\tlearn: 4.8877078\ttotal: 40.6s\tremaining: 33.2s\n",
      "55:\tlearn: 4.8867278\ttotal: 41.3s\tremaining: 32.4s\n",
      "56:\tlearn: 4.8861197\ttotal: 41.9s\tremaining: 31.6s\n",
      "57:\tlearn: 4.8851631\ttotal: 42.6s\tremaining: 30.9s\n",
      "58:\tlearn: 4.8844795\ttotal: 43.3s\tremaining: 30.1s\n",
      "59:\tlearn: 4.8837515\ttotal: 43.9s\tremaining: 29.3s\n",
      "60:\tlearn: 4.8818629\ttotal: 44.7s\tremaining: 28.6s\n",
      "61:\tlearn: 4.8807813\ttotal: 45.3s\tremaining: 27.8s\n",
      "62:\tlearn: 4.8801910\ttotal: 46s\tremaining: 27s\n",
      "63:\tlearn: 4.8786776\ttotal: 46.6s\tremaining: 26.2s\n",
      "64:\tlearn: 4.8775305\ttotal: 47.2s\tremaining: 25.4s\n",
      "65:\tlearn: 4.8765962\ttotal: 47.8s\tremaining: 24.6s\n",
      "66:\tlearn: 4.8761761\ttotal: 48.3s\tremaining: 23.8s\n",
      "67:\tlearn: 4.8753805\ttotal: 48.9s\tremaining: 23s\n",
      "68:\tlearn: 4.8746456\ttotal: 49.5s\tremaining: 22.3s\n",
      "69:\tlearn: 4.8740360\ttotal: 50.1s\tremaining: 21.5s\n",
      "70:\tlearn: 4.8732055\ttotal: 50.8s\tremaining: 20.7s\n",
      "71:\tlearn: 4.8729405\ttotal: 51.3s\tremaining: 20s\n",
      "72:\tlearn: 4.8724930\ttotal: 51.9s\tremaining: 19.2s\n",
      "73:\tlearn: 4.8720440\ttotal: 52.5s\tremaining: 18.5s\n",
      "74:\tlearn: 4.8712418\ttotal: 53.1s\tremaining: 17.7s\n",
      "75:\tlearn: 4.8700888\ttotal: 53.7s\tremaining: 17s\n",
      "76:\tlearn: 4.8688431\ttotal: 54.3s\tremaining: 16.2s\n",
      "77:\tlearn: 4.8673372\ttotal: 54.9s\tremaining: 15.5s\n",
      "78:\tlearn: 4.8665233\ttotal: 55.5s\tremaining: 14.8s\n",
      "79:\tlearn: 4.8652488\ttotal: 56.1s\tremaining: 14s\n",
      "80:\tlearn: 4.8645618\ttotal: 56.8s\tremaining: 13.3s\n",
      "81:\tlearn: 4.8641184\ttotal: 57.4s\tremaining: 12.6s\n",
      "82:\tlearn: 4.8616897\ttotal: 58s\tremaining: 11.9s\n",
      "83:\tlearn: 4.8608059\ttotal: 58.6s\tremaining: 11.2s\n",
      "84:\tlearn: 4.8604549\ttotal: 59.2s\tremaining: 10.4s\n",
      "85:\tlearn: 4.8601119\ttotal: 59.8s\tremaining: 9.74s\n",
      "86:\tlearn: 4.8596064\ttotal: 1m\tremaining: 9.03s\n",
      "87:\tlearn: 4.8590409\ttotal: 1m 1s\tremaining: 8.32s\n",
      "88:\tlearn: 4.8583243\ttotal: 1m 1s\tremaining: 7.62s\n",
      "89:\tlearn: 4.8573643\ttotal: 1m 2s\tremaining: 6.91s\n",
      "90:\tlearn: 4.8569817\ttotal: 1m 2s\tremaining: 6.21s\n",
      "91:\tlearn: 4.8558618\ttotal: 1m 3s\tremaining: 5.52s\n",
      "92:\tlearn: 4.8556624\ttotal: 1m 4s\tremaining: 4.82s\n",
      "93:\tlearn: 4.8536067\ttotal: 1m 4s\tremaining: 4.13s\n",
      "94:\tlearn: 4.8527781\ttotal: 1m 5s\tremaining: 3.44s\n",
      "95:\tlearn: 4.8521261\ttotal: 1m 5s\tremaining: 2.74s\n",
      "96:\tlearn: 4.8512686\ttotal: 1m 6s\tremaining: 2.06s\n",
      "97:\tlearn: 4.8509159\ttotal: 1m 7s\tremaining: 1.37s\n",
      "98:\tlearn: 4.8503540\ttotal: 1m 7s\tremaining: 685ms\n",
      "99:\tlearn: 4.8493007\ttotal: 1m 8s\tremaining: 0us\n"
     ]
    },
    {
     "data": {
      "text/plain": [
       "<catboost.core.CatBoostRegressor at 0x25a4db172d0>"
      ]
     },
     "execution_count": 20,
     "metadata": {},
     "output_type": "execute_result"
    }
   ],
   "source": [
    "cbr = CatBoostRegressor(\n",
    "    iterations = 100,\n",
    "    depth = 6,\n",
    "    learning_rate = 0.1, \n",
    "    loss_function = 'RMSE',\n",
    "    eval_metric = 'RMSE', \n",
    "    cat_features = cat_indices,\n",
    "    random_state = 42\n",
    ")\n",
    "\n",
    "cbr.fit(x_tr, y_tr)"
   ]
  },
  {
   "cell_type": "code",
   "execution_count": 21,
   "metadata": {},
   "outputs": [
    {
     "data": {
      "text/plain": [
       "{'MSE': 22.153967737385067, 'MAE': 1.0847843609689507, 'R2': 0.79}"
      ]
     },
     "execution_count": 21,
     "metadata": {},
     "output_type": "execute_result"
    }
   ],
   "source": [
    "y_pr = cbr.predict(x_ts)\n",
    "\n",
    "get_score(y_ts, y_pr)"
   ]
  },
  {
   "cell_type": "code",
   "execution_count": 22,
   "metadata": {},
   "outputs": [],
   "source": [
    "save_model(cbr, 'CatBoostRegressor.pkl')\n",
    "save_metric(y_ts, y_pr, 'CatBoostRegressor.json')"
   ]
  },
  {
   "cell_type": "markdown",
   "metadata": {},
   "source": [
    "### *LightGBM Regressor*"
   ]
  },
  {
   "cell_type": "code",
   "execution_count": 26,
   "metadata": {},
   "outputs": [
    {
     "name": "stdout",
     "output_type": "stream",
     "text": [
      "[LightGBM] [Info] Auto-choosing col-wise multi-threading, the overhead of testing was 0.234288 seconds.\n",
      "You can set `force_col_wise=true` to remove the overhead.\n",
      "[LightGBM] [Info] Total Bins 1507\n",
      "[LightGBM] [Info] Number of data points in the train set: 2134887, number of used features: 15\n",
      "[LightGBM] [Info] Start training from score 3.778611\n"
     ]
    },
    {
     "data": {
      "text/html": [
       "<style>#sk-container-id-1 {color: black;}#sk-container-id-1 pre{padding: 0;}#sk-container-id-1 div.sk-toggleable {background-color: white;}#sk-container-id-1 label.sk-toggleable__label {cursor: pointer;display: block;width: 100%;margin-bottom: 0;padding: 0.3em;box-sizing: border-box;text-align: center;}#sk-container-id-1 label.sk-toggleable__label-arrow:before {content: \"▸\";float: left;margin-right: 0.25em;color: #696969;}#sk-container-id-1 label.sk-toggleable__label-arrow:hover:before {color: black;}#sk-container-id-1 div.sk-estimator:hover label.sk-toggleable__label-arrow:before {color: black;}#sk-container-id-1 div.sk-toggleable__content {max-height: 0;max-width: 0;overflow: hidden;text-align: left;background-color: #f0f8ff;}#sk-container-id-1 div.sk-toggleable__content pre {margin: 0.2em;color: black;border-radius: 0.25em;background-color: #f0f8ff;}#sk-container-id-1 input.sk-toggleable__control:checked~div.sk-toggleable__content {max-height: 200px;max-width: 100%;overflow: auto;}#sk-container-id-1 input.sk-toggleable__control:checked~label.sk-toggleable__label-arrow:before {content: \"▾\";}#sk-container-id-1 div.sk-estimator input.sk-toggleable__control:checked~label.sk-toggleable__label {background-color: #d4ebff;}#sk-container-id-1 div.sk-label input.sk-toggleable__control:checked~label.sk-toggleable__label {background-color: #d4ebff;}#sk-container-id-1 input.sk-hidden--visually {border: 0;clip: rect(1px 1px 1px 1px);clip: rect(1px, 1px, 1px, 1px);height: 1px;margin: -1px;overflow: hidden;padding: 0;position: absolute;width: 1px;}#sk-container-id-1 div.sk-estimator {font-family: monospace;background-color: #f0f8ff;border: 1px dotted black;border-radius: 0.25em;box-sizing: border-box;margin-bottom: 0.5em;}#sk-container-id-1 div.sk-estimator:hover {background-color: #d4ebff;}#sk-container-id-1 div.sk-parallel-item::after {content: \"\";width: 100%;border-bottom: 1px solid gray;flex-grow: 1;}#sk-container-id-1 div.sk-label:hover label.sk-toggleable__label {background-color: #d4ebff;}#sk-container-id-1 div.sk-serial::before {content: \"\";position: absolute;border-left: 1px solid gray;box-sizing: border-box;top: 0;bottom: 0;left: 50%;z-index: 0;}#sk-container-id-1 div.sk-serial {display: flex;flex-direction: column;align-items: center;background-color: white;padding-right: 0.2em;padding-left: 0.2em;position: relative;}#sk-container-id-1 div.sk-item {position: relative;z-index: 1;}#sk-container-id-1 div.sk-parallel {display: flex;align-items: stretch;justify-content: center;background-color: white;position: relative;}#sk-container-id-1 div.sk-item::before, #sk-container-id-1 div.sk-parallel-item::before {content: \"\";position: absolute;border-left: 1px solid gray;box-sizing: border-box;top: 0;bottom: 0;left: 50%;z-index: -1;}#sk-container-id-1 div.sk-parallel-item {display: flex;flex-direction: column;z-index: 1;position: relative;background-color: white;}#sk-container-id-1 div.sk-parallel-item:first-child::after {align-self: flex-end;width: 50%;}#sk-container-id-1 div.sk-parallel-item:last-child::after {align-self: flex-start;width: 50%;}#sk-container-id-1 div.sk-parallel-item:only-child::after {width: 0;}#sk-container-id-1 div.sk-dashed-wrapped {border: 1px dashed gray;margin: 0 0.4em 0.5em 0.4em;box-sizing: border-box;padding-bottom: 0.4em;background-color: white;}#sk-container-id-1 div.sk-label label {font-family: monospace;font-weight: bold;display: inline-block;line-height: 1.2em;}#sk-container-id-1 div.sk-label-container {text-align: center;}#sk-container-id-1 div.sk-container {/* jupyter's `normalize.less` sets `[hidden] { display: none; }` but bootstrap.min.css set `[hidden] { display: none !important; }` so we also need the `!important` here to be able to override the default hidden behavior on the sphinx rendered scikit-learn.org. See: https://github.com/scikit-learn/scikit-learn/issues/21755 */display: inline-block !important;position: relative;}#sk-container-id-1 div.sk-text-repr-fallback {display: none;}</style><div id=\"sk-container-id-1\" class=\"sk-top-container\"><div class=\"sk-text-repr-fallback\"><pre>LGBMRegressor(metric=&#x27;rmse&#x27;, objective=&#x27;regression&#x27;, random_state=42)</pre><b>In a Jupyter environment, please rerun this cell to show the HTML representation or trust the notebook. <br />On GitHub, the HTML representation is unable to render, please try loading this page with nbviewer.org.</b></div><div class=\"sk-container\" hidden><div class=\"sk-item\"><div class=\"sk-estimator sk-toggleable\"><input class=\"sk-toggleable__control sk-hidden--visually\" id=\"sk-estimator-id-1\" type=\"checkbox\" checked><label for=\"sk-estimator-id-1\" class=\"sk-toggleable__label sk-toggleable__label-arrow\">LGBMRegressor</label><div class=\"sk-toggleable__content\"><pre>LGBMRegressor(metric=&#x27;rmse&#x27;, objective=&#x27;regression&#x27;, random_state=42)</pre></div></div></div></div></div>"
      ],
      "text/plain": [
       "LGBMRegressor(metric='rmse', objective='regression', random_state=42)"
      ]
     },
     "execution_count": 26,
     "metadata": {},
     "output_type": "execute_result"
    }
   ],
   "source": [
    "import lightgbm as lgb\n",
    "\n",
    "\n",
    "lgb = lgb.LGBMRegressor(\n",
    "    objective = 'regression', \n",
    "    metric = 'rmse',\n",
    "    num_leaves = 31, \n",
    "    learning_rate = 0.1,\n",
    "    n_estimators = 100,\n",
    "    random_state = 42\n",
    ")\n",
    "\n",
    "lgb.fit(x_train, y_train)"
   ]
  },
  {
   "cell_type": "code",
   "execution_count": 27,
   "metadata": {},
   "outputs": [
    {
     "data": {
      "text/plain": [
       "{'MSE': 21.634460258315727, 'MAE': 1.061390419376324, 'R2': 0.79}"
      ]
     },
     "execution_count": 27,
     "metadata": {},
     "output_type": "execute_result"
    }
   ],
   "source": [
    "y_p = lgb.predict(x_test)\n",
    "\n",
    "get_score(y_test, y_p)"
   ]
  },
  {
   "cell_type": "code",
   "execution_count": 28,
   "metadata": {},
   "outputs": [],
   "source": [
    "save_model(lgb, 'lightGBM.pkl')\n",
    "save_metric(y_test, y_p, 'lightGBM.json')"
   ]
  },
  {
   "cell_type": "markdown",
   "metadata": {},
   "source": [
    "### *XGBoost*"
   ]
  },
  {
   "cell_type": "code",
   "execution_count": 31,
   "metadata": {},
   "outputs": [
    {
     "name": "stderr",
     "output_type": "stream",
     "text": [
      "c:\\Users\\91790\\anaconda3\\Lib\\site-packages\\xgboost\\core.py:158: UserWarning: [23:06:33] WARNING: C:\\buildkite-agent\\builds\\buildkite-windows-cpu-autoscaling-group-i-06abd128ca6c1688d-1\\xgboost\\xgboost-ci-windows\\src\\learner.cc:740: \n",
      "Parameters: { \"max_depths\" } are not used.\n",
      "\n",
      "  warnings.warn(smsg, UserWarning)\n"
     ]
    },
    {
     "data": {
      "text/html": [
       "<style>#sk-container-id-2 {color: black;}#sk-container-id-2 pre{padding: 0;}#sk-container-id-2 div.sk-toggleable {background-color: white;}#sk-container-id-2 label.sk-toggleable__label {cursor: pointer;display: block;width: 100%;margin-bottom: 0;padding: 0.3em;box-sizing: border-box;text-align: center;}#sk-container-id-2 label.sk-toggleable__label-arrow:before {content: \"▸\";float: left;margin-right: 0.25em;color: #696969;}#sk-container-id-2 label.sk-toggleable__label-arrow:hover:before {color: black;}#sk-container-id-2 div.sk-estimator:hover label.sk-toggleable__label-arrow:before {color: black;}#sk-container-id-2 div.sk-toggleable__content {max-height: 0;max-width: 0;overflow: hidden;text-align: left;background-color: #f0f8ff;}#sk-container-id-2 div.sk-toggleable__content pre {margin: 0.2em;color: black;border-radius: 0.25em;background-color: #f0f8ff;}#sk-container-id-2 input.sk-toggleable__control:checked~div.sk-toggleable__content {max-height: 200px;max-width: 100%;overflow: auto;}#sk-container-id-2 input.sk-toggleable__control:checked~label.sk-toggleable__label-arrow:before {content: \"▾\";}#sk-container-id-2 div.sk-estimator input.sk-toggleable__control:checked~label.sk-toggleable__label {background-color: #d4ebff;}#sk-container-id-2 div.sk-label input.sk-toggleable__control:checked~label.sk-toggleable__label {background-color: #d4ebff;}#sk-container-id-2 input.sk-hidden--visually {border: 0;clip: rect(1px 1px 1px 1px);clip: rect(1px, 1px, 1px, 1px);height: 1px;margin: -1px;overflow: hidden;padding: 0;position: absolute;width: 1px;}#sk-container-id-2 div.sk-estimator {font-family: monospace;background-color: #f0f8ff;border: 1px dotted black;border-radius: 0.25em;box-sizing: border-box;margin-bottom: 0.5em;}#sk-container-id-2 div.sk-estimator:hover {background-color: #d4ebff;}#sk-container-id-2 div.sk-parallel-item::after {content: \"\";width: 100%;border-bottom: 1px solid gray;flex-grow: 1;}#sk-container-id-2 div.sk-label:hover label.sk-toggleable__label {background-color: #d4ebff;}#sk-container-id-2 div.sk-serial::before {content: \"\";position: absolute;border-left: 1px solid gray;box-sizing: border-box;top: 0;bottom: 0;left: 50%;z-index: 0;}#sk-container-id-2 div.sk-serial {display: flex;flex-direction: column;align-items: center;background-color: white;padding-right: 0.2em;padding-left: 0.2em;position: relative;}#sk-container-id-2 div.sk-item {position: relative;z-index: 1;}#sk-container-id-2 div.sk-parallel {display: flex;align-items: stretch;justify-content: center;background-color: white;position: relative;}#sk-container-id-2 div.sk-item::before, #sk-container-id-2 div.sk-parallel-item::before {content: \"\";position: absolute;border-left: 1px solid gray;box-sizing: border-box;top: 0;bottom: 0;left: 50%;z-index: -1;}#sk-container-id-2 div.sk-parallel-item {display: flex;flex-direction: column;z-index: 1;position: relative;background-color: white;}#sk-container-id-2 div.sk-parallel-item:first-child::after {align-self: flex-end;width: 50%;}#sk-container-id-2 div.sk-parallel-item:last-child::after {align-self: flex-start;width: 50%;}#sk-container-id-2 div.sk-parallel-item:only-child::after {width: 0;}#sk-container-id-2 div.sk-dashed-wrapped {border: 1px dashed gray;margin: 0 0.4em 0.5em 0.4em;box-sizing: border-box;padding-bottom: 0.4em;background-color: white;}#sk-container-id-2 div.sk-label label {font-family: monospace;font-weight: bold;display: inline-block;line-height: 1.2em;}#sk-container-id-2 div.sk-label-container {text-align: center;}#sk-container-id-2 div.sk-container {/* jupyter's `normalize.less` sets `[hidden] { display: none; }` but bootstrap.min.css set `[hidden] { display: none !important; }` so we also need the `!important` here to be able to override the default hidden behavior on the sphinx rendered scikit-learn.org. See: https://github.com/scikit-learn/scikit-learn/issues/21755 */display: inline-block !important;position: relative;}#sk-container-id-2 div.sk-text-repr-fallback {display: none;}</style><div id=\"sk-container-id-2\" class=\"sk-top-container\"><div class=\"sk-text-repr-fallback\"><pre>XGBRegressor(base_score=None, booster=None, callbacks=None,\n",
       "             colsample_bylevel=None, colsample_bynode=None,\n",
       "             colsample_bytree=None, device=None, early_stopping_rounds=None,\n",
       "             enable_categorical=False, eval_metric=None, feature_types=None,\n",
       "             gamma=None, grow_policy=None, importance_type=None,\n",
       "             interaction_constraints=None, learning_rate=0.1, max_bin=None,\n",
       "             max_cat_threshold=None, max_cat_to_onehot=None,\n",
       "             max_delta_step=None, max_depth=None, max_depths=6, max_leaves=None,\n",
       "             min_child_weight=None, missing=nan, monotone_constraints=None,\n",
       "             multi_strategy=None, n_estimators=100, n_jobs=None,\n",
       "             num_parallel_tree=None, ...)</pre><b>In a Jupyter environment, please rerun this cell to show the HTML representation or trust the notebook. <br />On GitHub, the HTML representation is unable to render, please try loading this page with nbviewer.org.</b></div><div class=\"sk-container\" hidden><div class=\"sk-item\"><div class=\"sk-estimator sk-toggleable\"><input class=\"sk-toggleable__control sk-hidden--visually\" id=\"sk-estimator-id-2\" type=\"checkbox\" checked><label for=\"sk-estimator-id-2\" class=\"sk-toggleable__label sk-toggleable__label-arrow\">XGBRegressor</label><div class=\"sk-toggleable__content\"><pre>XGBRegressor(base_score=None, booster=None, callbacks=None,\n",
       "             colsample_bylevel=None, colsample_bynode=None,\n",
       "             colsample_bytree=None, device=None, early_stopping_rounds=None,\n",
       "             enable_categorical=False, eval_metric=None, feature_types=None,\n",
       "             gamma=None, grow_policy=None, importance_type=None,\n",
       "             interaction_constraints=None, learning_rate=0.1, max_bin=None,\n",
       "             max_cat_threshold=None, max_cat_to_onehot=None,\n",
       "             max_delta_step=None, max_depth=None, max_depths=6, max_leaves=None,\n",
       "             min_child_weight=None, missing=nan, monotone_constraints=None,\n",
       "             multi_strategy=None, n_estimators=100, n_jobs=None,\n",
       "             num_parallel_tree=None, ...)</pre></div></div></div></div></div>"
      ],
      "text/plain": [
       "XGBRegressor(base_score=None, booster=None, callbacks=None,\n",
       "             colsample_bylevel=None, colsample_bynode=None,\n",
       "             colsample_bytree=None, device=None, early_stopping_rounds=None,\n",
       "             enable_categorical=False, eval_metric=None, feature_types=None,\n",
       "             gamma=None, grow_policy=None, importance_type=None,\n",
       "             interaction_constraints=None, learning_rate=0.1, max_bin=None,\n",
       "             max_cat_threshold=None, max_cat_to_onehot=None,\n",
       "             max_delta_step=None, max_depth=None, max_depths=6, max_leaves=None,\n",
       "             min_child_weight=None, missing=nan, monotone_constraints=None,\n",
       "             multi_strategy=None, n_estimators=100, n_jobs=None,\n",
       "             num_parallel_tree=None, ...)"
      ]
     },
     "execution_count": 31,
     "metadata": {},
     "output_type": "execute_result"
    }
   ],
   "source": [
    "# !pip install xgboost\n",
    "import xgboost as xgb \n",
    "\n",
    "xgb = xgb.XGBRegressor(\n",
    "    objective = 'reg:squarederror',\n",
    "    max_depths = 6,\n",
    "    n_estimators = 100,\n",
    "    learning_rate = 0.1,\n",
    "    random_state = 42\n",
    ")\n",
    "\n",
    "xgb.fit(x_train, y_train)"
   ]
  },
  {
   "cell_type": "code",
   "execution_count": 32,
   "metadata": {},
   "outputs": [
    {
     "data": {
      "text/plain": [
       "{'MSE': 21.8010432112991, 'MAE': 1.0705830352038312, 'R2': 0.79}"
      ]
     },
     "execution_count": 32,
     "metadata": {},
     "output_type": "execute_result"
    }
   ],
   "source": [
    "y_pred = xgb.predict(x_test)\n",
    "\n",
    "get_score(y_test, y_pred)"
   ]
  },
  {
   "cell_type": "code",
   "execution_count": 33,
   "metadata": {},
   "outputs": [],
   "source": [
    "save_model(xgb, 'xgbRegressor.pkl')\n",
    "save_metric(y_test, y_pred, 'xgbRegressor.json ')"
   ]
  },
  {
   "cell_type": "code",
   "execution_count": 70,
   "metadata": {},
   "outputs": [
    {
     "data": {
      "text/plain": [
       "2581650    15.3\n",
       "Name: revenue, dtype: float64"
      ]
     },
     "execution_count": 70,
     "metadata": {},
     "output_type": "execute_result"
    }
   ],
   "source": [
    "y_test.sample(20)\n",
    "y_test.loc[[2581650]]"
   ]
  },
  {
   "cell_type": "code",
   "execution_count": 71,
   "metadata": {},
   "outputs": [
    {
     "data": {
      "text/html": [
       "<div>\n",
       "<style scoped>\n",
       "    .dataframe tbody tr th:only-of-type {\n",
       "        vertical-align: middle;\n",
       "    }\n",
       "\n",
       "    .dataframe tbody tr th {\n",
       "        vertical-align: top;\n",
       "    }\n",
       "\n",
       "    .dataframe thead th {\n",
       "        text-align: right;\n",
       "    }\n",
       "</style>\n",
       "<table border=\"1\" class=\"dataframe\">\n",
       "  <thead>\n",
       "    <tr style=\"text-align: right;\">\n",
       "      <th></th>\n",
       "      <th>day</th>\n",
       "      <th>adFlag</th>\n",
       "      <th>availability</th>\n",
       "      <th>click</th>\n",
       "      <th>basket</th>\n",
       "      <th>order</th>\n",
       "      <th>price</th>\n",
       "      <th>manufacturer</th>\n",
       "      <th>group</th>\n",
       "      <th>content</th>\n",
       "      <th>unit</th>\n",
       "      <th>pharmForm</th>\n",
       "      <th>genericProduct</th>\n",
       "      <th>salesIndex</th>\n",
       "      <th>category</th>\n",
       "    </tr>\n",
       "  </thead>\n",
       "  <tbody>\n",
       "    <tr>\n",
       "      <th>2581650</th>\n",
       "      <td>1.579637</td>\n",
       "      <td>-0.69664</td>\n",
       "      <td>-0.24604</td>\n",
       "      <td>-1.152037</td>\n",
       "      <td>-0.454814</td>\n",
       "      <td>1.69453</td>\n",
       "      <td>-0.455136</td>\n",
       "      <td>-0.648389</td>\n",
       "      <td>-2.165773</td>\n",
       "      <td>1.183135</td>\n",
       "      <td>-1.992393</td>\n",
       "      <td>-0.788809</td>\n",
       "      <td>-0.348833</td>\n",
       "      <td>-0.95095</td>\n",
       "      <td>0.2943</td>\n",
       "    </tr>\n",
       "  </tbody>\n",
       "</table>\n",
       "</div>"
      ],
      "text/plain": [
       "              day   adFlag  availability     click    basket    order  \\\n",
       "2581650  1.579637 -0.69664      -0.24604 -1.152037 -0.454814  1.69453   \n",
       "\n",
       "            price  manufacturer     group   content      unit  pharmForm  \\\n",
       "2581650 -0.455136     -0.648389 -2.165773  1.183135 -1.992393  -0.788809   \n",
       "\n",
       "         genericProduct  salesIndex  category  \n",
       "2581650       -0.348833    -0.95095    0.2943  "
      ]
     },
     "execution_count": 71,
     "metadata": {},
     "output_type": "execute_result"
    }
   ],
   "source": [
    "sam = x_test.loc[[2581650]]\n",
    "sam"
   ]
  },
  {
   "cell_type": "code",
   "execution_count": 72,
   "metadata": {},
   "outputs": [
    {
     "data": {
      "text/plain": [
       "array([9.145314], dtype=float32)"
      ]
     },
     "execution_count": 72,
     "metadata": {},
     "output_type": "execute_result"
    }
   ],
   "source": [
    "res = xgb.predict(sam)\n",
    "res"
   ]
  },
  {
   "cell_type": "code",
   "execution_count": 47,
   "metadata": {},
   "outputs": [
    {
     "data": {
      "text/html": [
       "<div>\n",
       "<style scoped>\n",
       "    .dataframe tbody tr th:only-of-type {\n",
       "        vertical-align: middle;\n",
       "    }\n",
       "\n",
       "    .dataframe tbody tr th {\n",
       "        vertical-align: top;\n",
       "    }\n",
       "\n",
       "    .dataframe thead th {\n",
       "        text-align: right;\n",
       "    }\n",
       "</style>\n",
       "<table border=\"1\" class=\"dataframe\">\n",
       "  <thead>\n",
       "    <tr style=\"text-align: right;\">\n",
       "      <th></th>\n",
       "      <th>day</th>\n",
       "      <th>adFlag</th>\n",
       "      <th>availability</th>\n",
       "      <th>click</th>\n",
       "      <th>basket</th>\n",
       "      <th>order</th>\n",
       "      <th>price</th>\n",
       "      <th>manufacturer</th>\n",
       "      <th>group</th>\n",
       "      <th>content</th>\n",
       "      <th>unit</th>\n",
       "      <th>pharmForm</th>\n",
       "      <th>genericProduct</th>\n",
       "      <th>salesIndex</th>\n",
       "      <th>category</th>\n",
       "    </tr>\n",
       "  </thead>\n",
       "  <tbody>\n",
       "    <tr>\n",
       "      <th>648681</th>\n",
       "      <td>-0.789116</td>\n",
       "      <td>1.435461</td>\n",
       "      <td>-0.24604</td>\n",
       "      <td>-1.152037</td>\n",
       "      <td>-0.454814</td>\n",
       "      <td>1.694530</td>\n",
       "      <td>-0.821732</td>\n",
       "      <td>-0.485196</td>\n",
       "      <td>-0.060894</td>\n",
       "      <td>-0.615206</td>\n",
       "      <td>-0.132315</td>\n",
       "      <td>0.220560</td>\n",
       "      <td>2.866704</td>\n",
       "      <td>-0.950950</td>\n",
       "      <td>-0.527564</td>\n",
       "    </tr>\n",
       "    <tr>\n",
       "      <th>869897</th>\n",
       "      <td>-0.552241</td>\n",
       "      <td>1.435461</td>\n",
       "      <td>-0.24604</td>\n",
       "      <td>-1.152037</td>\n",
       "      <td>-0.454814</td>\n",
       "      <td>1.694530</td>\n",
       "      <td>2.233240</td>\n",
       "      <td>-0.398159</td>\n",
       "      <td>-0.994799</td>\n",
       "      <td>1.170008</td>\n",
       "      <td>-0.132315</td>\n",
       "      <td>0.238268</td>\n",
       "      <td>-0.348833</td>\n",
       "      <td>-0.950950</td>\n",
       "      <td>0.080828</td>\n",
       "    </tr>\n",
       "    <tr>\n",
       "      <th>1788518</th>\n",
       "      <td>0.592656</td>\n",
       "      <td>-0.696640</td>\n",
       "      <td>-0.24604</td>\n",
       "      <td>-1.152037</td>\n",
       "      <td>-0.454814</td>\n",
       "      <td>1.694530</td>\n",
       "      <td>1.340818</td>\n",
       "      <td>2.419642</td>\n",
       "      <td>1.174735</td>\n",
       "      <td>-1.205901</td>\n",
       "      <td>0.797724</td>\n",
       "      <td>-0.222146</td>\n",
       "      <td>-0.348833</td>\n",
       "      <td>1.075866</td>\n",
       "      <td>-0.687668</td>\n",
       "    </tr>\n",
       "    <tr>\n",
       "      <th>1372600</th>\n",
       "      <td>0.079427</td>\n",
       "      <td>-0.696640</td>\n",
       "      <td>-0.24604</td>\n",
       "      <td>0.868028</td>\n",
       "      <td>-0.454814</td>\n",
       "      <td>-0.590134</td>\n",
       "      <td>-0.195926</td>\n",
       "      <td>-0.893179</td>\n",
       "      <td>-0.542214</td>\n",
       "      <td>-1.205901</td>\n",
       "      <td>0.332705</td>\n",
       "      <td>-0.222146</td>\n",
       "      <td>-0.348833</td>\n",
       "      <td>1.075866</td>\n",
       "      <td>-0.580932</td>\n",
       "    </tr>\n",
       "    <tr>\n",
       "      <th>1194970</th>\n",
       "      <td>-0.157449</td>\n",
       "      <td>-0.696640</td>\n",
       "      <td>-0.24604</td>\n",
       "      <td>0.868028</td>\n",
       "      <td>-0.454814</td>\n",
       "      <td>-0.590134</td>\n",
       "      <td>1.011251</td>\n",
       "      <td>0.885627</td>\n",
       "      <td>0.650311</td>\n",
       "      <td>-1.205901</td>\n",
       "      <td>0.797724</td>\n",
       "      <td>1.105971</td>\n",
       "      <td>-0.348833</td>\n",
       "      <td>1.075866</td>\n",
       "      <td>0.315647</td>\n",
       "    </tr>\n",
       "    <tr>\n",
       "      <th>...</th>\n",
       "      <td>...</td>\n",
       "      <td>...</td>\n",
       "      <td>...</td>\n",
       "      <td>...</td>\n",
       "      <td>...</td>\n",
       "      <td>...</td>\n",
       "      <td>...</td>\n",
       "      <td>...</td>\n",
       "      <td>...</td>\n",
       "      <td>...</td>\n",
       "      <td>...</td>\n",
       "      <td>...</td>\n",
       "      <td>...</td>\n",
       "      <td>...</td>\n",
       "      <td>...</td>\n",
       "    </tr>\n",
       "    <tr>\n",
       "      <th>532221</th>\n",
       "      <td>-0.947033</td>\n",
       "      <td>-0.696640</td>\n",
       "      <td>-0.24604</td>\n",
       "      <td>0.868028</td>\n",
       "      <td>-0.454814</td>\n",
       "      <td>-0.590134</td>\n",
       "      <td>-0.379595</td>\n",
       "      <td>0.151258</td>\n",
       "      <td>0.959219</td>\n",
       "      <td>0.421793</td>\n",
       "      <td>-0.132315</td>\n",
       "      <td>-1.355472</td>\n",
       "      <td>-0.348833</td>\n",
       "      <td>1.075866</td>\n",
       "      <td>1.447044</td>\n",
       "    </tr>\n",
       "    <tr>\n",
       "      <th>1002447</th>\n",
       "      <td>-0.394324</td>\n",
       "      <td>1.435461</td>\n",
       "      <td>-0.24604</td>\n",
       "      <td>0.868028</td>\n",
       "      <td>-0.454814</td>\n",
       "      <td>-0.590134</td>\n",
       "      <td>0.440990</td>\n",
       "      <td>0.455885</td>\n",
       "      <td>1.160368</td>\n",
       "      <td>-1.159958</td>\n",
       "      <td>-0.132315</td>\n",
       "      <td>1.300762</td>\n",
       "      <td>-0.348833</td>\n",
       "      <td>-0.950950</td>\n",
       "      <td>2.461032</td>\n",
       "    </tr>\n",
       "    <tr>\n",
       "      <th>1929157</th>\n",
       "      <td>0.750573</td>\n",
       "      <td>-0.696640</td>\n",
       "      <td>-0.24604</td>\n",
       "      <td>0.868028</td>\n",
       "      <td>-0.454814</td>\n",
       "      <td>-0.590134</td>\n",
       "      <td>-0.862465</td>\n",
       "      <td>0.118619</td>\n",
       "      <td>0.887380</td>\n",
       "      <td>-0.195155</td>\n",
       "      <td>-1.992393</td>\n",
       "      <td>-1.036724</td>\n",
       "      <td>-0.348833</td>\n",
       "      <td>1.075866</td>\n",
       "      <td>-0.378135</td>\n",
       "    </tr>\n",
       "    <tr>\n",
       "      <th>196906</th>\n",
       "      <td>-1.578700</td>\n",
       "      <td>1.435461</td>\n",
       "      <td>-0.24604</td>\n",
       "      <td>-1.152037</td>\n",
       "      <td>2.198701</td>\n",
       "      <td>-0.590134</td>\n",
       "      <td>1.255649</td>\n",
       "      <td>-0.833341</td>\n",
       "      <td>-1.698821</td>\n",
       "      <td>1.859153</td>\n",
       "      <td>0.797724</td>\n",
       "      <td>-0.629435</td>\n",
       "      <td>-0.348833</td>\n",
       "      <td>-0.950950</td>\n",
       "      <td>1.970049</td>\n",
       "    </tr>\n",
       "    <tr>\n",
       "      <th>1067218</th>\n",
       "      <td>-0.315366</td>\n",
       "      <td>1.435461</td>\n",
       "      <td>-0.24604</td>\n",
       "      <td>0.868028</td>\n",
       "      <td>-0.454814</td>\n",
       "      <td>-0.590134</td>\n",
       "      <td>-0.821732</td>\n",
       "      <td>-0.833341</td>\n",
       "      <td>-0.470375</td>\n",
       "      <td>-0.313294</td>\n",
       "      <td>0.797724</td>\n",
       "      <td>-0.859642</td>\n",
       "      <td>2.866704</td>\n",
       "      <td>-0.950950</td>\n",
       "      <td>-0.698341</td>\n",
       "    </tr>\n",
       "  </tbody>\n",
       "</table>\n",
       "<p>533722 rows × 15 columns</p>\n",
       "</div>"
      ],
      "text/plain": [
       "              day    adFlag  availability     click    basket     order  \\\n",
       "648681  -0.789116  1.435461      -0.24604 -1.152037 -0.454814  1.694530   \n",
       "869897  -0.552241  1.435461      -0.24604 -1.152037 -0.454814  1.694530   \n",
       "1788518  0.592656 -0.696640      -0.24604 -1.152037 -0.454814  1.694530   \n",
       "1372600  0.079427 -0.696640      -0.24604  0.868028 -0.454814 -0.590134   \n",
       "1194970 -0.157449 -0.696640      -0.24604  0.868028 -0.454814 -0.590134   \n",
       "...           ...       ...           ...       ...       ...       ...   \n",
       "532221  -0.947033 -0.696640      -0.24604  0.868028 -0.454814 -0.590134   \n",
       "1002447 -0.394324  1.435461      -0.24604  0.868028 -0.454814 -0.590134   \n",
       "1929157  0.750573 -0.696640      -0.24604  0.868028 -0.454814 -0.590134   \n",
       "196906  -1.578700  1.435461      -0.24604 -1.152037  2.198701 -0.590134   \n",
       "1067218 -0.315366  1.435461      -0.24604  0.868028 -0.454814 -0.590134   \n",
       "\n",
       "            price  manufacturer     group   content      unit  pharmForm  \\\n",
       "648681  -0.821732     -0.485196 -0.060894 -0.615206 -0.132315   0.220560   \n",
       "869897   2.233240     -0.398159 -0.994799  1.170008 -0.132315   0.238268   \n",
       "1788518  1.340818      2.419642  1.174735 -1.205901  0.797724  -0.222146   \n",
       "1372600 -0.195926     -0.893179 -0.542214 -1.205901  0.332705  -0.222146   \n",
       "1194970  1.011251      0.885627  0.650311 -1.205901  0.797724   1.105971   \n",
       "...           ...           ...       ...       ...       ...        ...   \n",
       "532221  -0.379595      0.151258  0.959219  0.421793 -0.132315  -1.355472   \n",
       "1002447  0.440990      0.455885  1.160368 -1.159958 -0.132315   1.300762   \n",
       "1929157 -0.862465      0.118619  0.887380 -0.195155 -1.992393  -1.036724   \n",
       "196906   1.255649     -0.833341 -1.698821  1.859153  0.797724  -0.629435   \n",
       "1067218 -0.821732     -0.833341 -0.470375 -0.313294  0.797724  -0.859642   \n",
       "\n",
       "         genericProduct  salesIndex  category  \n",
       "648681         2.866704   -0.950950 -0.527564  \n",
       "869897        -0.348833   -0.950950  0.080828  \n",
       "1788518       -0.348833    1.075866 -0.687668  \n",
       "1372600       -0.348833    1.075866 -0.580932  \n",
       "1194970       -0.348833    1.075866  0.315647  \n",
       "...                 ...         ...       ...  \n",
       "532221        -0.348833    1.075866  1.447044  \n",
       "1002447       -0.348833   -0.950950  2.461032  \n",
       "1929157       -0.348833    1.075866 -0.378135  \n",
       "196906        -0.348833   -0.950950  1.970049  \n",
       "1067218        2.866704   -0.950950 -0.698341  \n",
       "\n",
       "[533722 rows x 15 columns]"
      ]
     },
     "execution_count": 47,
     "metadata": {},
     "output_type": "execute_result"
    }
   ],
   "source": [
    "x_test"
   ]
  },
  {
   "cell_type": "code",
   "execution_count": null,
   "metadata": {},
   "outputs": [],
   "source": []
  }
 ],
 "metadata": {
  "kernelspec": {
   "display_name": "base",
   "language": "python",
   "name": "python3"
  },
  "language_info": {
   "codemirror_mode": {
    "name": "ipython",
    "version": 3
   },
   "file_extension": ".py",
   "mimetype": "text/x-python",
   "name": "python",
   "nbconvert_exporter": "python",
   "pygments_lexer": "ipython3",
   "version": "3.11.5"
  }
 },
 "nbformat": 4,
 "nbformat_minor": 2
}
